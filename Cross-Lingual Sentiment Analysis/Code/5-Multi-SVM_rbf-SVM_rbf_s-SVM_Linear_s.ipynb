{
 "cells": [
  {
   "cell_type": "code",
   "execution_count": 1,
   "id": "f6541aeb",
   "metadata": {},
   "outputs": [],
   "source": [
    "from gensim.models import KeyedVectors\n",
    "\n",
    "fr_embeddings = KeyedVectors.load_word2vec_format(\"wiki.multi.fr.vec\")\n",
    "en_embeddings = KeyedVectors.load_word2vec_format(\"wiki.multi.en.vec\")\n",
    "\n",
    "from gensim.models import KeyedVectors\n",
    "import numpy as np\n",
    "\n",
    "ar_embeddings = KeyedVectors.load_word2vec_format(\"wiki.multi.ar.vec\", limit=50000)\n",
    "\n",
    "# Pad the vectors with zeros to match the desired dimensionality (300 in this case)\n",
    "vector_size = 300\n",
    "new_vectors = np.zeros((len(ar_embeddings.key_to_index), vector_size))\n",
    "for word, idx in ar_embeddings.key_to_index.items():\n",
    "    if len(ar_embeddings.get_vector(word)) == vector_size:\n",
    "        new_vectors[idx] = ar_embeddings.get_vector(word)\n",
    "    else:\n",
    "        print(f\"Skipping word '{word}' with vector size {len(ar_embeddings.get_vector(word))}\")\n",
    "ar_embeddings.vectors = new_vectors\n",
    "ar_embeddings.vector_size = vector_size\n",
    "\n",
    "import nltk\n",
    "import numpy as np\n",
    "from wordfreq import word_frequency\n",
    "from sklearn.decomposition import TruncatedSVD\n",
    "\n",
    "\n",
    "def compute_sentence_embeddings(questions, word_embeddings, language, a=0.001): \n",
    "    \n",
    "    question_embeddings = []\n",
    "    for question in questions: \n",
    "        tokens = [t.lower() for t in nltk.word_tokenize(question)]\n",
    "        tokens = [token for token in tokens if token in word_embeddings]\n",
    "\n",
    "        weights = [a/(a+word_frequency(token, language)) for token in tokens]\n",
    "        embedding = np.average([word_embeddings[token] for token in tokens], axis=0, weights=weights)\n",
    "        question_embeddings.append(embedding)\n",
    "        \n",
    "    return question_embeddings\n",
    "\n"
   ]
  },
  {
   "cell_type": "markdown",
   "id": "c93f9cbe",
   "metadata": {},
   "source": [
    "## SVM rbf "
   ]
  },
  {
   "cell_type": "code",
   "execution_count": 2,
   "id": "dc9bbee7",
   "metadata": {},
   "outputs": [
    {
     "name": "stdout",
     "output_type": "stream",
     "text": [
      "                                              review sentiment\n",
      "0  One of the other reviewers has mentioned that ...  positive\n",
      "1  A wonderful little production. <br /><br />The...  positive\n",
      "2  I thought this was a wonderful way to spend ti...  positive\n",
      "3  Basically there's a family where a little boy ...  negative\n",
      "4  Petter Mattei's \"Love in the Time of Money\" is...  positive\n",
      "Accuracy: 0.8422\n",
      "              precision    recall  f1-score   support\n",
      "\n",
      "    negative       0.84      0.84      0.84      4961\n",
      "    positive       0.85      0.84      0.84      5039\n",
      "\n",
      "    accuracy                           0.84     10000\n",
      "   macro avg       0.84      0.84      0.84     10000\n",
      "weighted avg       0.84      0.84      0.84     10000\n",
      "\n"
     ]
    }
   ],
   "source": [
    "import pandas as pd\n",
    "\n",
    "# Read the CSV file into a DataFrame object\n",
    "df = pd.read_csv('/Users/ALI/Desktop/IMDB Dataset.csv')\n",
    "\n",
    "# Print the first 5 rows of the DataFrame\n",
    "print(df.head(5))\n",
    "reviews_all_en_emb = compute_sentence_embeddings(df['review'], en_embeddings, \"en\")\n",
    "# Apply sentence embeddings to first column of dataframe\n",
    "reviews = df.iloc[:, 0].tolist()\n",
    "reviews_embeddings = compute_sentence_embeddings(reviews, en_embeddings, \"en\")\n",
    "\n",
    "# Add new column with embeddings to dataframe\n",
    "df['English_Embeddings'] = reviews_embeddings\n",
    "import pandas as pd\n",
    "import numpy as np\n",
    "from sklearn.model_selection import train_test_split\n",
    "from sklearn.svm import SVC\n",
    "from sklearn.metrics import accuracy_score, classification_report\n",
    "\n",
    "# Separate the input features (sentence embeddings) and output labels (sentiment)\n",
    "X = np.vstack(df[\"English_Embeddings\"])  # input features (sentence embeddings)\n",
    "y = df[\"sentiment\"]  # output labels (sentiment)\n",
    "\n",
    "# Split the data into training and testing sets\n",
    "X_train, X_test, y_train, y_test = train_test_split(X, y, test_size=0.2, random_state=42)\n",
    "\n",
    "# Train an SVM with RBF kernel on the training set\n",
    "svm = SVC(kernel='rbf')\n",
    "history = svm.fit(X_train, y_train)\n",
    "\n",
    "# Evaluate the performance of the SVM on the testing set\n",
    "y_pred = svm.predict(X_test)\n",
    "\n",
    "\n",
    "accuracy = accuracy_score(y_test, y_pred)\n",
    "report = classification_report(y_test, y_pred)\n",
    "print(\"Accuracy:\", accuracy)\n",
    "print(report)"
   ]
  },
  {
   "cell_type": "code",
   "execution_count": 3,
   "id": "7327dac3",
   "metadata": {},
   "outputs": [
    {
     "name": "stdout",
     "output_type": "stream",
     "text": [
      "[[4185  776]\n",
      " [ 802 4237]]\n"
     ]
    },
    {
     "data": {
      "image/png": "[encoded data removed]",
      "text/plain": [
       "<Figure size 640x480 with 2 Axes>"
      ]
     },
     "metadata": {},
     "output_type": "display_data"
    }
   ],
   "source": [
    "import numpy as np\n",
    "import seaborn as sns\n",
    "import matplotlib.pyplot as plt\n",
    "from sklearn.metrics import confusion_matrix\n",
    "\n",
    "cm = confusion_matrix(y_test, y_pred)\n",
    "\n",
    "print(cm)\n",
    "\n",
    "# Create a heatmap\n",
    "sns.heatmap(cm, annot=True, fmt=\"d\", cmap=\"Blues\")\n",
    "\n",
    "# Add labels, title, and ticks\n",
    "plt.xlabel(\"Predicted Labels\")\n",
    "plt.ylabel(\"True Labels\")\n",
    "plt.title(\"Confusion Matrix\")\n",
    "\n",
    "# Show the plot\n",
    "plt.show()"
   ]
  },
  {
   "cell_type": "code",
   "execution_count": null,
   "id": "db4cb634",
   "metadata": {},
   "outputs": [],
   "source": []
  },
  {
   "cell_type": "markdown",
   "id": "75538a01",
   "metadata": {},
   "source": [
    "## Arabic"
   ]
  },
  {
   "cell_type": "code",
   "execution_count": 4,
   "id": "46ffec02",
   "metadata": {},
   "outputs": [
    {
     "name": "stdout",
     "output_type": "stream",
     "text": [
      "(105698, 7)\n",
      "(500, 7)\n",
      "Accuracy: 0.53125\n",
      "              precision    recall  f1-score   support\n",
      "\n",
      "    negative       0.86      0.07      0.14        80\n",
      "    positive       0.52      0.99      0.68        80\n",
      "\n",
      "    accuracy                           0.53       160\n",
      "   macro avg       0.69      0.53      0.41       160\n",
      "weighted avg       0.69      0.53      0.41       160\n",
      "\n"
     ]
    }
   ],
   "source": [
    "df = pd.read_excel('../../base-line/balanced-reviews.xlsx')\n",
    "print(df.shape)\n",
    "df = df.head(500)\n",
    "print(df.shape)\n",
    "df.head()\n",
    "\n",
    "# determine the minimum number of rows for each rating value\n",
    "min_count = df[\"rating\"].value_counts().min()\n",
    "min_count = 40\n",
    "# subset the original dataset for each rating value\n",
    "df_1 = df[df[\"rating\"] == 1]\n",
    "df_2 = df[df[\"rating\"] == 2]\n",
    "df_4 = df[df[\"rating\"] == 4]\n",
    "df_5 = df[df[\"rating\"] == 5]\n",
    "\n",
    "# randomly sample the minimum number of rows for each rating value\n",
    "df_1_sampled = df_1.sample(n=min_count, random_state=42)\n",
    "df_2_sampled = df_2.sample(n=min_count, random_state=42)\n",
    "df_4_sampled = df_4.sample(n=min_count, random_state=42)\n",
    "df_5_sampled = df_5.sample(n=min_count, random_state=42)\n",
    "\n",
    "# combine the sampled rows for each rating value into a new dataset\n",
    "df_balanced = pd.concat([df_1_sampled, df_2_sampled, df_4_sampled, df_5_sampled])\n",
    "\n",
    "# save the balanced dataset to a new file\n",
    "df_balanced.to_csv(\"balanced_dataset.csv\", index=False)\n",
    "\n",
    "df = pd.read_csv('balanced_dataset.csv')\n",
    "# Define a function to map the rating to sentiment\n",
    "def map_sentiment(rating):\n",
    "    if rating in [1, 2]:\n",
    "        return \"negative\"\n",
    "    elif rating in [4, 5]:\n",
    "        return \"positive\"\n",
    "    else:\n",
    "        raise ValueError(\"Invalid rating value: {}\".format(rating))\n",
    "\n",
    "# Apply the function to the 'rating' column and create a new 'sentiment' column\n",
    "df['sentiment'] = df['rating'].apply(map_sentiment)\n",
    "\n",
    "# Apply sentence embeddings to first column of dataframe\n",
    "reviews = df['review'].tolist()\n",
    "reviews_embeddings = compute_sentence_embeddings(reviews, ar_embeddings, \"ar\")\n",
    "\n",
    "# Add new column with embeddings to dataframe\n",
    "df['arabic_Embeddings'] = reviews_embeddings\n",
    "\n",
    "X_test = np.vstack(df['arabic_Embeddings']) \n",
    "y_test = df['sentiment']\n",
    "y_pred = svm.predict(X_test)\n",
    "\n",
    "\n",
    "accuracy = accuracy_score(y_test, y_pred)\n",
    "report = classification_report(y_test, y_pred)\n",
    "print(\"Accuracy:\", accuracy)\n",
    "print(report)"
   ]
  },
  {
   "cell_type": "code",
   "execution_count": 5,
   "id": "e4f5426a",
   "metadata": {},
   "outputs": [
    {
     "name": "stdout",
     "output_type": "stream",
     "text": [
      "[[ 6 74]\n",
      " [ 1 79]]\n"
     ]
    },
    {
     "data": {
      "image/png": "[encoded data removed]",
      "text/plain": [
       "<Figure size 640x480 with 2 Axes>"
      ]
     },
     "metadata": {},
     "output_type": "display_data"
    }
   ],
   "source": [
    "import numpy as np\n",
    "import seaborn as sns\n",
    "import matplotlib.pyplot as plt\n",
    "from sklearn.metrics import confusion_matrix\n",
    "\n",
    "cm = confusion_matrix(y_test, y_pred)\n",
    "\n",
    "print(cm)\n",
    "\n",
    "# Create a heatmap\n",
    "sns.heatmap(cm, annot=True, fmt=\"d\", cmap=\"Blues\")\n",
    "\n",
    "# Add labels, title, and ticks\n",
    "plt.xlabel(\"Predicted Labels\")\n",
    "plt.ylabel(\"True Labels\")\n",
    "plt.title(\"Confusion Matrix\")\n",
    "\n",
    "# Show the plot\n",
    "plt.show()"
   ]
  },
  {
   "cell_type": "markdown",
   "id": "3c18df52",
   "metadata": {},
   "source": [
    "## French"
   ]
  },
  {
   "cell_type": "code",
   "execution_count": 6,
   "id": "39955d0a",
   "metadata": {},
   "outputs": [
    {
     "name": "stdout",
     "output_type": "stream",
     "text": [
      "(1526724, 2)\n",
      "(500, 2)\n"
     ]
    },
    {
     "name": "stderr",
     "output_type": "stream",
     "text": [
      "C:\\Users\\ALI\\AppData\\Local\\Temp\\ipykernel_13128\\1766107580.py:37: SettingWithCopyWarning: \n",
      "A value is trying to be set on a copy of a slice from a DataFrame.\n",
      "Try using .loc[row_indexer,col_indexer] = value instead\n",
      "\n",
      "See the caveats in the documentation: https://pandas.pydata.org/pandas-docs/stable/user_guide/indexing.html#returning-a-view-versus-a-copy\n",
      "  final_sample['french_Embeddings'] = reviews_embeddings\n"
     ]
    },
    {
     "name": "stdout",
     "output_type": "stream",
     "text": [
      "Accuracy: 0.538\n",
      "              precision    recall  f1-score   support\n",
      "\n",
      "           0       0.60      0.22      0.33       250\n",
      "           1       0.52      0.85      0.65       250\n",
      "\n",
      "    accuracy                           0.54       500\n",
      "   macro avg       0.56      0.54      0.49       500\n",
      "weighted avg       0.56      0.54      0.49       500\n",
      "\n"
     ]
    }
   ],
   "source": [
    "import pandas as pd\n",
    "\n",
    "df = pd.read_csv('C:/Users/ALI/Desktop/French Dataset/french_tweets.csv')\n",
    "\n",
    "print(df.shape)\n",
    "df = df.head(500)\n",
    "print(df.shape)\n",
    "df.head()\n",
    "import pandas as pd\n",
    "\n",
    "# Load the entire dataset into a DataFrame\n",
    "df = pd.read_csv('C:/Users/ALI/Desktop/French Dataset/french_tweets.csv')\n",
    "\n",
    "# Split the dataset into two separate DataFrames by class\n",
    "class_0 = df[df['label'] == 0]\n",
    "class_1 = df[df['label'] == 1]\n",
    "\n",
    "# Sample 250 rows from each class\n",
    "sample_0 = class_0.sample(n=250, random_state=42)\n",
    "sample_1 = class_1.sample(n=250, random_state=42)\n",
    "\n",
    "# Combine the two samples into a single DataFrame\n",
    "sample = pd.concat([sample_0, sample_1])\n",
    "\n",
    "\n",
    "# Shuffle the rows of the combined sample\n",
    "sample = sample.sample(frac=1, random_state=42)\n",
    "\n",
    "# Take the first 500 rows of the shuffled sample\n",
    "final_sample = sample.head(500)\n",
    "\n",
    "# Apply sentence embeddings to first column of dataframe\n",
    "reviews = final_sample['text'].tolist()\n",
    "reviews_embeddings = compute_sentence_embeddings(reviews, fr_embeddings, \"fr\")\n",
    "\n",
    "# Add new column with embeddings to dataframe\n",
    "final_sample['french_Embeddings'] = reviews_embeddings\n",
    "\n",
    "X_test = np.vstack(final_sample['french_Embeddings']) \n",
    "y_test = final_sample['label']\n",
    "y_pred = svm.predict(X_test)\n",
    "from sklearn.preprocessing import LabelEncoder\n",
    "# create a LabelEncoder object\n",
    "le = LabelEncoder()\n",
    "\n",
    "# fit the encoder to the values and transform the values to binary values\n",
    "binary_y_pred = le.fit_transform(y_pred)\n",
    "\n",
    "\n",
    "accuracy = accuracy_score(y_test, binary_y_pred)\n",
    "report = classification_report(y_test, binary_y_pred)\n",
    "print(\"Accuracy:\", accuracy)\n",
    "print(report)"
   ]
  },
  {
   "cell_type": "code",
   "execution_count": 8,
   "id": "7ccb6c83",
   "metadata": {},
   "outputs": [
    {
     "name": "stdout",
     "output_type": "stream",
     "text": [
      "[[ 56 194]\n",
      " [ 37 213]]\n"
     ]
    },
    {
     "data": {
      "image/png": "[encoded data removed]",
      "text/plain": [
       "<Figure size 640x480 with 2 Axes>"
      ]
     },
     "metadata": {},
     "output_type": "display_data"
    }
   ],
   "source": [
    "import numpy as np\n",
    "import seaborn as sns\n",
    "import matplotlib.pyplot as plt\n",
    "from sklearn.metrics import confusion_matrix\n",
    "\n",
    "cm = confusion_matrix(y_test, binary_y_pred)\n",
    "\n",
    "print(cm)\n",
    "\n",
    "# Create a heatmap\n",
    "sns.heatmap(cm, annot=True, fmt=\"d\", cmap=\"Blues\")\n",
    "\n",
    "# Add labels, title, and ticks\n",
    "plt.xlabel(\"Predicted Labels\")\n",
    "plt.ylabel(\"True Labels\")\n",
    "plt.title(\"Confusion Matrix\")\n",
    "\n",
    "# Show the plot\n",
    "plt.show()"
   ]
  },
  {
   "cell_type": "markdown",
   "id": "cf91518c",
   "metadata": {},
   "source": [
    "## Stand SVM rbf"
   ]
  },
  {
   "cell_type": "code",
   "execution_count": 9,
   "id": "2fa9af48",
   "metadata": {},
   "outputs": [
    {
     "name": "stdout",
     "output_type": "stream",
     "text": [
      "                                              review sentiment\n",
      "0  One of the other reviewers has mentioned that ...  positive\n",
      "1  A wonderful little production. <br /><br />The...  positive\n",
      "2  I thought this was a wonderful way to spend ti...  positive\n",
      "3  Basically there's a family where a little boy ...  negative\n",
      "4  Petter Mattei's \"Love in the Time of Money\" is...  positive\n",
      "Accuracy: 0.8581\n",
      "              precision    recall  f1-score   support\n",
      "\n",
      "    negative       0.86      0.85      0.86      4961\n",
      "    positive       0.86      0.86      0.86      5039\n",
      "\n",
      "    accuracy                           0.86     10000\n",
      "   macro avg       0.86      0.86      0.86     10000\n",
      "weighted avg       0.86      0.86      0.86     10000\n",
      "\n"
     ]
    }
   ],
   "source": [
    "import pandas as pd\n",
    "\n",
    "# Read the CSV file into a DataFrame object\n",
    "df = pd.read_csv('/Users/ALI/Desktop/IMDB Dataset.csv')\n",
    "\n",
    "# Print the first 5 rows of the DataFrame\n",
    "print(df.head(5))\n",
    "reviews_all_en_emb = compute_sentence_embeddings(df['review'], en_embeddings, \"en\")\n",
    "# Apply sentence embeddings to first column of dataframe\n",
    "reviews = df.iloc[:, 0].tolist()\n",
    "reviews_embeddings = compute_sentence_embeddings(reviews, en_embeddings, \"en\")\n",
    "\n",
    "# Add new column with embeddings to dataframe\n",
    "df['English_Embeddings'] = reviews_embeddings\n",
    "import pandas as pd\n",
    "import numpy as np\n",
    "from sklearn.model_selection import train_test_split\n",
    "from sklearn.svm import SVC\n",
    "from sklearn.metrics import accuracy_score\n",
    "from sklearn.preprocessing import StandardScaler\n",
    "\n",
    "# Separate the input features (sentence embeddings) and output labels (sentiment)\n",
    "X = np.vstack(df[\"English_Embeddings\"])  # input features (sentence embeddings)\n",
    "y = df[\"sentiment\"]  # output labels (sentiment)\n",
    "\n",
    "# Split the data into training and testing sets\n",
    "X_train, X_test, y_train, y_test = train_test_split(X, y, test_size=0.2, random_state=42)\n",
    "\n",
    "# Standardize the input features using a scaler\n",
    "scaler = StandardScaler()\n",
    "X_train = scaler.fit_transform(X_train)\n",
    "X_test = scaler.transform(X_test)\n",
    "\n",
    "# Train an SVM with RBF kernel on the standardized training set\n",
    "svm = SVC(kernel='rbf')\n",
    "svm.fit(X_train, y_train)\n",
    "\n",
    "# Evaluate the performance of the SVM on the standardized testing set\n",
    "y_pred = svm.predict(X_test)\n",
    "\n",
    "\n",
    "accuracy = accuracy_score(y_test, y_pred)\n",
    "report = classification_report(y_test, y_pred)\n",
    "print(\"Accuracy:\", accuracy)\n",
    "print(report)"
   ]
  },
  {
   "cell_type": "code",
   "execution_count": 10,
   "id": "5f5d8f7f",
   "metadata": {},
   "outputs": [
    {
     "name": "stdout",
     "output_type": "stream",
     "text": [
      "[[4234  727]\n",
      " [ 692 4347]]\n"
     ]
    },
    {
     "data": {
      "image/png": "[encoded data removed]",
      "text/plain": [
       "<Figure size 640x480 with 2 Axes>"
      ]
     },
     "metadata": {},
     "output_type": "display_data"
    }
   ],
   "source": [
    "import numpy as np\n",
    "import seaborn as sns\n",
    "import matplotlib.pyplot as plt\n",
    "from sklearn.metrics import confusion_matrix\n",
    "\n",
    "cm = confusion_matrix(y_test, y_pred)\n",
    "\n",
    "print(cm)\n",
    "\n",
    "# Create a heatmap\n",
    "sns.heatmap(cm, annot=True, fmt=\"d\", cmap=\"Blues\")\n",
    "\n",
    "# Add labels, title, and ticks\n",
    "plt.xlabel(\"Predicted Labels\")\n",
    "plt.ylabel(\"True Labels\")\n",
    "plt.title(\"Confusion Matrix\")\n",
    "\n",
    "# Show the plot\n",
    "plt.show()"
   ]
  },
  {
   "cell_type": "markdown",
   "id": "c0167f1b",
   "metadata": {},
   "source": [
    "## Arabic"
   ]
  },
  {
   "cell_type": "code",
   "execution_count": 11,
   "id": "e6b06ade",
   "metadata": {},
   "outputs": [
    {
     "name": "stdout",
     "output_type": "stream",
     "text": [
      "(105698, 7)\n",
      "(500, 7)\n",
      "Accuracy: 0.49375\n",
      "              precision    recall  f1-score   support\n",
      "\n",
      "    negative       0.50      0.99      0.66        80\n",
      "    positive       0.00      0.00      0.00        80\n",
      "\n",
      "    accuracy                           0.49       160\n",
      "   macro avg       0.25      0.49      0.33       160\n",
      "weighted avg       0.25      0.49      0.33       160\n",
      "\n"
     ]
    }
   ],
   "source": [
    "df = pd.read_excel('../../base-line/balanced-reviews.xlsx')\n",
    "print(df.shape)\n",
    "df = df.head(500)\n",
    "print(df.shape)\n",
    "df.head()\n",
    "\n",
    "# determine the minimum number of rows for each rating value\n",
    "min_count = df[\"rating\"].value_counts().min()\n",
    "min_count = 40\n",
    "# subset the original dataset for each rating value\n",
    "df_1 = df[df[\"rating\"] == 1]\n",
    "df_2 = df[df[\"rating\"] == 2]\n",
    "df_4 = df[df[\"rating\"] == 4]\n",
    "df_5 = df[df[\"rating\"] == 5]\n",
    "\n",
    "# randomly sample the minimum number of rows for each rating value\n",
    "df_1_sampled = df_1.sample(n=min_count, random_state=42)\n",
    "df_2_sampled = df_2.sample(n=min_count, random_state=42)\n",
    "df_4_sampled = df_4.sample(n=min_count, random_state=42)\n",
    "df_5_sampled = df_5.sample(n=min_count, random_state=42)\n",
    "\n",
    "# combine the sampled rows for each rating value into a new dataset\n",
    "df_balanced = pd.concat([df_1_sampled, df_2_sampled, df_4_sampled, df_5_sampled])\n",
    "\n",
    "# save the balanced dataset to a new file\n",
    "df_balanced.to_csv(\"balanced_dataset.csv\", index=False)\n",
    "\n",
    "df = pd.read_csv('balanced_dataset.csv')\n",
    "# Define a function to map the rating to sentiment\n",
    "def map_sentiment(rating):\n",
    "    if rating in [1, 2]:\n",
    "        return \"negative\"\n",
    "    elif rating in [4, 5]:\n",
    "        return \"positive\"\n",
    "    else:\n",
    "        raise ValueError(\"Invalid rating value: {}\".format(rating))\n",
    "\n",
    "# Apply the function to the 'rating' column and create a new 'sentiment' column\n",
    "df['sentiment'] = df['rating'].apply(map_sentiment)\n",
    "\n",
    "# Apply sentence embeddings to first column of dataframe\n",
    "reviews = df['review'].tolist()\n",
    "reviews_embeddings = compute_sentence_embeddings(reviews, ar_embeddings, \"ar\")\n",
    "\n",
    "# Add new column with embeddings to dataframe\n",
    "df['arabic_Embeddings'] = reviews_embeddings\n",
    "\n",
    "X_test = np.vstack(df['arabic_Embeddings']) \n",
    "y_test = df['sentiment']\n",
    "y_pred = svm.predict(X_test)\n",
    "\n",
    "\n",
    "accuracy = accuracy_score(y_test, y_pred)\n",
    "report = classification_report(y_test, y_pred)\n",
    "print(\"Accuracy:\", accuracy)\n",
    "print(report)"
   ]
  },
  {
   "cell_type": "code",
   "execution_count": 12,
   "id": "241ae043",
   "metadata": {},
   "outputs": [
    {
     "name": "stdout",
     "output_type": "stream",
     "text": [
      "[[79  1]\n",
      " [80  0]]\n"
     ]
    },
    {
     "data": {
      "image/png": "[encoded data removed]",
      "text/plain": [
       "<Figure size 640x480 with 2 Axes>"
      ]
     },
     "metadata": {},
     "output_type": "display_data"
    }
   ],
   "source": [
    "import numpy as np\n",
    "import seaborn as sns\n",
    "import matplotlib.pyplot as plt\n",
    "from sklearn.metrics import confusion_matrix\n",
    "\n",
    "cm = confusion_matrix(y_test, y_pred)\n",
    "\n",
    "print(cm)\n",
    "\n",
    "# Create a heatmap\n",
    "sns.heatmap(cm, annot=True, fmt=\"d\", cmap=\"Blues\")\n",
    "\n",
    "# Add labels, title, and ticks\n",
    "plt.xlabel(\"Predicted Labels\")\n",
    "plt.ylabel(\"True Labels\")\n",
    "plt.title(\"Confusion Matrix\")\n",
    "\n",
    "# Show the plot\n",
    "plt.show()"
   ]
  },
  {
   "cell_type": "markdown",
   "id": "2c03c83e",
   "metadata": {},
   "source": [
    "## French"
   ]
  },
  {
   "cell_type": "code",
   "execution_count": 13,
   "id": "63a3b223",
   "metadata": {},
   "outputs": [
    {
     "name": "stderr",
     "output_type": "stream",
     "text": [
      "C:\\Users\\ALI\\AppData\\Local\\Temp\\ipykernel_13128\\1687517948.py:29: SettingWithCopyWarning: \n",
      "A value is trying to be set on a copy of a slice from a DataFrame.\n",
      "Try using .loc[row_indexer,col_indexer] = value instead\n",
      "\n",
      "See the caveats in the documentation: https://pandas.pydata.org/pandas-docs/stable/user_guide/indexing.html#returning-a-view-versus-a-copy\n",
      "  final_sample['french_Embeddings'] = reviews_embeddings\n"
     ]
    },
    {
     "name": "stdout",
     "output_type": "stream",
     "text": [
      "Accuracy: 0.5\n",
      "              precision    recall  f1-score   support\n",
      "\n",
      "           0       0.50      1.00      0.67       250\n",
      "           1       0.00      0.00      0.00       250\n",
      "\n",
      "    accuracy                           0.50       500\n",
      "   macro avg       0.25      0.50      0.33       500\n",
      "weighted avg       0.25      0.50      0.33       500\n",
      "\n"
     ]
    },
    {
     "name": "stderr",
     "output_type": "stream",
     "text": [
      "C:\\Users\\ALI\\anaconda3\\lib\\site-packages\\sklearn\\metrics\\_classification.py:1469: UndefinedMetricWarning: Precision and F-score are ill-defined and being set to 0.0 in labels with no predicted samples. Use `zero_division` parameter to control this behavior.\n",
      "  _warn_prf(average, modifier, msg_start, len(result))\n",
      "C:\\Users\\ALI\\anaconda3\\lib\\site-packages\\sklearn\\metrics\\_classification.py:1469: UndefinedMetricWarning: Precision and F-score are ill-defined and being set to 0.0 in labels with no predicted samples. Use `zero_division` parameter to control this behavior.\n",
      "  _warn_prf(average, modifier, msg_start, len(result))\n",
      "C:\\Users\\ALI\\anaconda3\\lib\\site-packages\\sklearn\\metrics\\_classification.py:1469: UndefinedMetricWarning: Precision and F-score are ill-defined and being set to 0.0 in labels with no predicted samples. Use `zero_division` parameter to control this behavior.\n",
      "  _warn_prf(average, modifier, msg_start, len(result))\n"
     ]
    }
   ],
   "source": [
    "import pandas as pd\n",
    "\n",
    "# Load the entire dataset into a DataFrame\n",
    "df = pd.read_csv('C:/Users/ALI/Desktop/French Dataset/french_tweets.csv')\n",
    "\n",
    "# Split the dataset into two separate DataFrames by class\n",
    "class_0 = df[df['label'] == 0]\n",
    "class_1 = df[df['label'] == 1]\n",
    "\n",
    "# Sample 250 rows from each class\n",
    "sample_0 = class_0.sample(n=250, random_state=42)\n",
    "sample_1 = class_1.sample(n=250, random_state=42)\n",
    "\n",
    "# Combine the two samples into a single DataFrame\n",
    "sample = pd.concat([sample_0, sample_1])\n",
    "\n",
    "\n",
    "# Shuffle the rows of the combined sample\n",
    "sample = sample.sample(frac=1, random_state=42)\n",
    "\n",
    "# Take the first 500 rows of the shuffled sample\n",
    "final_sample = sample.head(500)\n",
    "\n",
    "# Apply sentence embeddings to first column of dataframe\n",
    "reviews = final_sample['text'].tolist()\n",
    "reviews_embeddings = compute_sentence_embeddings(reviews, fr_embeddings, \"fr\")\n",
    "\n",
    "# Add new column with embeddings to dataframe\n",
    "final_sample['french_Embeddings'] = reviews_embeddings\n",
    "\n",
    "X_test = np.vstack(final_sample['french_Embeddings']) \n",
    "y_test = final_sample['label']\n",
    "y_pred = svm.predict(X_test)\n",
    "from sklearn.preprocessing import LabelEncoder\n",
    "# create a LabelEncoder object\n",
    "le = LabelEncoder()\n",
    "\n",
    "# fit the encoder to the values and transform the values to binary values\n",
    "binary_y_pred = le.fit_transform(y_pred)\n",
    "\n",
    "\n",
    "accuracy = accuracy_score(y_test, binary_y_pred)\n",
    "report = classification_report(y_test, binary_y_pred)\n",
    "print(\"Accuracy:\", accuracy)\n",
    "print(report)"
   ]
  },
  {
   "cell_type": "code",
   "execution_count": 14,
   "id": "71a749c7",
   "metadata": {},
   "outputs": [
    {
     "name": "stdout",
     "output_type": "stream",
     "text": [
      "[[250   0]\n",
      " [250   0]]\n"
     ]
    },
    {
     "data": {
      "image/png": "[encoded data removed]",
      "text/plain": [
       "<Figure size 640x480 with 2 Axes>"
      ]
     },
     "metadata": {},
     "output_type": "display_data"
    }
   ],
   "source": [
    "import numpy as np\n",
    "import seaborn as sns\n",
    "import matplotlib.pyplot as plt\n",
    "from sklearn.metrics import confusion_matrix\n",
    "\n",
    "cm = confusion_matrix(y_test, binary_y_pred)\n",
    "\n",
    "print(cm)\n",
    "\n",
    "# Create a heatmap\n",
    "sns.heatmap(cm, annot=True, fmt=\"d\", cmap=\"Blues\")\n",
    "\n",
    "# Add labels, title, and ticks\n",
    "plt.xlabel(\"Predicted Labels\")\n",
    "plt.ylabel(\"True Labels\")\n",
    "plt.title(\"Confusion Matrix\")\n",
    "\n",
    "# Show the plot\n",
    "plt.show()"
   ]
  },
  {
   "cell_type": "markdown",
   "id": "d3f4b159",
   "metadata": {},
   "source": [
    "# Stand SVM Linear"
   ]
  },
  {
   "cell_type": "code",
   "execution_count": 15,
   "id": "40bb3c35",
   "metadata": {},
   "outputs": [
    {
     "name": "stdout",
     "output_type": "stream",
     "text": [
      "                                              review sentiment\n",
      "0  One of the other reviewers has mentioned that ...  positive\n",
      "1  A wonderful little production. <br /><br />The...  positive\n",
      "2  I thought this was a wonderful way to spend ti...  positive\n",
      "3  Basically there's a family where a little boy ...  negative\n",
      "4  Petter Mattei's \"Love in the Time of Money\" is...  positive\n",
      "Accuracy: 0.8442\n",
      "              precision    recall  f1-score   support\n",
      "\n",
      "    negative       0.84      0.84      0.84      4961\n",
      "    positive       0.85      0.84      0.85      5039\n",
      "\n",
      "    accuracy                           0.84     10000\n",
      "   macro avg       0.84      0.84      0.84     10000\n",
      "weighted avg       0.84      0.84      0.84     10000\n",
      "\n"
     ]
    }
   ],
   "source": [
    "import pandas as pd\n",
    "\n",
    "# Read the CSV file into a DataFrame object\n",
    "df = pd.read_csv('/Users/ALI/Desktop/IMDB Dataset.csv')\n",
    "\n",
    "# Print the first 5 rows of the DataFrame\n",
    "print(df.head(5))\n",
    "reviews_all_en_emb = compute_sentence_embeddings(df['review'], en_embeddings, \"en\")\n",
    "# Apply sentence embeddings to first column of dataframe\n",
    "reviews = df.iloc[:, 0].tolist()\n",
    "reviews_embeddings = compute_sentence_embeddings(reviews, en_embeddings, \"en\")\n",
    "\n",
    "# Add new column with embeddings to dataframe\n",
    "df['English_Embeddings'] = reviews_embeddings\n",
    "import pandas as pd\n",
    "import numpy as np\n",
    "from sklearn.model_selection import train_test_split\n",
    "from sklearn.svm import SVC\n",
    "from sklearn.metrics import accuracy_score\n",
    "from sklearn.preprocessing import StandardScaler\n",
    "\n",
    "# Separate the input features (sentence embeddings) and output labels (sentiment)\n",
    "X = np.vstack(df[\"English_Embeddings\"])  # input features (sentence embeddings)\n",
    "y = df[\"sentiment\"]  # output labels (sentiment)\n",
    "\n",
    "# Split the data into training and testing sets\n",
    "X_train, X_test, y_train, y_test = train_test_split(X, y, test_size=0.2, random_state=42)\n",
    "\n",
    "# Standardize the input features using a scaler\n",
    "scaler = StandardScaler()\n",
    "X_train = scaler.fit_transform(X_train)\n",
    "X_test = scaler.transform(X_test)\n",
    "\n",
    "# Train an SVM with linear kernel on the standardized training set\n",
    "svm = SVC(kernel='linear')\n",
    "svm.fit(X_train, y_train)\n",
    "\n",
    "# Evaluate the performance of the SVM on the standardized testing set\n",
    "y_pred = svm.predict(X_test)\n",
    "\n",
    "\n",
    "accuracy = accuracy_score(y_test, y_pred)\n",
    "report = classification_report(y_test, y_pred)\n",
    "print(\"Accuracy:\", accuracy)\n",
    "print(report)"
   ]
  },
  {
   "cell_type": "code",
   "execution_count": 16,
   "id": "58ec7ae0",
   "metadata": {},
   "outputs": [
    {
     "name": "stdout",
     "output_type": "stream",
     "text": [
      "[[4187  774]\n",
      " [ 784 4255]]\n"
     ]
    },
    {
     "data": {
      "image/png": "[encoded data removed]",
      "text/plain": [
       "<Figure size 640x480 with 2 Axes>"
      ]
     },
     "metadata": {},
     "output_type": "display_data"
    }
   ],
   "source": [
    "import numpy as np\n",
    "import seaborn as sns\n",
    "import matplotlib.pyplot as plt\n",
    "from sklearn.metrics import confusion_matrix\n",
    "\n",
    "cm = confusion_matrix(y_test, y_pred)\n",
    "\n",
    "print(cm)\n",
    "\n",
    "# Create a heatmap\n",
    "sns.heatmap(cm, annot=True, fmt=\"d\", cmap=\"Blues\")\n",
    "\n",
    "# Add labels, title, and ticks\n",
    "plt.xlabel(\"Predicted Labels\")\n",
    "plt.ylabel(\"True Labels\")\n",
    "plt.title(\"Confusion Matrix\")\n",
    "\n",
    "# Show the plot\n",
    "plt.show()"
   ]
  },
  {
   "cell_type": "markdown",
   "id": "5eaae21f",
   "metadata": {},
   "source": [
    "## Arabic"
   ]
  },
  {
   "cell_type": "code",
   "execution_count": 17,
   "id": "fb30e64d",
   "metadata": {},
   "outputs": [
    {
     "name": "stdout",
     "output_type": "stream",
     "text": [
      "(105698, 7)\n",
      "(500, 7)\n",
      "Accuracy: 0.5\n",
      "              precision    recall  f1-score   support\n",
      "\n",
      "    negative       0.00      0.00      0.00        80\n",
      "    positive       0.50      1.00      0.67        80\n",
      "\n",
      "    accuracy                           0.50       160\n",
      "   macro avg       0.25      0.50      0.33       160\n",
      "weighted avg       0.25      0.50      0.33       160\n",
      "\n"
     ]
    },
    {
     "name": "stderr",
     "output_type": "stream",
     "text": [
      "C:\\Users\\ALI\\anaconda3\\lib\\site-packages\\sklearn\\metrics\\_classification.py:1469: UndefinedMetricWarning: Precision and F-score are ill-defined and being set to 0.0 in labels with no predicted samples. Use `zero_division` parameter to control this behavior.\n",
      "  _warn_prf(average, modifier, msg_start, len(result))\n",
      "C:\\Users\\ALI\\anaconda3\\lib\\site-packages\\sklearn\\metrics\\_classification.py:1469: UndefinedMetricWarning: Precision and F-score are ill-defined and being set to 0.0 in labels with no predicted samples. Use `zero_division` parameter to control this behavior.\n",
      "  _warn_prf(average, modifier, msg_start, len(result))\n",
      "C:\\Users\\ALI\\anaconda3\\lib\\site-packages\\sklearn\\metrics\\_classification.py:1469: UndefinedMetricWarning: Precision and F-score are ill-defined and being set to 0.0 in labels with no predicted samples. Use `zero_division` parameter to control this behavior.\n",
      "  _warn_prf(average, modifier, msg_start, len(result))\n"
     ]
    }
   ],
   "source": [
    "df = pd.read_excel('../../base-line/balanced-reviews.xlsx')\n",
    "print(df.shape)\n",
    "df = df.head(500)\n",
    "print(df.shape)\n",
    "df.head()\n",
    "\n",
    "# determine the minimum number of rows for each rating value\n",
    "min_count = df[\"rating\"].value_counts().min()\n",
    "min_count = 40\n",
    "# subset the original dataset for each rating value\n",
    "df_1 = df[df[\"rating\"] == 1]\n",
    "df_2 = df[df[\"rating\"] == 2]\n",
    "df_4 = df[df[\"rating\"] == 4]\n",
    "df_5 = df[df[\"rating\"] == 5]\n",
    "\n",
    "# randomly sample the minimum number of rows for each rating value\n",
    "df_1_sampled = df_1.sample(n=min_count, random_state=42)\n",
    "df_2_sampled = df_2.sample(n=min_count, random_state=42)\n",
    "df_4_sampled = df_4.sample(n=min_count, random_state=42)\n",
    "df_5_sampled = df_5.sample(n=min_count, random_state=42)\n",
    "\n",
    "# combine the sampled rows for each rating value into a new dataset\n",
    "df_balanced = pd.concat([df_1_sampled, df_2_sampled, df_4_sampled, df_5_sampled])\n",
    "\n",
    "# save the balanced dataset to a new file\n",
    "df_balanced.to_csv(\"balanced_dataset.csv\", index=False)\n",
    "\n",
    "df = pd.read_csv('balanced_dataset.csv')\n",
    "# Define a function to map the rating to sentiment\n",
    "def map_sentiment(rating):\n",
    "    if rating in [1, 2]:\n",
    "        return \"negative\"\n",
    "    elif rating in [4, 5]:\n",
    "        return \"positive\"\n",
    "    else:\n",
    "        raise ValueError(\"Invalid rating value: {}\".format(rating))\n",
    "\n",
    "# Apply the function to the 'rating' column and create a new 'sentiment' column\n",
    "df['sentiment'] = df['rating'].apply(map_sentiment)\n",
    "\n",
    "# Apply sentence embeddings to first column of dataframe\n",
    "reviews = df['review'].tolist()\n",
    "reviews_embeddings = compute_sentence_embeddings(reviews, ar_embeddings, \"ar\")\n",
    "\n",
    "# Add new column with embeddings to dataframe\n",
    "df['arabic_Embeddings'] = reviews_embeddings\n",
    "X_test = np.vstack(df['arabic_Embeddings']) \n",
    "y_test = df['sentiment']\n",
    "y_pred = svm.predict(X_test)\n",
    "\n",
    "\n",
    "accuracy = accuracy_score(y_test, y_pred)\n",
    "report = classification_report(y_test, y_pred)\n",
    "print(\"Accuracy:\", accuracy)\n",
    "print(report)"
   ]
  },
  {
   "cell_type": "code",
   "execution_count": 18,
   "id": "a32c7176",
   "metadata": {},
   "outputs": [
    {
     "name": "stdout",
     "output_type": "stream",
     "text": [
      "[[ 0 80]\n",
      " [ 0 80]]\n"
     ]
    },
    {
     "data": {
      "image/png": "[encoded data removed]",
      "text/plain": [
       "<Figure size 640x480 with 2 Axes>"
      ]
     },
     "metadata": {},
     "output_type": "display_data"
    }
   ],
   "source": [
    "import numpy as np\n",
    "import seaborn as sns\n",
    "import matplotlib.pyplot as plt\n",
    "from sklearn.metrics import confusion_matrix\n",
    "\n",
    "cm = confusion_matrix(y_test, y_pred)\n",
    "\n",
    "print(cm)\n",
    "\n",
    "# Create a heatmap\n",
    "sns.heatmap(cm, annot=True, fmt=\"d\", cmap=\"Blues\")\n",
    "\n",
    "# Add labels, title, and ticks\n",
    "plt.xlabel(\"Predicted Labels\")\n",
    "plt.ylabel(\"True Labels\")\n",
    "plt.title(\"Confusion Matrix\")\n",
    "\n",
    "# Show the plot\n",
    "plt.show()"
   ]
  },
  {
   "cell_type": "markdown",
   "id": "7d9eeb7a",
   "metadata": {},
   "source": [
    "## French"
   ]
  },
  {
   "cell_type": "code",
   "execution_count": 19,
   "id": "c1b5f2c2",
   "metadata": {},
   "outputs": [
    {
     "name": "stderr",
     "output_type": "stream",
     "text": [
      "C:\\Users\\ALI\\AppData\\Local\\Temp\\ipykernel_13128\\1687517948.py:29: SettingWithCopyWarning: \n",
      "A value is trying to be set on a copy of a slice from a DataFrame.\n",
      "Try using .loc[row_indexer,col_indexer] = value instead\n",
      "\n",
      "See the caveats in the documentation: https://pandas.pydata.org/pandas-docs/stable/user_guide/indexing.html#returning-a-view-versus-a-copy\n",
      "  final_sample['french_Embeddings'] = reviews_embeddings\n"
     ]
    },
    {
     "name": "stdout",
     "output_type": "stream",
     "text": [
      "Accuracy: 0.498\n",
      "              precision    recall  f1-score   support\n",
      "\n",
      "           0       0.00      0.00      0.00       250\n",
      "           1       0.50      1.00      0.66       250\n",
      "\n",
      "    accuracy                           0.50       500\n",
      "   macro avg       0.25      0.50      0.33       500\n",
      "weighted avg       0.25      0.50      0.33       500\n",
      "\n"
     ]
    }
   ],
   "source": [
    "import pandas as pd\n",
    "\n",
    "# Load the entire dataset into a DataFrame\n",
    "df = pd.read_csv('C:/Users/ALI/Desktop/French Dataset/french_tweets.csv')\n",
    "\n",
    "# Split the dataset into two separate DataFrames by class\n",
    "class_0 = df[df['label'] == 0]\n",
    "class_1 = df[df['label'] == 1]\n",
    "\n",
    "# Sample 250 rows from each class\n",
    "sample_0 = class_0.sample(n=250, random_state=42)\n",
    "sample_1 = class_1.sample(n=250, random_state=42)\n",
    "\n",
    "# Combine the two samples into a single DataFrame\n",
    "sample = pd.concat([sample_0, sample_1])\n",
    "\n",
    "\n",
    "# Shuffle the rows of the combined sample\n",
    "sample = sample.sample(frac=1, random_state=42)\n",
    "\n",
    "# Take the first 500 rows of the shuffled sample\n",
    "final_sample = sample.head(500)\n",
    "\n",
    "# Apply sentence embeddings to first column of dataframe\n",
    "reviews = final_sample['text'].tolist()\n",
    "reviews_embeddings = compute_sentence_embeddings(reviews, fr_embeddings, \"fr\")\n",
    "\n",
    "# Add new column with embeddings to dataframe\n",
    "final_sample['french_Embeddings'] = reviews_embeddings\n",
    "\n",
    "X_test = np.vstack(final_sample['french_Embeddings']) \n",
    "y_test = final_sample['label']\n",
    "y_pred = svm.predict(X_test)\n",
    "from sklearn.preprocessing import LabelEncoder\n",
    "# create a LabelEncoder object\n",
    "le = LabelEncoder()\n",
    "\n",
    "# fit the encoder to the values and transform the values to binary values\n",
    "binary_y_pred = le.fit_transform(y_pred)\n",
    "\n",
    "\n",
    "accuracy = accuracy_score(y_test, binary_y_pred)\n",
    "report = classification_report(y_test, binary_y_pred)\n",
    "print(\"Accuracy:\", accuracy)\n",
    "print(report)"
   ]
  },
  {
   "cell_type": "code",
   "execution_count": 20,
   "id": "3830c564",
   "metadata": {},
   "outputs": [
    {
     "name": "stdout",
     "output_type": "stream",
     "text": [
      "[[  0 250]\n",
      " [  1 249]]\n"
     ]
    },
    {
     "data": {
      "image/png": "[encoded data removed]",
      "text/plain": [
       "<Figure size 640x480 with 2 Axes>"
      ]
     },
     "metadata": {},
     "output_type": "display_data"
    }
   ],
   "source": [
    "import numpy as np\n",
    "import seaborn as sns\n",
    "import matplotlib.pyplot as plt\n",
    "from sklearn.metrics import confusion_matrix\n",
    "\n",
    "cm = confusion_matrix(y_test, binary_y_pred)\n",
    "\n",
    "print(cm)\n",
    "\n",
    "# Create a heatmap\n",
    "sns.heatmap(cm, annot=True, fmt=\"d\", cmap=\"Blues\")\n",
    "\n",
    "# Add labels, title, and ticks\n",
    "plt.xlabel(\"Predicted Labels\")\n",
    "plt.ylabel(\"True Labels\")\n",
    "plt.title(\"Confusion Matrix\")\n",
    "\n",
    "# Show the plot\n",
    "plt.show()"
   ]
  },
  {
   "cell_type": "code",
   "execution_count": null,
   "id": "883bbd61",
   "metadata": {},
   "outputs": [],
   "source": []
  },
  {
   "cell_type": "code",
   "execution_count": null,
   "id": "8cb57738",
   "metadata": {},
   "outputs": [],
   "source": []
  }
 ],
 "metadata": {
  "kernelspec": {
   "display_name": "Python 3 (ipykernel)",
   "language": "python",
   "name": "python3"
  },
  "language_info": {
   "codemirror_mode": {
    "name": "ipython",
    "version": 3
   },
   "file_extension": ".py",
   "mimetype": "text/x-python",
   "name": "python",
   "nbconvert_exporter": "python",
   "pygments_lexer": "ipython3",
   "version": "3.9.7"
  }
 },
 "nbformat": 4,
 "nbformat_minor": 5
}
