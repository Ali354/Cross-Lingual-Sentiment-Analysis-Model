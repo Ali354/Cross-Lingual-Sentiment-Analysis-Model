{
 "cells": [
  {
   "cell_type": "code",
   "execution_count": 1,
   "id": "dec34bee",
   "metadata": {},
   "outputs": [],
   "source": [
    "from gensim.models import KeyedVectors\n",
    "from sklearn.metrics import classification_report\n",
    "\n",
    "fr_embeddings = KeyedVectors.load_word2vec_format(\"wiki.multi.fr.vec\")\n",
    "en_embeddings = KeyedVectors.load_word2vec_format(\"wiki.multi.en.vec\")\n",
    "\n",
    "\n",
    "from gensim.models import KeyedVectors\n",
    "import numpy as np\n",
    "\n",
    "ar_embeddings = KeyedVectors.load_word2vec_format(\"wiki.multi.ar.vec\", limit=50000)\n",
    "\n",
    "# Pad the vectors with zeros to match the desired dimensionality (300 in this case)\n",
    "vector_size = 300\n",
    "new_vectors = np.zeros((len(ar_embeddings.key_to_index), vector_size))\n",
    "for word, idx in ar_embeddings.key_to_index.items():\n",
    "    if len(ar_embeddings.get_vector(word)) == vector_size:\n",
    "        new_vectors[idx] = ar_embeddings.get_vector(word)\n",
    "    else:\n",
    "        print(f\"Skipping word '{word}' with vector size {len(ar_embeddings.get_vector(word))}\")\n",
    "ar_embeddings.vectors = new_vectors\n",
    "ar_embeddings.vector_size = vector_size"
   ]
  },
  {
   "cell_type": "code",
   "execution_count": 2,
   "id": "f52b8de0",
   "metadata": {},
   "outputs": [],
   "source": [
    "import nltk\n",
    "import numpy as np\n",
    "from wordfreq import word_frequency\n",
    "from sklearn.decomposition import TruncatedSVD\n",
    "\n",
    "\n",
    "def compute_sentence_embeddings(questions, word_embeddings, language, a=0.001): \n",
    "    \n",
    "    question_embeddings = []\n",
    "    for question in questions: \n",
    "        tokens = [t.lower() for t in nltk.word_tokenize(question)]\n",
    "        tokens = [token for token in tokens if token in word_embeddings]\n",
    "\n",
    "        weights = [a/(a+word_frequency(token, language)) for token in tokens]\n",
    "        embedding = np.average([word_embeddings[token] for token in tokens], axis=0, weights=weights)\n",
    "        question_embeddings.append(embedding)\n",
    "        \n",
    "    return question_embeddings"
   ]
  },
  {
   "cell_type": "markdown",
   "id": "26123307",
   "metadata": {},
   "source": [
    "## SVM Linear - Fine Tunning before testing on Arabic"
   ]
  },
  {
   "cell_type": "code",
   "execution_count": 3,
   "id": "049418aa",
   "metadata": {},
   "outputs": [
    {
     "name": "stdout",
     "output_type": "stream",
     "text": [
      "                                              review sentiment\n",
      "0  One of the other reviewers has mentioned that ...  positive\n",
      "1  A wonderful little production. <br /><br />The...  positive\n",
      "2  I thought this was a wonderful way to spend ti...  positive\n",
      "3  Basically there's a family where a little boy ...  negative\n",
      "4  Petter Mattei's \"Love in the Time of Money\" is...  positive\n",
      "Accuracy: 0.824\n",
      "              precision    recall  f1-score   support\n",
      "\n",
      "    negative       0.82      0.83      0.82      4961\n",
      "    positive       0.83      0.82      0.82      5039\n",
      "\n",
      "    accuracy                           0.82     10000\n",
      "   macro avg       0.82      0.82      0.82     10000\n",
      "weighted avg       0.82      0.82      0.82     10000\n",
      "\n"
     ]
    }
   ],
   "source": [
    "import pandas as pd\n",
    "\n",
    "# Read the CSV file into a DataFrame object\n",
    "df = pd.read_csv('/Users/ALI/Desktop/IMDB Dataset.csv')\n",
    "\n",
    "# Print the first 5 rows of the DataFrame\n",
    "print(df.head(5))\n",
    "reviews_all_en_emb = compute_sentence_embeddings(df['review'], en_embeddings, \"en\")\n",
    "# Apply sentence embeddings to first column of dataframe\n",
    "reviews = df.iloc[:, 0].tolist()\n",
    "reviews_embeddings = compute_sentence_embeddings(reviews, en_embeddings, \"en\")\n",
    "\n",
    "# Add new column with embeddings to dataframe\n",
    "df['English_Embeddings'] = reviews_embeddings\n",
    "import pandas as pd\n",
    "import numpy as np\n",
    "from sklearn.model_selection import train_test_split\n",
    "from sklearn.svm import SVC\n",
    "from sklearn.metrics import accuracy_score, classification_report\n",
    "\n",
    "# Separate the input features (sentence embeddings) and output labels (sentiment)\n",
    "X = np.vstack(df[\"English_Embeddings\"])  # input features (sentence embeddings)\n",
    "y = df[\"sentiment\"]  # output labels (sentiment)\n",
    "\n",
    "# Split the data into training and testing sets\n",
    "X_train, X_test, y_train, y_test = train_test_split(X, y, test_size=0.2, random_state=42)\n",
    "\n",
    "# Train an SVM with RBF kernel on the training set\n",
    "svm = SVC(kernel='linear')\n",
    "svm.fit(X_train, y_train)\n",
    "\n",
    "# Evaluate the performance of the SVM on the testing set\n",
    "y_pred = svm.predict(X_test)\n",
    "\n",
    "\n",
    "accuracy = accuracy_score(y_test, y_pred)\n",
    "report = classification_report(y_test, y_pred)\n",
    "print(\"Accuracy:\", accuracy)\n",
    "print(report)"
   ]
  },
  {
   "cell_type": "markdown",
   "id": "8ed20940",
   "metadata": {},
   "source": []
  },
  {
   "cell_type": "code",
   "execution_count": 4,
   "id": "7fde5770",
   "metadata": {},
   "outputs": [
    {
     "name": "stdout",
     "output_type": "stream",
     "text": [
      "[[4113  848]\n",
      " [ 912 4127]]\n"
     ]
    },
    {
     "data": {
      "image/png": "[encoded data removed]",
      "text/plain": [
       "<Figure size 640x480 with 2 Axes>"
      ]
     },
     "metadata": {},
     "output_type": "display_data"
    }
   ],
   "source": [
    "import numpy as np\n",
    "import seaborn as sns\n",
    "import matplotlib.pyplot as plt\n",
    "from sklearn.metrics import confusion_matrix\n",
    "\n",
    "cm = confusion_matrix(y_test, y_pred)\n",
    "\n",
    "print(cm)\n",
    "\n",
    "# Create a heatmap\n",
    "sns.heatmap(cm, annot=True, fmt=\"d\", cmap=\"Blues\")\n",
    "\n",
    "# Add labels, title, and ticks\n",
    "plt.xlabel(\"Predicted Labels\")\n",
    "plt.ylabel(\"True Labels\")\n",
    "plt.title(\"Confusion Matrix\")\n",
    "\n",
    "# Show the plot\n",
    "plt.show()"
   ]
  },
  {
   "cell_type": "code",
   "execution_count": 5,
   "id": "12213f69",
   "metadata": {},
   "outputs": [
    {
     "data": {
      "text/plain": [
       "['SVM_linear_beforeFineTuning_multilingual_Report.pkl']"
      ]
     },
     "execution_count": 5,
     "metadata": {},
     "output_type": "execute_result"
    }
   ],
   "source": [
    "import joblib\n",
    "joblib.dump(svm, 'SVM_linear_beforeFineTuning_multilingual_Report.pkl')"
   ]
  },
  {
   "cell_type": "code",
   "execution_count": 6,
   "id": "227f3cf3",
   "metadata": {},
   "outputs": [],
   "source": [
    "svm = joblib.load('SVM_linear_beforeFineTuning_multilingual_Report.pkl')"
   ]
  },
  {
   "cell_type": "markdown",
   "id": "23ac0e85",
   "metadata": {},
   "source": [
    "# Test on Arabic before Fine Tune"
   ]
  },
  {
   "cell_type": "code",
   "execution_count": 7,
   "id": "d954f9bc",
   "metadata": {},
   "outputs": [
    {
     "name": "stdout",
     "output_type": "stream",
     "text": [
      "(105698, 7)\n",
      "(50000, 7)\n",
      "(50000, 7)\n"
     ]
    }
   ],
   "source": [
    "df_ = pd.read_excel('../../base-line/balanced-reviews.xlsx')\n",
    "print(df_.shape)\n",
    "# df = df.head(500)\n",
    "# Select the first 500 rows of the dataset\n",
    "df = df_.iloc[:50000]\n",
    "print(df.shape)\n",
    "\n",
    "# Select the next 500 rows of the dataset\n",
    "df2 = df_.iloc[50000:100000]\n",
    "# print(df1.shape)\n",
    "print(df2.shape)\n",
    "# df.head()"
   ]
  },
  {
   "cell_type": "code",
   "execution_count": 8,
   "id": "8d760d46",
   "metadata": {},
   "outputs": [
    {
     "data": {
      "text/html": [
       "<div>\n",
       "<style scoped>\n",
       "    .dataframe tbody tr th:only-of-type {\n",
       "        vertical-align: middle;\n",
       "    }\n",
       "\n",
       "    .dataframe tbody tr th {\n",
       "        vertical-align: top;\n",
       "    }\n",
       "\n",
       "    .dataframe thead th {\n",
       "        text-align: right;\n",
       "    }\n",
       "</style>\n",
       "<table border=\"1\" class=\"dataframe\">\n",
       "  <thead>\n",
       "    <tr style=\"text-align: right;\">\n",
       "      <th></th>\n",
       "      <th>no</th>\n",
       "      <th>Hotel name</th>\n",
       "      <th>rating</th>\n",
       "      <th>user type</th>\n",
       "      <th>room type</th>\n",
       "      <th>nights</th>\n",
       "      <th>review</th>\n",
       "      <th>sentiment</th>\n",
       "      <th>arabic_Embeddings</th>\n",
       "    </tr>\n",
       "  </thead>\n",
       "  <tbody>\n",
       "    <tr>\n",
       "      <th>0</th>\n",
       "      <td>64908</td>\n",
       "      <td>بودل الفيحاء</td>\n",
       "      <td>1</td>\n",
       "      <td>مسافر منفرد</td>\n",
       "      <td>جناح من غرفة نوم واحدة</td>\n",
       "      <td>أقمت ليلتين</td>\n",
       "      <td>“لا انصح بالسكن فيه ولن اكرر تجربتي مع بودل”. ...</td>\n",
       "      <td>negative</td>\n",
       "      <td>[-0.053905951935531604, -0.014622465750185326,...</td>\n",
       "    </tr>\n",
       "    <tr>\n",
       "      <th>1</th>\n",
       "      <td>24092</td>\n",
       "      <td>المروة ريحان من روتانا - مكة</td>\n",
       "      <td>1</td>\n",
       "      <td>أسرة</td>\n",
       "      <td>غرفة رباعية بريميوم</td>\n",
       "      <td>أقمت 5 ليالي</td>\n",
       "      <td>“ماعجبني ابدأ الفندق”. الافطارلاباس  السرير مر...</td>\n",
       "      <td>negative</td>\n",
       "      <td>[-0.024345980312994387, -0.017980983919531776,...</td>\n",
       "    </tr>\n",
       "    <tr>\n",
       "      <th>2</th>\n",
       "      <td>108007</td>\n",
       "      <td>دار الفهد للشقق الفندقية</td>\n",
       "      <td>1</td>\n",
       "      <td>أسرة</td>\n",
       "      <td>-</td>\n",
       "      <td>أقمت ليلة واحدة</td>\n",
       "      <td>“أثاثها قديم ومتسخ جداً غير صالح للاستخدام”. ا...</td>\n",
       "      <td>negative</td>\n",
       "      <td>[-0.02423540361416414, -0.028972101360596605, ...</td>\n",
       "    </tr>\n",
       "    <tr>\n",
       "      <th>3</th>\n",
       "      <td>155802</td>\n",
       "      <td>جولدن توليب البرشاء</td>\n",
       "      <td>1</td>\n",
       "      <td>مسافر منفرد</td>\n",
       "      <td>غرفة قياسية</td>\n",
       "      <td>أقمت 3 ليالي</td>\n",
       "      <td>“اسواء فندق اقمت فيه”. . الخدمات و النظافة</td>\n",
       "      <td>negative</td>\n",
       "      <td>[-0.07062224850765304, -0.020988578390386266, ...</td>\n",
       "    </tr>\n",
       "    <tr>\n",
       "      <th>4</th>\n",
       "      <td>149128</td>\n",
       "      <td>فندق فورتشن بلازا</td>\n",
       "      <td>1</td>\n",
       "      <td>مسافر منفرد</td>\n",
       "      <td>غرفة ديلوكس</td>\n",
       "      <td>أقمت 3 ليالي</td>\n",
       "      <td>“اغباء فندق في العالم”. . كل شي سيئ يوجد حشرات...</td>\n",
       "      <td>negative</td>\n",
       "      <td>[-0.023022204479338816, -0.030984906839331097,...</td>\n",
       "    </tr>\n",
       "    <tr>\n",
       "      <th>...</th>\n",
       "      <td>...</td>\n",
       "      <td>...</td>\n",
       "      <td>...</td>\n",
       "      <td>...</td>\n",
       "      <td>...</td>\n",
       "      <td>...</td>\n",
       "      <td>...</td>\n",
       "      <td>...</td>\n",
       "      <td>...</td>\n",
       "    </tr>\n",
       "    <tr>\n",
       "      <th>9995</th>\n",
       "      <td>170783</td>\n",
       "      <td>فندق وأجنحة هوثورن من ويندهام</td>\n",
       "      <td>5</td>\n",
       "      <td>-</td>\n",
       "      <td>غرفة ديلوكس</td>\n",
       "      <td>أقمت 5 ليالي</td>\n",
       "      <td>“جميييييييل”. الوان الغرفه كبر الغرفه الخدمه ا...</td>\n",
       "      <td>positive</td>\n",
       "      <td>[-0.039616949246513225, -0.006864479102795054,...</td>\n",
       "    </tr>\n",
       "    <tr>\n",
       "      <th>9996</th>\n",
       "      <td>80161</td>\n",
       "      <td>سيتي بريميير للشقق الفندقية</td>\n",
       "      <td>5</td>\n",
       "      <td>-</td>\n",
       "      <td>شقة ديلوكس من غرفة نوم واحدة تطل على برج خليفة</td>\n",
       "      <td>أقمت ليلة واحدة</td>\n",
       "      <td>“رايق للعوايل وللشباب المحافظين”. رائع في التج...</td>\n",
       "      <td>positive</td>\n",
       "      <td>[-0.01863947375243782, -0.026245007884989284, ...</td>\n",
       "    </tr>\n",
       "    <tr>\n",
       "      <th>9997</th>\n",
       "      <td>112199</td>\n",
       "      <td>دار الهجرة إنتركونتيننتال</td>\n",
       "      <td>5</td>\n",
       "      <td>أسرة</td>\n",
       "      <td>غرفة ثلاثية مطلة على المدينة - للمدخنين</td>\n",
       "      <td>أقمت ليلتين</td>\n",
       "      <td>“رائع”. قربه من الحرم النظافة عدم الازعاج يوم ...</td>\n",
       "      <td>positive</td>\n",
       "      <td>[-0.05853575314017067, -0.01359226692353851, -...</td>\n",
       "    </tr>\n",
       "    <tr>\n",
       "      <th>9998</th>\n",
       "      <td>153730</td>\n",
       "      <td>فندق جلوريا</td>\n",
       "      <td>5</td>\n",
       "      <td>أسرة</td>\n",
       "      <td>-</td>\n",
       "      <td>أقمت ليلة واحدة</td>\n",
       "      <td>“تجربة جميلة جدير بالتجربة”. النظافة وسرعة الخ...</td>\n",
       "      <td>positive</td>\n",
       "      <td>[-0.0176337960949005, 0.0026524817289615855, -...</td>\n",
       "    </tr>\n",
       "    <tr>\n",
       "      <th>9999</th>\n",
       "      <td>189101</td>\n",
       "      <td>حياة ريجنسى مكة</td>\n",
       "      <td>5</td>\n",
       "      <td>أسرة</td>\n",
       "      <td>-</td>\n",
       "      <td>أقمت ليلتين</td>\n",
       "      <td>استثنائي. الفندق ممتاز جدا  سرعة الاجراءات وفر...</td>\n",
       "      <td>positive</td>\n",
       "      <td>[-0.015590260816710883, -0.024827922762307043,...</td>\n",
       "    </tr>\n",
       "  </tbody>\n",
       "</table>\n",
       "<p>10000 rows × 9 columns</p>\n",
       "</div>"
      ],
      "text/plain": [
       "          no                     Hotel name  rating    user type  \\\n",
       "0      64908                   بودل الفيحاء       1  مسافر منفرد   \n",
       "1      24092   المروة ريحان من روتانا - مكة       1         أسرة   \n",
       "2     108007       دار الفهد للشقق الفندقية       1         أسرة   \n",
       "3     155802            جولدن توليب البرشاء       1  مسافر منفرد   \n",
       "4     149128              فندق فورتشن بلازا       1  مسافر منفرد   \n",
       "...      ...                            ...     ...          ...   \n",
       "9995  170783  فندق وأجنحة هوثورن من ويندهام       5            -   \n",
       "9996   80161    سيتي بريميير للشقق الفندقية       5            -   \n",
       "9997  112199      دار الهجرة إنتركونتيننتال       5         أسرة   \n",
       "9998  153730                    فندق جلوريا       5         أسرة   \n",
       "9999  189101                حياة ريجنسى مكة       5         أسرة   \n",
       "\n",
       "                                           room type           nights  \\\n",
       "0                             جناح من غرفة نوم واحدة      أقمت ليلتين   \n",
       "1                                غرفة رباعية بريميوم     أقمت 5 ليالي   \n",
       "2                                                  -  أقمت ليلة واحدة   \n",
       "3                                        غرفة قياسية     أقمت 3 ليالي   \n",
       "4                                        غرفة ديلوكس     أقمت 3 ليالي   \n",
       "...                                              ...              ...   \n",
       "9995                                     غرفة ديلوكس     أقمت 5 ليالي   \n",
       "9996  شقة ديلوكس من غرفة نوم واحدة تطل على برج خليفة  أقمت ليلة واحدة   \n",
       "9997         غرفة ثلاثية مطلة على المدينة - للمدخنين      أقمت ليلتين   \n",
       "9998                                               -  أقمت ليلة واحدة   \n",
       "9999                                               -      أقمت ليلتين   \n",
       "\n",
       "                                                 review sentiment  \\\n",
       "0     “لا انصح بالسكن فيه ولن اكرر تجربتي مع بودل”. ...  negative   \n",
       "1     “ماعجبني ابدأ الفندق”. الافطارلاباس  السرير مر...  negative   \n",
       "2     “أثاثها قديم ومتسخ جداً غير صالح للاستخدام”. ا...  negative   \n",
       "3            “اسواء فندق اقمت فيه”. . الخدمات و النظافة  negative   \n",
       "4     “اغباء فندق في العالم”. . كل شي سيئ يوجد حشرات...  negative   \n",
       "...                                                 ...       ...   \n",
       "9995  “جميييييييل”. الوان الغرفه كبر الغرفه الخدمه ا...  positive   \n",
       "9996  “رايق للعوايل وللشباب المحافظين”. رائع في التج...  positive   \n",
       "9997  “رائع”. قربه من الحرم النظافة عدم الازعاج يوم ...  positive   \n",
       "9998  “تجربة جميلة جدير بالتجربة”. النظافة وسرعة الخ...  positive   \n",
       "9999  استثنائي. الفندق ممتاز جدا  سرعة الاجراءات وفر...  positive   \n",
       "\n",
       "                                      arabic_Embeddings  \n",
       "0     [-0.053905951935531604, -0.014622465750185326,...  \n",
       "1     [-0.024345980312994387, -0.017980983919531776,...  \n",
       "2     [-0.02423540361416414, -0.028972101360596605, ...  \n",
       "3     [-0.07062224850765304, -0.020988578390386266, ...  \n",
       "4     [-0.023022204479338816, -0.030984906839331097,...  \n",
       "...                                                 ...  \n",
       "9995  [-0.039616949246513225, -0.006864479102795054,...  \n",
       "9996  [-0.01863947375243782, -0.026245007884989284, ...  \n",
       "9997  [-0.05853575314017067, -0.01359226692353851, -...  \n",
       "9998  [-0.0176337960949005, 0.0026524817289615855, -...  \n",
       "9999  [-0.015590260816710883, -0.024827922762307043,...  \n",
       "\n",
       "[10000 rows x 9 columns]"
      ]
     },
     "execution_count": 8,
     "metadata": {},
     "output_type": "execute_result"
    }
   ],
   "source": [
    "\n",
    "# determine the minimum number of rows for each rating value\n",
    "min_count = df[\"rating\"].value_counts().min()\n",
    "min_count = 2500\n",
    "# subset the original dataset for each rating value\n",
    "df_1 = df[df[\"rating\"] == 1]\n",
    "df_2 = df[df[\"rating\"] == 2]\n",
    "df_4 = df[df[\"rating\"] == 4]\n",
    "df_5 = df[df[\"rating\"] == 5]\n",
    "\n",
    "# randomly sample the minimum number of rows for each rating value\n",
    "df_1_sampled = df_1.sample(n=min_count, random_state=42)\n",
    "df_2_sampled = df_2.sample(n=min_count, random_state=42)\n",
    "df_4_sampled = df_4.sample(n=min_count, random_state=42)\n",
    "df_5_sampled = df_5.sample(n=min_count, random_state=42)\n",
    "\n",
    "# combine the sampled rows for each rating value into a new dataset\n",
    "df_balanced = pd.concat([df_1_sampled, df_2_sampled, df_4_sampled, df_5_sampled])\n",
    "\n",
    "# save the balanced dataset to a new file\n",
    "df_balanced.to_csv(\"balanced_dataset.csv\", index=False)\n",
    "\n",
    "df = pd.read_csv('balanced_dataset.csv')\n",
    "# Define a function to map the rating to sentiment\n",
    "def map_sentiment(rating):\n",
    "    if rating in [1, 2]:\n",
    "        return \"negative\"\n",
    "    elif rating in [4, 5]:\n",
    "        return \"positive\"\n",
    "    else:\n",
    "        raise ValueError(\"Invalid rating value: {}\".format(rating))\n",
    "\n",
    "# Apply the function to the 'rating' column and create a new 'sentiment' column\n",
    "df['sentiment'] = df['rating'].apply(map_sentiment)\n",
    "\n",
    "# Apply sentence embeddings to first column of dataframe\n",
    "reviews = df['review'].tolist()\n",
    "reviews_embeddings = compute_sentence_embeddings(reviews, ar_embeddings, \"ar\")\n",
    "\n",
    "# Add new column with embeddings to dataframe\n",
    "df['arabic_Embeddings'] = reviews_embeddings\n",
    "\n",
    "df"
   ]
  },
  {
   "cell_type": "code",
   "execution_count": 9,
   "id": "39e2a8f3",
   "metadata": {},
   "outputs": [],
   "source": [
    "import pandas as pd\n",
    "from sklearn.model_selection import train_test_split\n",
    "\n",
    "\n",
    "\n",
    "X = np.vstack(df['arabic_Embeddings']) \n",
    "y = df['sentiment']\n",
    "\n",
    "\n",
    "X_train, X_test, y_train, y_test = train_test_split(X, y, test_size=0.2, random_state=42)"
   ]
  },
  {
   "cell_type": "code",
   "execution_count": 10,
   "id": "e4fb35c0",
   "metadata": {},
   "outputs": [
    {
     "name": "stdout",
     "output_type": "stream",
     "text": [
      "Accuracy: 0.8575\n",
      "              precision    recall  f1-score   support\n",
      "\n",
      "    negative       0.83      0.91      0.87      1012\n",
      "    positive       0.90      0.81      0.85       988\n",
      "\n",
      "    accuracy                           0.86      2000\n",
      "   macro avg       0.86      0.86      0.86      2000\n",
      "weighted avg       0.86      0.86      0.86      2000\n",
      "\n"
     ]
    }
   ],
   "source": [
    "\n",
    "svm.fit(X_train, y_train)\n",
    "\n",
    "# Evaluate the performance of the SVM on the testing set\n",
    "y_pred = svm.predict(X_test)\n",
    "\n",
    "\n",
    "accuracy = accuracy_score(y_test, y_pred)\n",
    "report = classification_report(y_test, y_pred)\n",
    "print(\"Accuracy:\", accuracy)\n",
    "print(report)"
   ]
  },
  {
   "cell_type": "code",
   "execution_count": 11,
   "id": "7a6b70de",
   "metadata": {},
   "outputs": [
    {
     "name": "stdout",
     "output_type": "stream",
     "text": [
      "[[919  93]\n",
      " [192 796]]\n"
     ]
    },
    {
     "data": {
      "image/png": "[encoded data removed]",
      "text/plain": [
       "<Figure size 640x480 with 2 Axes>"
      ]
     },
     "metadata": {},
     "output_type": "display_data"
    }
   ],
   "source": [
    "import numpy as np\n",
    "import seaborn as sns\n",
    "import matplotlib.pyplot as plt\n",
    "from sklearn.metrics import confusion_matrix\n",
    "\n",
    "cm = confusion_matrix(y_test, y_pred)\n",
    "\n",
    "print(cm)\n",
    "\n",
    "# Create a heatmap\n",
    "sns.heatmap(cm, annot=True, fmt=\"d\", cmap=\"Blues\")\n",
    "\n",
    "# Add labels, title, and ticks\n",
    "plt.xlabel(\"Predicted Labels\")\n",
    "plt.ylabel(\"True Labels\")\n",
    "plt.title(\"Confusion Matrix\")\n",
    "\n",
    "# Show the plot\n",
    "plt.show()"
   ]
  },
  {
   "cell_type": "code",
   "execution_count": 12,
   "id": "053bb479",
   "metadata": {},
   "outputs": [],
   "source": [
    "import joblib\n",
    "joblib.dump(svm, 'SVM_linear_En_Ar_MModel.pkl')\n",
    "\n",
    "import pickle\n",
    "filename = 'SVM_linear_En_Ar_MModel.sav'\n",
    "pickle.dump(svm, open(filename, 'wb'))\n",
    "\n",
    "svm = joblib.load('SVM_linear_En_Ar_MModel.pkl')\n",
    "svm = pickle.load(open(filename, 'rb'))\n",
    "# load the model from disk\n",
    "# loaded_model = pickle.load(open(filename, 'rb'))"
   ]
  },
  {
   "cell_type": "code",
   "execution_count": 13,
   "id": "41040e3f",
   "metadata": {},
   "outputs": [],
   "source": [
    "# svm = joblib.load('SVM_linear_En_Ar_MModel.pkl')\n",
    "# svm = pickle.load(open(filename, 'rb'))"
   ]
  },
  {
   "cell_type": "markdown",
   "id": "b448c8d4",
   "metadata": {},
   "source": [
    "## Test on Arabic after Fine Tunning"
   ]
  },
  {
   "cell_type": "code",
   "execution_count": 14,
   "id": "49e630bc",
   "metadata": {},
   "outputs": [
    {
     "data": {
      "text/html": [
       "<div>\n",
       "<style scoped>\n",
       "    .dataframe tbody tr th:only-of-type {\n",
       "        vertical-align: middle;\n",
       "    }\n",
       "\n",
       "    .dataframe tbody tr th {\n",
       "        vertical-align: top;\n",
       "    }\n",
       "\n",
       "    .dataframe thead th {\n",
       "        text-align: right;\n",
       "    }\n",
       "</style>\n",
       "<table border=\"1\" class=\"dataframe\">\n",
       "  <thead>\n",
       "    <tr style=\"text-align: right;\">\n",
       "      <th></th>\n",
       "      <th>no</th>\n",
       "      <th>Hotel name</th>\n",
       "      <th>rating</th>\n",
       "      <th>user type</th>\n",
       "      <th>room type</th>\n",
       "      <th>nights</th>\n",
       "      <th>review</th>\n",
       "      <th>sentiment</th>\n",
       "      <th>arabic_Embeddings</th>\n",
       "    </tr>\n",
       "  </thead>\n",
       "  <tbody>\n",
       "    <tr>\n",
       "      <th>0</th>\n",
       "      <td>199137</td>\n",
       "      <td>فندق إنتركونتننتال الرياض</td>\n",
       "      <td>1</td>\n",
       "      <td>-</td>\n",
       "      <td>-</td>\n",
       "      <td>أقمت ليلة واحدة</td>\n",
       "      <td>“للاسف الأسعار عاليه عن الرتزكارلتون فرق كبير”...</td>\n",
       "      <td>negative</td>\n",
       "      <td>[-0.027617355489646743, -0.027134252482051712,...</td>\n",
       "    </tr>\n",
       "    <tr>\n",
       "      <th>1</th>\n",
       "      <td>223083</td>\n",
       "      <td>روعة جراند</td>\n",
       "      <td>1</td>\n",
       "      <td>-</td>\n",
       "      <td>-</td>\n",
       "      <td>أقمت 4 ليالي</td>\n",
       "      <td>ضعيف جداً. . تعامل عامل استقبال حرامي وجذاب</td>\n",
       "      <td>negative</td>\n",
       "      <td>[-0.07297144687830402, -0.058337575685269205, ...</td>\n",
       "    </tr>\n",
       "    <tr>\n",
       "      <th>2</th>\n",
       "      <td>228780</td>\n",
       "      <td>فندق مفرق أبوظبي</td>\n",
       "      <td>1</td>\n",
       "      <td>مسافر منفرد</td>\n",
       "      <td>غرفة ديلوكس - مطلة على المدينة</td>\n",
       "      <td>أقمت ليلة واحدة</td>\n",
       "      <td>“عذاب المسافر المفرق”. لا شي. التكيف تعيس جداااا</td>\n",
       "      <td>negative</td>\n",
       "      <td>[-0.06824178535117502, -0.013386479731770167, ...</td>\n",
       "    </tr>\n",
       "    <tr>\n",
       "      <th>3</th>\n",
       "      <td>220680</td>\n",
       "      <td>أبراج لو ميريديان مكة</td>\n",
       "      <td>1</td>\n",
       "      <td>أسرة</td>\n",
       "      <td>غرفة Diplomatic</td>\n",
       "      <td>أقمت ليلة واحدة</td>\n",
       "      <td>ضعيف جداً. . تجربة سيئة جدًا ..</td>\n",
       "      <td>negative</td>\n",
       "      <td>[-0.042811420289857356, -0.052092635723308994,...</td>\n",
       "    </tr>\n",
       "    <tr>\n",
       "      <th>4</th>\n",
       "      <td>368378</td>\n",
       "      <td>صن رايز للشقق الفندقية</td>\n",
       "      <td>1</td>\n",
       "      <td>أسرة</td>\n",
       "      <td>-</td>\n",
       "      <td>أقمت 3 ليالي</td>\n",
       "      <td>ضعيف جداً. . الحشراااااااااات</td>\n",
       "      <td>negative</td>\n",
       "      <td>[-0.07198749914818887, -0.07148322895331002, -...</td>\n",
       "    </tr>\n",
       "    <tr>\n",
       "      <th>...</th>\n",
       "      <td>...</td>\n",
       "      <td>...</td>\n",
       "      <td>...</td>\n",
       "      <td>...</td>\n",
       "      <td>...</td>\n",
       "      <td>...</td>\n",
       "      <td>...</td>\n",
       "      <td>...</td>\n",
       "      <td>...</td>\n",
       "    </tr>\n",
       "    <tr>\n",
       "      <th>9995</th>\n",
       "      <td>378713</td>\n",
       "      <td>العنوان مرسى دبي</td>\n",
       "      <td>5</td>\n",
       "      <td>مسافر منفرد</td>\n",
       "      <td>غرفة ديلوكس</td>\n",
       "      <td>أقمت ليلتين</td>\n",
       "      <td>استثنائي. الهدوء. الانترنت ضعيف</td>\n",
       "      <td>positive</td>\n",
       "      <td>[-0.047798823616219295, -0.030668117260095527,...</td>\n",
       "    </tr>\n",
       "    <tr>\n",
       "      <th>9996</th>\n",
       "      <td>259697</td>\n",
       "      <td>فندق موفنبيك برج هاجر - مكة</td>\n",
       "      <td>5</td>\n",
       "      <td>زوج</td>\n",
       "      <td>غرفة ثلاثية كلاسيكية</td>\n",
       "      <td>أقمت ليلة واحدة</td>\n",
       "      <td>“ابو مشاري”. . ارتفاع أسعار خدمات المغسلة و ال...</td>\n",
       "      <td>positive</td>\n",
       "      <td>[-0.039156388455817696, -0.010755269566562064,...</td>\n",
       "    </tr>\n",
       "    <tr>\n",
       "      <th>9997</th>\n",
       "      <td>234967</td>\n",
       "      <td>فندق مكة ماريوت</td>\n",
       "      <td>5</td>\n",
       "      <td>أسرة</td>\n",
       "      <td>غرفة مزدوجة مع إطلال</td>\n",
       "      <td>أقمت 3 ليالي</td>\n",
       "      <td>“الفخامه و الراحة”. ببساطة .. عشت الفخامه في ي...</td>\n",
       "      <td>positive</td>\n",
       "      <td>[-0.017306516722411888, 0.002052524856261516, ...</td>\n",
       "    </tr>\n",
       "    <tr>\n",
       "      <th>9998</th>\n",
       "      <td>273868</td>\n",
       "      <td>فندق ميركيور سنتر أبو ظبي</td>\n",
       "      <td>5</td>\n",
       "      <td>-</td>\n",
       "      <td>غرفة قياسية مزدوجة</td>\n",
       "      <td>أقمت ليلة واحدة</td>\n",
       "      <td>“جيد”. جيد. لايوجد</td>\n",
       "      <td>positive</td>\n",
       "      <td>[-0.051552900667715944, -0.04169652922187016, ...</td>\n",
       "    </tr>\n",
       "    <tr>\n",
       "      <th>9999</th>\n",
       "      <td>309880</td>\n",
       "      <td>فندق رامادا شيلسي البرشاء</td>\n",
       "      <td>5</td>\n",
       "      <td>زوج</td>\n",
       "      <td>غرفة مزدوجة</td>\n",
       "      <td>أقمت 3 ليالي</td>\n",
       "      <td>ممتاز. يوجد بالاستقبال آنسة مها الصراحة كان اس...</td>\n",
       "      <td>positive</td>\n",
       "      <td>[-0.040349651431159525, -0.04975404128787531, ...</td>\n",
       "    </tr>\n",
       "  </tbody>\n",
       "</table>\n",
       "<p>10000 rows × 9 columns</p>\n",
       "</div>"
      ],
      "text/plain": [
       "          no                   Hotel name  rating    user type  \\\n",
       "0     199137    فندق إنتركونتننتال الرياض       1            -   \n",
       "1     223083                   روعة جراند       1            -   \n",
       "2     228780             فندق مفرق أبوظبي       1  مسافر منفرد   \n",
       "3     220680        أبراج لو ميريديان مكة       1         أسرة   \n",
       "4     368378       صن رايز للشقق الفندقية       1         أسرة   \n",
       "...      ...                          ...     ...          ...   \n",
       "9995  378713             العنوان مرسى دبي       5  مسافر منفرد   \n",
       "9996  259697  فندق موفنبيك برج هاجر - مكة       5          زوج   \n",
       "9997  234967              فندق مكة ماريوت       5         أسرة   \n",
       "9998  273868    فندق ميركيور سنتر أبو ظبي       5            -   \n",
       "9999  309880    فندق رامادا شيلسي البرشاء       5          زوج   \n",
       "\n",
       "                           room type           nights  \\\n",
       "0                                  -  أقمت ليلة واحدة   \n",
       "1                                  -     أقمت 4 ليالي   \n",
       "2     غرفة ديلوكس - مطلة على المدينة  أقمت ليلة واحدة   \n",
       "3                    غرفة Diplomatic  أقمت ليلة واحدة   \n",
       "4                                  -     أقمت 3 ليالي   \n",
       "...                              ...              ...   \n",
       "9995                     غرفة ديلوكس      أقمت ليلتين   \n",
       "9996            غرفة ثلاثية كلاسيكية  أقمت ليلة واحدة   \n",
       "9997            غرفة مزدوجة مع إطلال     أقمت 3 ليالي   \n",
       "9998              غرفة قياسية مزدوجة  أقمت ليلة واحدة   \n",
       "9999                     غرفة مزدوجة     أقمت 3 ليالي   \n",
       "\n",
       "                                                 review sentiment  \\\n",
       "0     “للاسف الأسعار عاليه عن الرتزكارلتون فرق كبير”...  negative   \n",
       "1           ضعيف جداً. . تعامل عامل استقبال حرامي وجذاب  negative   \n",
       "2      “عذاب المسافر المفرق”. لا شي. التكيف تعيس جداااا  negative   \n",
       "3                       ضعيف جداً. . تجربة سيئة جدًا ..  negative   \n",
       "4                         ضعيف جداً. . الحشراااااااااات  negative   \n",
       "...                                                 ...       ...   \n",
       "9995                    استثنائي. الهدوء. الانترنت ضعيف  positive   \n",
       "9996  “ابو مشاري”. . ارتفاع أسعار خدمات المغسلة و ال...  positive   \n",
       "9997  “الفخامه و الراحة”. ببساطة .. عشت الفخامه في ي...  positive   \n",
       "9998                                 “جيد”. جيد. لايوجد  positive   \n",
       "9999  ممتاز. يوجد بالاستقبال آنسة مها الصراحة كان اس...  positive   \n",
       "\n",
       "                                      arabic_Embeddings  \n",
       "0     [-0.027617355489646743, -0.027134252482051712,...  \n",
       "1     [-0.07297144687830402, -0.058337575685269205, ...  \n",
       "2     [-0.06824178535117502, -0.013386479731770167, ...  \n",
       "3     [-0.042811420289857356, -0.052092635723308994,...  \n",
       "4     [-0.07198749914818887, -0.07148322895331002, -...  \n",
       "...                                                 ...  \n",
       "9995  [-0.047798823616219295, -0.030668117260095527,...  \n",
       "9996  [-0.039156388455817696, -0.010755269566562064,...  \n",
       "9997  [-0.017306516722411888, 0.002052524856261516, ...  \n",
       "9998  [-0.051552900667715944, -0.04169652922187016, ...  \n",
       "9999  [-0.040349651431159525, -0.04975404128787531, ...  \n",
       "\n",
       "[10000 rows x 9 columns]"
      ]
     },
     "execution_count": 14,
     "metadata": {},
     "output_type": "execute_result"
    }
   ],
   "source": [
    "\n",
    "# determine the minimum number of rows for each rating value\n",
    "min_count = df2[\"rating\"].value_counts().min()\n",
    "min_count = 2500\n",
    "# subset the original dataset for each rating value\n",
    "df_1 = df2[df2[\"rating\"] == 1]\n",
    "df_2 = df2[df2[\"rating\"] == 2]\n",
    "df_4 = df2[df2[\"rating\"] == 4]\n",
    "df_5 = df2[df2[\"rating\"] == 5]\n",
    "\n",
    "# randomly sample the minimum number of rows for each rating value\n",
    "df_1_sampled = df_1.sample(n=min_count, random_state=42)\n",
    "df_2_sampled = df_2.sample(n=min_count, random_state=42)\n",
    "df_4_sampled = df_4.sample(n=min_count, random_state=42)\n",
    "df_5_sampled = df_5.sample(n=min_count, random_state=42)\n",
    "\n",
    "# combine the sampled rows for each rating value into a new dataset\n",
    "df_balanced = pd.concat([df_1_sampled, df_2_sampled, df_4_sampled, df_5_sampled])\n",
    "\n",
    "# save the balanced dataset to a new file\n",
    "df_balanced.to_csv(\"balanced_dataset.csv\", index=False)\n",
    "\n",
    "df = pd.read_csv('balanced_dataset.csv')\n",
    "# Define a function to map the rating to sentiment\n",
    "def map_sentiment(rating):\n",
    "    if rating in [1, 2]:\n",
    "        return \"negative\"\n",
    "    elif rating in [4, 5]:\n",
    "        return \"positive\"\n",
    "    else:\n",
    "        raise ValueError(\"Invalid rating value: {}\".format(rating))\n",
    "\n",
    "# Apply the function to the 'rating' column and create a new 'sentiment' column\n",
    "df['sentiment'] = df['rating'].apply(map_sentiment)\n",
    "\n",
    "# Apply sentence embeddings to first column of dataframe\n",
    "reviews = df['review'].tolist()\n",
    "reviews_embeddings = compute_sentence_embeddings(reviews, ar_embeddings, \"ar\")\n",
    "\n",
    "# Add new column with embeddings to dataframe\n",
    "df['arabic_Embeddings'] = reviews_embeddings\n",
    "\n",
    "df"
   ]
  },
  {
   "cell_type": "code",
   "execution_count": 15,
   "id": "4e7ae4dd",
   "metadata": {},
   "outputs": [
    {
     "name": "stdout",
     "output_type": "stream",
     "text": [
      "Accuracy: 0.8649\n",
      "              precision    recall  f1-score   support\n",
      "\n",
      "    negative       0.84      0.91      0.87      5000\n",
      "    positive       0.90      0.82      0.86      5000\n",
      "\n",
      "    accuracy                           0.86     10000\n",
      "   macro avg       0.87      0.86      0.86     10000\n",
      "weighted avg       0.87      0.86      0.86     10000\n",
      "\n"
     ]
    }
   ],
   "source": [
    "X_test = np.vstack(df['arabic_Embeddings']) \n",
    "y_test = df['sentiment']\n",
    "y_pred = svm.predict(X_test)\n",
    "\n",
    "\n",
    "accuracy = accuracy_score(y_test, y_pred)\n",
    "report = classification_report(y_test, y_pred)\n",
    "print(\"Accuracy:\", accuracy)\n",
    "print(report)"
   ]
  },
  {
   "cell_type": "code",
   "execution_count": 16,
   "id": "fbe2a148",
   "metadata": {},
   "outputs": [
    {
     "name": "stdout",
     "output_type": "stream",
     "text": [
      "[[4532  468]\n",
      " [ 883 4117]]\n"
     ]
    },
    {
     "data": {
      "image/png": "[encoded data removed]",
      "text/plain": [
       "<Figure size 640x480 with 2 Axes>"
      ]
     },
     "metadata": {},
     "output_type": "display_data"
    }
   ],
   "source": [
    "import numpy as np\n",
    "import seaborn as sns\n",
    "import matplotlib.pyplot as plt\n",
    "from sklearn.metrics import confusion_matrix\n",
    "\n",
    "cm = confusion_matrix(y_test, y_pred)\n",
    "\n",
    "print(cm)\n",
    "\n",
    "# Create a heatmap\n",
    "sns.heatmap(cm, annot=True, fmt=\"d\", cmap=\"Blues\")\n",
    "\n",
    "# Add labels, title, and ticks\n",
    "plt.xlabel(\"Predicted Labels\")\n",
    "plt.ylabel(\"True Labels\")\n",
    "plt.title(\"Confusion Matrix\")\n",
    "\n",
    "# Show the plot\n",
    "plt.show()"
   ]
  },
  {
   "cell_type": "markdown",
   "id": "f146523c",
   "metadata": {},
   "source": [
    "# French - FineTune - Test"
   ]
  },
  {
   "cell_type": "code",
   "execution_count": 17,
   "id": "9904b596",
   "metadata": {},
   "outputs": [
    {
     "name": "stderr",
     "output_type": "stream",
     "text": [
      "C:\\Users\\ALI\\AppData\\Local\\Temp\\ipykernel_5976\\739881597.py:30: SettingWithCopyWarning: \n",
      "A value is trying to be set on a copy of a slice from a DataFrame.\n",
      "Try using .loc[row_indexer,col_indexer] = value instead\n",
      "\n",
      "See the caveats in the documentation: https://pandas.pydata.org/pandas-docs/stable/user_guide/indexing.html#returning-a-view-versus-a-copy\n",
      "  final_sample['french_Embeddings'] = reviews_embeddings\n"
     ]
    },
    {
     "name": "stdout",
     "output_type": "stream",
     "text": [
      "Accuracy: 0.566\n",
      "              precision    recall  f1-score   support\n",
      "\n",
      "           0       0.55      0.79      0.64       250\n",
      "           1       0.62      0.34      0.44       250\n",
      "\n",
      "    accuracy                           0.57       500\n",
      "   macro avg       0.58      0.57      0.54       500\n",
      "weighted avg       0.58      0.57      0.54       500\n",
      "\n"
     ]
    }
   ],
   "source": [
    "svm = joblib.load('SVM_linear_En_Ar_MModel.pkl')\n",
    "import pandas as pd\n",
    "\n",
    "# Load the entire dataset into a DataFrame\n",
    "df = pd.read_csv('C:/Users/ALI/Desktop/French Dataset/french_tweets.csv')\n",
    "\n",
    "# Split the dataset into two separate DataFrames by class\n",
    "class_0 = df[df['label'] == 0]\n",
    "class_1 = df[df['label'] == 1]\n",
    "\n",
    "# Sample 250 rows from each class\n",
    "sample_0 = class_0.sample(n=250, random_state=42)\n",
    "sample_1 = class_1.sample(n=250, random_state=42)\n",
    "\n",
    "# Combine the two samples into a single DataFrame\n",
    "sample = pd.concat([sample_0, sample_1])\n",
    "\n",
    "\n",
    "# Shuffle the rows of the combined sample\n",
    "sample = sample.sample(frac=1, random_state=42)\n",
    "\n",
    "# Take the first 500 rows of the shuffled sample\n",
    "final_sample = sample.head(500)\n",
    "\n",
    "# Apply sentence embeddings to first column of dataframe\n",
    "reviews = final_sample['text'].tolist()\n",
    "reviews_embeddings = compute_sentence_embeddings(reviews, fr_embeddings, \"fr\")\n",
    "\n",
    "# Add new column with embeddings to dataframe\n",
    "final_sample['french_Embeddings'] = reviews_embeddings\n",
    "\n",
    "X_test = np.vstack(final_sample['french_Embeddings']) \n",
    "y_test = final_sample['label']\n",
    "y_pred = svm.predict(X_test)\n",
    "from sklearn.preprocessing import LabelEncoder\n",
    "# create a LabelEncoder object\n",
    "le = LabelEncoder()\n",
    "\n",
    "# fit the encoder to the values and transform the values to binary values\n",
    "binary_y_pred = le.fit_transform(y_pred)\n",
    "\n",
    "\n",
    "accuracy = accuracy_score(y_test, binary_y_pred)\n",
    "report = classification_report(y_test, binary_y_pred)\n",
    "print(\"Accuracy:\", accuracy)\n",
    "print(report)"
   ]
  },
  {
   "cell_type": "code",
   "execution_count": 19,
   "id": "fafe6629",
   "metadata": {},
   "outputs": [
    {
     "name": "stdout",
     "output_type": "stream",
     "text": [
      "[[197  53]\n",
      " [164  86]]\n"
     ]
    },
    {
     "data": {
      "image/png": "[encoded data removed]",
      "text/plain": [
       "<Figure size 640x480 with 2 Axes>"
      ]
     },
     "metadata": {},
     "output_type": "display_data"
    }
   ],
   "source": [
    "import numpy as np\n",
    "import seaborn as sns\n",
    "import matplotlib.pyplot as plt\n",
    "from sklearn.metrics import confusion_matrix\n",
    "\n",
    "cm = confusion_matrix(y_test, binary_y_pred)\n",
    "\n",
    "print(cm)\n",
    "\n",
    "# Create a heatmap\n",
    "sns.heatmap(cm, annot=True, fmt=\"d\", cmap=\"Blues\")\n",
    "\n",
    "# Add labels, title, and ticks\n",
    "plt.xlabel(\"Predicted Labels\")\n",
    "plt.ylabel(\"True Labels\")\n",
    "plt.title(\"Confusion Matrix\")\n",
    "\n",
    "# Show the plot\n",
    "plt.show()"
   ]
  },
  {
   "cell_type": "code",
   "execution_count": 20,
   "id": "64e16258",
   "metadata": {},
   "outputs": [
    {
     "name": "stdout",
     "output_type": "stream",
     "text": [
      "Accuracy: 0.66\n",
      "              precision    recall  f1-score   support\n",
      "\n",
      "           0       0.56      0.93      0.70        43\n",
      "           1       0.90      0.46      0.60        57\n",
      "\n",
      "    accuracy                           0.66       100\n",
      "   macro avg       0.73      0.69      0.65       100\n",
      "weighted avg       0.75      0.66      0.65       100\n",
      "\n"
     ]
    },
    {
     "name": "stderr",
     "output_type": "stream",
     "text": [
      "C:\\Users\\ALI\\AppData\\Local\\Temp\\ipykernel_5976\\2146145837.py:50: SettingWithCopyWarning: \n",
      "A value is trying to be set on a copy of a slice from a DataFrame.\n",
      "Try using .loc[row_indexer,col_indexer] = value instead\n",
      "\n",
      "See the caveats in the documentation: https://pandas.pydata.org/pandas-docs/stable/user_guide/indexing.html#returning-a-view-versus-a-copy\n",
      "  final_sample_2['french_Embeddings'] = reviews_embeddings\n"
     ]
    }
   ],
   "source": [
    "import pandas as pd\n",
    "\n",
    "# Load the entire dataset into a DataFrame\n",
    "df = pd.read_csv('C:/Users/ALI/Desktop/French Dataset/french_tweets.csv')\n",
    "\n",
    "# Split the dataset into two separate DataFrames by class\n",
    "class_0 = df[df['label'] == 0]\n",
    "class_1 = df[df['label'] == 1]\n",
    "\n",
    "# Sample 250 rows from each class\n",
    "sample_0 = class_0.sample(n=250, random_state=42)\n",
    "sample_1 = class_1.sample(n=250, random_state=42)\n",
    "\n",
    "# Combine the two samples into a single DataFrame\n",
    "sample = pd.concat([sample_0, sample_1])\n",
    "\n",
    "\n",
    "# Shuffle the rows of the combined sample\n",
    "sample = sample.sample(frac=1, random_state=42)\n",
    "\n",
    "# Take the first 500 rows of the shuffled sample\n",
    "final_sample_1 = sample.head(500)\n",
    "\n",
    "\n",
    "# Sample 250 rows from each class\n",
    "sample_0 = class_0.sample(n=250, random_state=42)\n",
    "sample_1 = class_1.sample(n=250, random_state=42)\n",
    "\n",
    "# Combine the two samples into a single DataFrame\n",
    "sample = pd.concat([sample_0, sample_1])\n",
    "\n",
    "\n",
    "# Shuffle the rows of the combined sample\n",
    "sample = sample.sample(frac=1, random_state=42)\n",
    "\n",
    "# Take the first 500 rows of the shuffled sample\n",
    "final_sample_2 = sample.head(500)\n",
    "# Apply sentence embeddings to first column of dataframe\n",
    "reviews = final_sample_1['text'].tolist()\n",
    "reviews_embeddings = compute_sentence_embeddings(reviews, fr_embeddings, \"fr\")\n",
    "\n",
    "# Add new column with embeddings to dataframe\n",
    "final_sample_1['french_Embeddings'] = reviews_embeddings\n",
    "\n",
    "# Apply sentence embeddings to first column of dataframe\n",
    "reviews = final_sample_2['text'].tolist()\n",
    "reviews_embeddings = compute_sentence_embeddings(reviews, fr_embeddings, \"fr\")\n",
    "\n",
    "# Add new column with embeddings to dataframe\n",
    "final_sample_2['french_Embeddings'] = reviews_embeddings\n",
    "import pandas as pd\n",
    "from sklearn.model_selection import train_test_split\n",
    "\n",
    "\n",
    "\n",
    "X = np.vstack(final_sample_1['french_Embeddings']) \n",
    "y = final_sample_1['label']\n",
    "\n",
    "X_train, X_test, y_train, y_test = train_test_split(X, y, test_size=0.2, random_state=42)\n",
    "\n",
    "\n",
    "svm.fit(X_train, y_train)\n",
    "\n",
    "# Evaluate the performance of the SVM on the testing set\n",
    "y_pred = svm.predict(X_test)\n",
    "# from sklearn.preprocessing import LabelEncoder\n",
    "# # create a LabelEncoder object\n",
    "# le = LabelEncoder()\n",
    "\n",
    "# # fit the encoder to the values and transform the values to binary values\n",
    "# binary_y_pred = le.fit_transform(y_pred)\n",
    "\n",
    "accuracy = accuracy_score(y_test, y_pred)\n",
    "report = classification_report(y_test, y_pred)\n",
    "print(\"Accuracy:\", accuracy)\n",
    "print(report)"
   ]
  },
  {
   "cell_type": "code",
   "execution_count": 21,
   "id": "37702f91",
   "metadata": {},
   "outputs": [
    {
     "name": "stdout",
     "output_type": "stream",
     "text": [
      "[[40  3]\n",
      " [31 26]]\n"
     ]
    },
    {
     "data": {
      "image/png": "[encoded data removed]",
      "text/plain": [
       "<Figure size 640x480 with 2 Axes>"
      ]
     },
     "metadata": {},
     "output_type": "display_data"
    }
   ],
   "source": [
    "import numpy as np\n",
    "import seaborn as sns\n",
    "import matplotlib.pyplot as plt\n",
    "from sklearn.metrics import confusion_matrix\n",
    "\n",
    "cm = confusion_matrix(y_test, y_pred)\n",
    "\n",
    "print(cm)\n",
    "\n",
    "# Create a heatmap\n",
    "sns.heatmap(cm, annot=True, fmt=\"d\", cmap=\"Blues\")\n",
    "\n",
    "# Add labels, title, and ticks\n",
    "plt.xlabel(\"Predicted Labels\")\n",
    "plt.ylabel(\"True Labels\")\n",
    "plt.title(\"Confusion Matrix\")\n",
    "\n",
    "# Show the plot\n",
    "plt.show()"
   ]
  },
  {
   "cell_type": "code",
   "execution_count": 22,
   "id": "eb8b080d",
   "metadata": {},
   "outputs": [],
   "source": [
    "import joblib\n",
    "joblib.dump(svm, 'SVM_linear_En_Ar_Fr_MModel.pkl')\n",
    "\n",
    "import pickle\n",
    "filename = 'SVM_linear_En_Ar_Fr_MModel.sav'\n",
    "pickle.dump(svm, open(filename, 'wb'))\n",
    "\n",
    "svm = joblib.load('SVM_linear_En_Ar_Fr_MModel.pkl')\n",
    "svm = pickle.load(open(filename, 'rb'))\n",
    "# load the model from disk\n",
    "# loaded_model = pickle.load(open(filename, 'rb'))"
   ]
  },
  {
   "cell_type": "code",
   "execution_count": 23,
   "id": "4c6771f8",
   "metadata": {},
   "outputs": [],
   "source": [
    "svm = joblib.load('SVM_linear_En_Ar_Fr_MModel.pkl')"
   ]
  },
  {
   "cell_type": "code",
   "execution_count": 24,
   "id": "a65cc231",
   "metadata": {},
   "outputs": [
    {
     "name": "stdout",
     "output_type": "stream",
     "text": [
      "Accuracy: 0.678\n",
      "              precision    recall  f1-score   support\n",
      "\n",
      "           0       0.63      0.87      0.73       250\n",
      "           1       0.79      0.48      0.60       250\n",
      "\n",
      "    accuracy                           0.68       500\n",
      "   macro avg       0.71      0.68      0.67       500\n",
      "weighted avg       0.71      0.68      0.67       500\n",
      "\n"
     ]
    }
   ],
   "source": [
    "X_test = np.vstack(final_sample_2['french_Embeddings']) \n",
    "y_test = final_sample_2['label']\n",
    "y_pred = svm.predict(X_test)\n",
    "from sklearn.preprocessing import LabelEncoder\n",
    "# create a LabelEncoder object\n",
    "le = LabelEncoder()\n",
    "\n",
    "# fit the encoder to the values and transform the values to binary values\n",
    "binary_y_pred = le.fit_transform(y_pred)\n",
    "\n",
    "\n",
    "accuracy = accuracy_score(y_test, binary_y_pred)\n",
    "report = classification_report(y_test, binary_y_pred)\n",
    "print(\"Accuracy:\", accuracy)\n",
    "print(report)"
   ]
  },
  {
   "cell_type": "code",
   "execution_count": 25,
   "id": "83bb9e3f",
   "metadata": {},
   "outputs": [
    {
     "name": "stdout",
     "output_type": "stream",
     "text": [
      "[[218  32]\n",
      " [129 121]]\n"
     ]
    },
    {
     "data": {
      "image/png": "[encoded data removed]",
      "text/plain": [
       "<Figure size 640x480 with 2 Axes>"
      ]
     },
     "metadata": {},
     "output_type": "display_data"
    }
   ],
   "source": [
    "import numpy as np\n",
    "import seaborn as sns\n",
    "import matplotlib.pyplot as plt\n",
    "from sklearn.metrics import confusion_matrix\n",
    "\n",
    "cm = confusion_matrix(y_test, y_pred)\n",
    "\n",
    "print(cm)\n",
    "\n",
    "# Create a heatmap\n",
    "sns.heatmap(cm, annot=True, fmt=\"d\", cmap=\"Blues\")\n",
    "\n",
    "# Add labels, title, and ticks\n",
    "plt.xlabel(\"Predicted Labels\")\n",
    "plt.ylabel(\"True Labels\")\n",
    "plt.title(\"Confusion Matrix\")\n",
    "\n",
    "# Show the plot\n",
    "plt.show()"
   ]
  },
  {
   "cell_type": "markdown",
   "id": "24adb66a",
   "metadata": {},
   "source": [
    "## SVM rbf Fine Tunning"
   ]
  },
  {
   "cell_type": "code",
   "execution_count": 26,
   "id": "e7769905",
   "metadata": {},
   "outputs": [
    {
     "name": "stdout",
     "output_type": "stream",
     "text": [
      "                                              review sentiment\n",
      "0  One of the other reviewers has mentioned that ...  positive\n",
      "1  A wonderful little production. <br /><br />The...  positive\n",
      "2  I thought this was a wonderful way to spend ti...  positive\n",
      "3  Basically there's a family where a little boy ...  negative\n",
      "4  Petter Mattei's \"Love in the Time of Money\" is...  positive\n",
      "Accuracy: 0.8422\n",
      "              precision    recall  f1-score   support\n",
      "\n",
      "    negative       0.84      0.84      0.84      4961\n",
      "    positive       0.85      0.84      0.84      5039\n",
      "\n",
      "    accuracy                           0.84     10000\n",
      "   macro avg       0.84      0.84      0.84     10000\n",
      "weighted avg       0.84      0.84      0.84     10000\n",
      "\n"
     ]
    }
   ],
   "source": [
    "import pandas as pd\n",
    "\n",
    "# Read the CSV file into a DataFrame object\n",
    "df = pd.read_csv('/Users/ALI/Desktop/IMDB Dataset.csv')\n",
    "\n",
    "# Print the first 5 rows of the DataFrame\n",
    "print(df.head(5))\n",
    "reviews_all_en_emb = compute_sentence_embeddings(df['review'], en_embeddings, \"en\")\n",
    "# Apply sentence embeddings to first column of dataframe\n",
    "reviews = df.iloc[:, 0].tolist()\n",
    "reviews_embeddings = compute_sentence_embeddings(reviews, en_embeddings, \"en\")\n",
    "\n",
    "# Add new column with embeddings to dataframe\n",
    "df['English_Embeddings'] = reviews_embeddings\n",
    "import pandas as pd\n",
    "import numpy as np\n",
    "from sklearn.model_selection import train_test_split\n",
    "from sklearn.svm import SVC\n",
    "from sklearn.metrics import accuracy_score\n",
    "\n",
    "# Separate the input features (sentence embeddings) and output labels (sentiment)\n",
    "X = np.vstack(df[\"English_Embeddings\"])  # input features (sentence embeddings)\n",
    "y = df[\"sentiment\"]  # output labels (sentiment)\n",
    "\n",
    "# Split the data into training and testing sets\n",
    "X_train, X_test, y_train, y_test = train_test_split(X, y, test_size=0.2, random_state=42)\n",
    "\n",
    "# Train an SVM with RBF kernel on the training set\n",
    "svm = SVC(kernel='rbf')\n",
    "svm.fit(X_train, y_train)\n",
    "\n",
    "# Evaluate the performance of the SVM on the testing set\n",
    "y_pred = svm.predict(X_test)\n",
    "\n",
    "\n",
    "accuracy = accuracy_score(y_test, y_pred)\n",
    "report = classification_report(y_test, y_pred)\n",
    "print(\"Accuracy:\", accuracy)\n",
    "print(report)"
   ]
  },
  {
   "cell_type": "code",
   "execution_count": 27,
   "id": "8f83f925",
   "metadata": {},
   "outputs": [
    {
     "name": "stdout",
     "output_type": "stream",
     "text": [
      "[[4185  776]\n",
      " [ 802 4237]]\n"
     ]
    },
    {
     "data": {
      "image/png": "[encoded data removed]",
      "text/plain": [
       "<Figure size 640x480 with 2 Axes>"
      ]
     },
     "metadata": {},
     "output_type": "display_data"
    }
   ],
   "source": [
    "import numpy as np\n",
    "import seaborn as sns\n",
    "import matplotlib.pyplot as plt\n",
    "from sklearn.metrics import confusion_matrix\n",
    "\n",
    "cm = confusion_matrix(y_test, y_pred)\n",
    "\n",
    "print(cm)\n",
    "\n",
    "# Create a heatmap\n",
    "sns.heatmap(cm, annot=True, fmt=\"d\", cmap=\"Blues\")\n",
    "\n",
    "# Add labels, title, and ticks\n",
    "plt.xlabel(\"Predicted Labels\")\n",
    "plt.ylabel(\"True Labels\")\n",
    "plt.title(\"Confusion Matrix\")\n",
    "\n",
    "# Show the plot\n",
    "plt.show()"
   ]
  },
  {
   "cell_type": "code",
   "execution_count": 28,
   "id": "378de579",
   "metadata": {},
   "outputs": [
    {
     "data": {
      "text/plain": [
       "['SVM_rbf_beforeFineTuning_Multilingual_Report.pkl']"
      ]
     },
     "execution_count": 28,
     "metadata": {},
     "output_type": "execute_result"
    }
   ],
   "source": [
    "import joblib\n",
    "joblib.dump(svm, 'SVM_rbf_beforeFineTuning_Multilingual_Report.pkl')"
   ]
  },
  {
   "cell_type": "markdown",
   "id": "db9558e5",
   "metadata": {},
   "source": [
    "# Test before FineTune"
   ]
  },
  {
   "cell_type": "code",
   "execution_count": 29,
   "id": "2858291b",
   "metadata": {},
   "outputs": [
    {
     "name": "stdout",
     "output_type": "stream",
     "text": [
      "(105698, 7)\n",
      "(50000, 7)\n"
     ]
    }
   ],
   "source": [
    "svm = joblib.load('SVM_rbf_beforeFineTuning_Multilingual_Report.pkl')\n",
    "df_ = pd.read_excel('../../base-line/balanced-reviews.xlsx')\n",
    "print(df_.shape)\n",
    "# df = df.head(500)\n",
    "# Select the first 500 rows of the dataset\n",
    "df = df_.iloc[:50000]\n",
    "\n",
    "# Select the next 500 rows of the dataset\n",
    "df2 = df_.iloc[50000:100000]\n",
    "# print(df1.shape)\n",
    "print(df2.shape)\n",
    "# df.head()\n"
   ]
  },
  {
   "cell_type": "code",
   "execution_count": 30,
   "id": "9158f77d",
   "metadata": {},
   "outputs": [
    {
     "name": "stdout",
     "output_type": "stream",
     "text": [
      "Accuracy: 0.5377\n",
      "              precision    recall  f1-score   support\n",
      "\n",
      "    negative       0.86      0.09      0.16      5000\n",
      "    positive       0.52      0.98      0.68      5000\n",
      "\n",
      "    accuracy                           0.54     10000\n",
      "   macro avg       0.69      0.54      0.42     10000\n",
      "weighted avg       0.69      0.54      0.42     10000\n",
      "\n"
     ]
    }
   ],
   "source": [
    "\n",
    "# determine the minimum number of rows for each rating value\n",
    "min_count = df2[\"rating\"].value_counts().min()\n",
    "min_count = 2500\n",
    "# subset the original dataset for each rating value\n",
    "df_1 = df2[df2[\"rating\"] == 1]\n",
    "df_2 = df2[df2[\"rating\"] == 2]\n",
    "df_4 = df2[df2[\"rating\"] == 4]\n",
    "df_5 = df2[df2[\"rating\"] == 5]\n",
    "\n",
    "# randomly sample the minimum number of rows for each rating value\n",
    "df_1_sampled = df_1.sample(n=min_count, random_state=42)\n",
    "df_2_sampled = df_2.sample(n=min_count, random_state=42)\n",
    "df_4_sampled = df_4.sample(n=min_count, random_state=42)\n",
    "df_5_sampled = df_5.sample(n=min_count, random_state=42)\n",
    "\n",
    "# combine the sampled rows for each rating value into a new dataset\n",
    "df_balanced = pd.concat([df_1_sampled, df_2_sampled, df_4_sampled, df_5_sampled])\n",
    "\n",
    "# save the balanced dataset to a new file\n",
    "df_balanced.to_csv(\"balanced_dataset.csv\", index=False)\n",
    "\n",
    "df = pd.read_csv('balanced_dataset.csv')\n",
    "# Define a function to map the rating to sentiment\n",
    "def map_sentiment(rating):\n",
    "    if rating in [1, 2]:\n",
    "        return \"negative\"\n",
    "    elif rating in [4, 5]:\n",
    "        return \"positive\"\n",
    "    else:\n",
    "        raise ValueError(\"Invalid rating value: {}\".format(rating))\n",
    "\n",
    "# Apply the function to the 'rating' column and create a new 'sentiment' column\n",
    "df['sentiment'] = df['rating'].apply(map_sentiment)\n",
    "\n",
    "# Apply sentence embeddings to first column of dataframe\n",
    "reviews = df['review'].tolist()\n",
    "reviews_embeddings = compute_sentence_embeddings(reviews, ar_embeddings, \"ar\")\n",
    "\n",
    "# Add new column with embeddings to dataframe\n",
    "df['arabic_Embeddings'] = reviews_embeddings\n",
    "\n",
    "X_test = np.vstack(df['arabic_Embeddings']) \n",
    "y_test = df['sentiment']\n",
    "y_pred = svm.predict(X_test)\n",
    "\n",
    "\n",
    "accuracy = accuracy_score(y_test, y_pred)\n",
    "report = classification_report(y_test, y_pred)\n",
    "print(\"Accuracy:\", accuracy)\n",
    "print(report)"
   ]
  },
  {
   "cell_type": "code",
   "execution_count": 31,
   "id": "62affb71",
   "metadata": {},
   "outputs": [
    {
     "name": "stdout",
     "output_type": "stream",
     "text": [
      "[[ 452 4548]\n",
      " [  75 4925]]\n"
     ]
    },
    {
     "data": {
      "image/png": "[encoded data removed]",
      "text/plain": [
       "<Figure size 640x480 with 2 Axes>"
      ]
     },
     "metadata": {},
     "output_type": "display_data"
    }
   ],
   "source": [
    "import numpy as np\n",
    "import seaborn as sns\n",
    "import matplotlib.pyplot as plt\n",
    "from sklearn.metrics import confusion_matrix\n",
    "\n",
    "cm = confusion_matrix(y_test, y_pred)\n",
    "\n",
    "print(cm)\n",
    "\n",
    "# Create a heatmap\n",
    "sns.heatmap(cm, annot=True, fmt=\"d\", cmap=\"Blues\")\n",
    "\n",
    "# Add labels, title, and ticks\n",
    "plt.xlabel(\"Predicted Labels\")\n",
    "plt.ylabel(\"True Labels\")\n",
    "plt.title(\"Confusion Matrix\")\n",
    "\n",
    "# Show the plot\n",
    "plt.show()"
   ]
  },
  {
   "cell_type": "markdown",
   "id": "445f168c",
   "metadata": {},
   "source": [
    "# Fine Tune"
   ]
  },
  {
   "cell_type": "code",
   "execution_count": 32,
   "id": "3ac50c82",
   "metadata": {},
   "outputs": [
    {
     "name": "stdout",
     "output_type": "stream",
     "text": [
      "(105698, 7)\n",
      "(50000, 7)\n",
      "Accuracy: 0.8685\n",
      "              precision    recall  f1-score   support\n",
      "\n",
      "    negative       0.85      0.90      0.87      1012\n",
      "    positive       0.89      0.83      0.86       988\n",
      "\n",
      "    accuracy                           0.87      2000\n",
      "   macro avg       0.87      0.87      0.87      2000\n",
      "weighted avg       0.87      0.87      0.87      2000\n",
      "\n"
     ]
    }
   ],
   "source": [
    "svm = joblib.load('SVM_rbf_beforeFineTuning_Multilingual_Report.pkl')\n",
    "df_ = pd.read_excel('../../base-line/balanced-reviews.xlsx')\n",
    "print(df_.shape)\n",
    "# df = df.head(500)\n",
    "# Select the first 50000 rows of the dataset\n",
    "df = df_.iloc[:50000]\n",
    "\n",
    "# Select the next 500 rows of the dataset\n",
    "df2 = df_.iloc[50000:100000]\n",
    "# print(df1.shape)\n",
    "print(df2.shape)\n",
    "# df.head()\n",
    "\n",
    "# determine the minimum number of rows for each rating value\n",
    "min_count = df[\"rating\"].value_counts().min()\n",
    "min_count = 2500\n",
    "# subset the original dataset for each rating value\n",
    "df_1 = df[df[\"rating\"] == 1]\n",
    "df_2 = df[df[\"rating\"] == 2]\n",
    "df_4 = df[df[\"rating\"] == 4]\n",
    "df_5 = df[df[\"rating\"] == 5]\n",
    "\n",
    "# randomly sample the minimum number of rows for each rating value\n",
    "df_1_sampled = df_1.sample(n=min_count, random_state=42)\n",
    "df_2_sampled = df_2.sample(n=min_count, random_state=42)\n",
    "df_4_sampled = df_4.sample(n=min_count, random_state=42)\n",
    "df_5_sampled = df_5.sample(n=min_count, random_state=42)\n",
    "\n",
    "# combine the sampled rows for each rating value into a new dataset\n",
    "df_balanced = pd.concat([df_1_sampled, df_2_sampled, df_4_sampled, df_5_sampled])\n",
    "\n",
    "# save the balanced dataset to a new file\n",
    "df_balanced.to_csv(\"balanced_dataset.csv\", index=False)\n",
    "\n",
    "df = pd.read_csv('balanced_dataset.csv')\n",
    "# Define a function to map the rating to sentiment\n",
    "def map_sentiment(rating):\n",
    "    if rating in [1, 2]:\n",
    "        return \"negative\"\n",
    "    elif rating in [4, 5]:\n",
    "        return \"positive\"\n",
    "    else:\n",
    "        raise ValueError(\"Invalid rating value: {}\".format(rating))\n",
    "\n",
    "# Apply the function to the 'rating' column and create a new 'sentiment' column\n",
    "df['sentiment'] = df['rating'].apply(map_sentiment)\n",
    "\n",
    "# Apply sentence embeddings to first column of dataframe\n",
    "reviews = df['review'].tolist()\n",
    "reviews_embeddings = compute_sentence_embeddings(reviews, ar_embeddings, \"ar\")\n",
    "\n",
    "# Add new column with embeddings to dataframe\n",
    "df['arabic_Embeddings'] = reviews_embeddings\n",
    "\n",
    "import pandas as pd\n",
    "from sklearn.model_selection import train_test_split\n",
    "\n",
    "\n",
    "\n",
    "X = np.vstack(df['arabic_Embeddings']) \n",
    "y = df['sentiment']\n",
    "\n",
    "X_train, X_test, y_train, y_test = train_test_split(X, y, test_size=0.2, random_state=42)\n",
    "\n",
    "\n",
    "svm.fit(X_train, y_train)\n",
    "\n",
    "# Evaluate the performance of the SVM on the testing set\n",
    "y_pred = svm.predict(X_test)\n",
    "\n",
    "\n",
    "accuracy = accuracy_score(y_test, y_pred)\n",
    "report = classification_report(y_test, y_pred)\n",
    "print(\"Accuracy:\", accuracy)\n",
    "print(report)"
   ]
  },
  {
   "cell_type": "code",
   "execution_count": 33,
   "id": "13d15995",
   "metadata": {},
   "outputs": [
    {
     "name": "stdout",
     "output_type": "stream",
     "text": [
      "[[914  98]\n",
      " [165 823]]\n"
     ]
    },
    {
     "data": {
      "image/png": "[encoded data removed]",
      "text/plain": [
       "<Figure size 640x480 with 2 Axes>"
      ]
     },
     "metadata": {},
     "output_type": "display_data"
    }
   ],
   "source": [
    "import numpy as np\n",
    "import seaborn as sns\n",
    "import matplotlib.pyplot as plt\n",
    "from sklearn.metrics import confusion_matrix\n",
    "\n",
    "cm = confusion_matrix(y_test, y_pred)\n",
    "\n",
    "print(cm)\n",
    "\n",
    "# Create a heatmap\n",
    "sns.heatmap(cm, annot=True, fmt=\"d\", cmap=\"Blues\")\n",
    "\n",
    "# Add labels, title, and ticks\n",
    "plt.xlabel(\"Predicted Labels\")\n",
    "plt.ylabel(\"True Labels\")\n",
    "plt.title(\"Confusion Matrix\")\n",
    "\n",
    "# Show the plot\n",
    "plt.show()"
   ]
  },
  {
   "cell_type": "markdown",
   "id": "1786ddd8",
   "metadata": {},
   "source": [
    "# Save Model After Fine Tune"
   ]
  },
  {
   "cell_type": "code",
   "execution_count": 34,
   "id": "fa0fbf94",
   "metadata": {},
   "outputs": [],
   "source": [
    "import joblib\n",
    "joblib.dump(svm, 'SVM_rbf_En_Ar_MModel.pkl')\n",
    "\n",
    "import pickle\n",
    "filename = 'SVM_rbf_En_Ar_MModel.sav'\n",
    "pickle.dump(svm, open(filename, 'wb'))\n",
    "\n",
    "svm = joblib.load('SVM_rbf_En_Ar_MModel.pkl')\n",
    "svm = pickle.load(open(filename, 'rb'))\n",
    "# load the model from disk\n",
    "# loaded_model = pickle.load(open(filename, 'rb'))"
   ]
  },
  {
   "cell_type": "markdown",
   "id": "9c0da6dc",
   "metadata": {},
   "source": [
    "# Test After Fine Tune"
   ]
  },
  {
   "cell_type": "code",
   "execution_count": 35,
   "id": "a6fc9f71",
   "metadata": {},
   "outputs": [
    {
     "name": "stdout",
     "output_type": "stream",
     "text": [
      "Accuracy: 0.8736\n",
      "              precision    recall  f1-score   support\n",
      "\n",
      "    negative       0.86      0.90      0.88      5000\n",
      "    positive       0.89      0.85      0.87      5000\n",
      "\n",
      "    accuracy                           0.87     10000\n",
      "   macro avg       0.87      0.87      0.87     10000\n",
      "weighted avg       0.87      0.87      0.87     10000\n",
      "\n"
     ]
    }
   ],
   "source": [
    "\n",
    "# determine the minimum number of rows for each rating value\n",
    "min_count = df2[\"rating\"].value_counts().min()\n",
    "min_count = 2500\n",
    "# subset the original dataset for each rating value\n",
    "df_1 = df2[df2[\"rating\"] == 1]\n",
    "df_2 = df2[df2[\"rating\"] == 2]\n",
    "df_4 = df2[df2[\"rating\"] == 4]\n",
    "df_5 = df2[df2[\"rating\"] == 5]\n",
    "\n",
    "# randomly sample the minimum number of rows for each rating value\n",
    "df_1_sampled = df_1.sample(n=min_count, random_state=42)\n",
    "df_2_sampled = df_2.sample(n=min_count, random_state=42)\n",
    "df_4_sampled = df_4.sample(n=min_count, random_state=42)\n",
    "df_5_sampled = df_5.sample(n=min_count, random_state=42)\n",
    "\n",
    "# combine the sampled rows for each rating value into a new dataset\n",
    "df_balanced = pd.concat([df_1_sampled, df_2_sampled, df_4_sampled, df_5_sampled])\n",
    "\n",
    "# save the balanced dataset to a new file\n",
    "df_balanced.to_csv(\"balanced_dataset.csv\", index=False)\n",
    "\n",
    "df = pd.read_csv('balanced_dataset.csv')\n",
    "# Define a function to map the rating to sentiment\n",
    "def map_sentiment(rating):\n",
    "    if rating in [1, 2]:\n",
    "        return \"negative\"\n",
    "    elif rating in [4, 5]:\n",
    "        return \"positive\"\n",
    "    else:\n",
    "        raise ValueError(\"Invalid rating value: {}\".format(rating))\n",
    "\n",
    "# Apply the function to the 'rating' column and create a new 'sentiment' column\n",
    "df['sentiment'] = df['rating'].apply(map_sentiment)\n",
    "\n",
    "# Apply sentence embeddings to first column of dataframe\n",
    "reviews = df['review'].tolist()\n",
    "reviews_embeddings = compute_sentence_embeddings(reviews, ar_embeddings, \"ar\")\n",
    "\n",
    "# Add new column with embeddings to dataframe\n",
    "df['arabic_Embeddings'] = reviews_embeddings\n",
    "\n",
    "X_test = np.vstack(df['arabic_Embeddings']) \n",
    "y_test = df['sentiment']\n",
    "y_pred = svm.predict(X_test)\n",
    "\n",
    "\n",
    "accuracy = accuracy_score(y_test, y_pred)\n",
    "report = classification_report(y_test, y_pred)\n",
    "print(\"Accuracy:\", accuracy)\n",
    "print(report)"
   ]
  },
  {
   "cell_type": "code",
   "execution_count": 36,
   "id": "70bb3307",
   "metadata": {},
   "outputs": [
    {
     "name": "stdout",
     "output_type": "stream",
     "text": [
      "[[4480  520]\n",
      " [ 744 4256]]\n"
     ]
    },
    {
     "data": {
      "image/png": "[encoded data removed]",
      "text/plain": [
       "<Figure size 640x480 with 2 Axes>"
      ]
     },
     "metadata": {},
     "output_type": "display_data"
    }
   ],
   "source": [
    "import numpy as np\n",
    "import seaborn as sns\n",
    "import matplotlib.pyplot as plt\n",
    "from sklearn.metrics import confusion_matrix\n",
    "\n",
    "cm = confusion_matrix(y_test, y_pred)\n",
    "\n",
    "print(cm)\n",
    "\n",
    "# Create a heatmap\n",
    "sns.heatmap(cm, annot=True, fmt=\"d\", cmap=\"Blues\")\n",
    "\n",
    "# Add labels, title, and ticks\n",
    "plt.xlabel(\"Predicted Labels\")\n",
    "plt.ylabel(\"True Labels\")\n",
    "plt.title(\"Confusion Matrix\")\n",
    "\n",
    "# Show the plot\n",
    "plt.show()"
   ]
  },
  {
   "cell_type": "markdown",
   "id": "3ee07bf3",
   "metadata": {},
   "source": [
    "# French - FineTune - Test"
   ]
  },
  {
   "cell_type": "code",
   "execution_count": 37,
   "id": "8252e4d3",
   "metadata": {},
   "outputs": [
    {
     "name": "stderr",
     "output_type": "stream",
     "text": [
      "C:\\Users\\ALI\\AppData\\Local\\Temp\\ipykernel_5976\\1262701966.py:30: SettingWithCopyWarning: \n",
      "A value is trying to be set on a copy of a slice from a DataFrame.\n",
      "Try using .loc[row_indexer,col_indexer] = value instead\n",
      "\n",
      "See the caveats in the documentation: https://pandas.pydata.org/pandas-docs/stable/user_guide/indexing.html#returning-a-view-versus-a-copy\n",
      "  final_sample['french_Embeddings'] = reviews_embeddings\n"
     ]
    },
    {
     "name": "stdout",
     "output_type": "stream",
     "text": [
      "Accuracy: 0.58\n",
      "              precision    recall  f1-score   support\n",
      "\n",
      "           0       0.56      0.79      0.65       250\n",
      "           1       0.64      0.37      0.47       250\n",
      "\n",
      "    accuracy                           0.58       500\n",
      "   macro avg       0.60      0.58      0.56       500\n",
      "weighted avg       0.60      0.58      0.56       500\n",
      "\n"
     ]
    }
   ],
   "source": [
    "svm = joblib.load('SVM_rbf_En_Ar_MModel.pkl')\n",
    "import pandas as pd\n",
    "\n",
    "# Load the entire dataset into a DataFrame\n",
    "df = pd.read_csv('C:/Users/ALI/Desktop/French Dataset/french_tweets.csv')\n",
    "\n",
    "# Split the dataset into two separate DataFrames by class\n",
    "class_0 = df[df['label'] == 0]\n",
    "class_1 = df[df['label'] == 1]\n",
    "\n",
    "# Sample 250 rows from each class\n",
    "sample_0 = class_0.sample(n=250, random_state=42)\n",
    "sample_1 = class_1.sample(n=250, random_state=42)\n",
    "\n",
    "# Combine the two samples into a single DataFrame\n",
    "sample = pd.concat([sample_0, sample_1])\n",
    "\n",
    "\n",
    "# Shuffle the rows of the combined sample\n",
    "sample = sample.sample(frac=1, random_state=42)\n",
    "\n",
    "# Take the first 500 rows of the shuffled sample\n",
    "final_sample = sample.head(500)\n",
    "\n",
    "# Apply sentence embeddings to first column of dataframe\n",
    "reviews = final_sample['text'].tolist()\n",
    "reviews_embeddings = compute_sentence_embeddings(reviews, fr_embeddings, \"fr\")\n",
    "\n",
    "# Add new column with embeddings to dataframe\n",
    "final_sample['french_Embeddings'] = reviews_embeddings\n",
    "\n",
    "X_test = np.vstack(final_sample['french_Embeddings']) \n",
    "y_test = final_sample['label']\n",
    "y_pred = svm.predict(X_test)\n",
    "from sklearn.preprocessing import LabelEncoder\n",
    "# create a LabelEncoder object\n",
    "le = LabelEncoder()\n",
    "\n",
    "# fit the encoder to the values and transform the values to binary values\n",
    "binary_y_pred = le.fit_transform(y_pred)\n",
    "\n",
    "\n",
    "accuracy = accuracy_score(y_test, binary_y_pred)\n",
    "report = classification_report(y_test, binary_y_pred)\n",
    "print(\"Accuracy:\", accuracy)\n",
    "print(report)"
   ]
  },
  {
   "cell_type": "code",
   "execution_count": 38,
   "id": "7f26b3b5",
   "metadata": {},
   "outputs": [
    {
     "name": "stdout",
     "output_type": "stream",
     "text": [
      "[[198  52]\n",
      " [158  92]]\n"
     ]
    },
    {
     "data": {
      "image/png": "[encoded data removed]",
      "text/plain": [
       "<Figure size 640x480 with 2 Axes>"
      ]
     },
     "metadata": {},
     "output_type": "display_data"
    }
   ],
   "source": [
    "import numpy as np\n",
    "import seaborn as sns\n",
    "import matplotlib.pyplot as plt\n",
    "from sklearn.metrics import confusion_matrix\n",
    "\n",
    "cm = confusion_matrix(y_test, binary_y_pred)\n",
    "\n",
    "print(cm)\n",
    "\n",
    "# Create a heatmap\n",
    "sns.heatmap(cm, annot=True, fmt=\"d\", cmap=\"Blues\")\n",
    "\n",
    "# Add labels, title, and ticks\n",
    "plt.xlabel(\"Predicted Labels\")\n",
    "plt.ylabel(\"True Labels\")\n",
    "plt.title(\"Confusion Matrix\")\n",
    "\n",
    "# Show the plot\n",
    "plt.show()"
   ]
  },
  {
   "cell_type": "code",
   "execution_count": 39,
   "id": "19b9e697",
   "metadata": {},
   "outputs": [
    {
     "name": "stdout",
     "output_type": "stream",
     "text": [
      "Accuracy: 0.7\n",
      "              precision    recall  f1-score   support\n",
      "\n",
      "           0       0.63      0.74      0.68        43\n",
      "           1       0.78      0.67      0.72        57\n",
      "\n",
      "    accuracy                           0.70       100\n",
      "   macro avg       0.70      0.71      0.70       100\n",
      "weighted avg       0.71      0.70      0.70       100\n",
      "\n"
     ]
    },
    {
     "name": "stderr",
     "output_type": "stream",
     "text": [
      "C:\\Users\\ALI\\AppData\\Local\\Temp\\ipykernel_5976\\2146145837.py:50: SettingWithCopyWarning: \n",
      "A value is trying to be set on a copy of a slice from a DataFrame.\n",
      "Try using .loc[row_indexer,col_indexer] = value instead\n",
      "\n",
      "See the caveats in the documentation: https://pandas.pydata.org/pandas-docs/stable/user_guide/indexing.html#returning-a-view-versus-a-copy\n",
      "  final_sample_2['french_Embeddings'] = reviews_embeddings\n"
     ]
    }
   ],
   "source": [
    "import pandas as pd\n",
    "\n",
    "# Load the entire dataset into a DataFrame\n",
    "df = pd.read_csv('C:/Users/ALI/Desktop/French Dataset/french_tweets.csv')\n",
    "\n",
    "# Split the dataset into two separate DataFrames by class\n",
    "class_0 = df[df['label'] == 0]\n",
    "class_1 = df[df['label'] == 1]\n",
    "\n",
    "# Sample 250 rows from each class\n",
    "sample_0 = class_0.sample(n=250, random_state=42)\n",
    "sample_1 = class_1.sample(n=250, random_state=42)\n",
    "\n",
    "# Combine the two samples into a single DataFrame\n",
    "sample = pd.concat([sample_0, sample_1])\n",
    "\n",
    "\n",
    "# Shuffle the rows of the combined sample\n",
    "sample = sample.sample(frac=1, random_state=42)\n",
    "\n",
    "# Take the first 500 rows of the shuffled sample\n",
    "final_sample_1 = sample.head(500)\n",
    "\n",
    "\n",
    "# Sample 250 rows from each class\n",
    "sample_0 = class_0.sample(n=250, random_state=42)\n",
    "sample_1 = class_1.sample(n=250, random_state=42)\n",
    "\n",
    "# Combine the two samples into a single DataFrame\n",
    "sample = pd.concat([sample_0, sample_1])\n",
    "\n",
    "\n",
    "# Shuffle the rows of the combined sample\n",
    "sample = sample.sample(frac=1, random_state=42)\n",
    "\n",
    "# Take the first 500 rows of the shuffled sample\n",
    "final_sample_2 = sample.head(500)\n",
    "# Apply sentence embeddings to first column of dataframe\n",
    "reviews = final_sample_1['text'].tolist()\n",
    "reviews_embeddings = compute_sentence_embeddings(reviews, fr_embeddings, \"fr\")\n",
    "\n",
    "# Add new column with embeddings to dataframe\n",
    "final_sample_1['french_Embeddings'] = reviews_embeddings\n",
    "\n",
    "# Apply sentence embeddings to first column of dataframe\n",
    "reviews = final_sample_2['text'].tolist()\n",
    "reviews_embeddings = compute_sentence_embeddings(reviews, fr_embeddings, \"fr\")\n",
    "\n",
    "# Add new column with embeddings to dataframe\n",
    "final_sample_2['french_Embeddings'] = reviews_embeddings\n",
    "import pandas as pd\n",
    "from sklearn.model_selection import train_test_split\n",
    "\n",
    "\n",
    "\n",
    "X = np.vstack(final_sample_1['french_Embeddings']) \n",
    "y = final_sample_1['label']\n",
    "\n",
    "X_train, X_test, y_train, y_test = train_test_split(X, y, test_size=0.2, random_state=42)\n",
    "\n",
    "\n",
    "svm.fit(X_train, y_train)\n",
    "\n",
    "# Evaluate the performance of the SVM on the testing set\n",
    "y_pred = svm.predict(X_test)\n",
    "# from sklearn.preprocessing import LabelEncoder\n",
    "# # create a LabelEncoder object\n",
    "# le = LabelEncoder()\n",
    "\n",
    "# # fit the encoder to the values and transform the values to binary values\n",
    "# binary_y_pred = le.fit_transform(y_pred)\n",
    "\n",
    "accuracy = accuracy_score(y_test, y_pred)\n",
    "report = classification_report(y_test, y_pred)\n",
    "print(\"Accuracy:\", accuracy)\n",
    "print(report)"
   ]
  },
  {
   "cell_type": "code",
   "execution_count": 40,
   "id": "8de94351",
   "metadata": {},
   "outputs": [
    {
     "name": "stdout",
     "output_type": "stream",
     "text": [
      "[[32 11]\n",
      " [19 38]]\n"
     ]
    },
    {
     "data": {
      "image/png": "[encoded data removed]",
      "text/plain": [
       "<Figure size 640x480 with 2 Axes>"
      ]
     },
     "metadata": {},
     "output_type": "display_data"
    }
   ],
   "source": [
    "import numpy as np\n",
    "import seaborn as sns\n",
    "import matplotlib.pyplot as plt\n",
    "from sklearn.metrics import confusion_matrix\n",
    "\n",
    "cm = confusion_matrix(y_test, y_pred)\n",
    "\n",
    "print(cm)\n",
    "\n",
    "# Create a heatmap\n",
    "sns.heatmap(cm, annot=True, fmt=\"d\", cmap=\"Blues\")\n",
    "\n",
    "# Add labels, title, and ticks\n",
    "plt.xlabel(\"Predicted Labels\")\n",
    "plt.ylabel(\"True Labels\")\n",
    "plt.title(\"Confusion Matrix\")\n",
    "\n",
    "# Show the plot\n",
    "plt.show()"
   ]
  },
  {
   "cell_type": "code",
   "execution_count": 41,
   "id": "9d9456e3",
   "metadata": {},
   "outputs": [],
   "source": [
    "import joblib\n",
    "joblib.dump(svm, 'SVM_rbf_En_Ar_Fr_MModel.pkl')\n",
    "\n",
    "import pickle\n",
    "filename = 'SVM_rbf_En_Ar_Fr_MModel.sav'\n",
    "pickle.dump(svm, open(filename, 'wb'))\n",
    "\n",
    "svm = joblib.load('SVM_rbf_En_Ar_Fr_MModel.pkl')\n",
    "svm = pickle.load(open(filename, 'rb'))\n",
    "# load the model from disk\n",
    "# loaded_model = pickle.load(open(filename, 'rb'))"
   ]
  },
  {
   "cell_type": "code",
   "execution_count": 42,
   "id": "82c96de8",
   "metadata": {},
   "outputs": [
    {
     "name": "stdout",
     "output_type": "stream",
     "text": [
      "Accuracy: 0.812\n",
      "              precision    recall  f1-score   support\n",
      "\n",
      "           0       0.79      0.84      0.82       250\n",
      "           1       0.83      0.78      0.81       250\n",
      "\n",
      "    accuracy                           0.81       500\n",
      "   macro avg       0.81      0.81      0.81       500\n",
      "weighted avg       0.81      0.81      0.81       500\n",
      "\n"
     ]
    }
   ],
   "source": [
    "X_test = np.vstack(final_sample_2['french_Embeddings']) \n",
    "y_test = final_sample_2['label']\n",
    "y_pred = svm.predict(X_test)\n",
    "from sklearn.preprocessing import LabelEncoder\n",
    "# create a LabelEncoder object\n",
    "le = LabelEncoder()\n",
    "\n",
    "# fit the encoder to the values and transform the values to binary values\n",
    "binary_y_pred = le.fit_transform(y_pred)\n",
    "\n",
    "\n",
    "accuracy = accuracy_score(y_test, binary_y_pred)\n",
    "report = classification_report(y_test, binary_y_pred)\n",
    "print(\"Accuracy:\", accuracy)\n",
    "print(report)"
   ]
  },
  {
   "cell_type": "code",
   "execution_count": 43,
   "id": "1ed9db85",
   "metadata": {},
   "outputs": [
    {
     "name": "stdout",
     "output_type": "stream",
     "text": [
      "[[211  39]\n",
      " [ 55 195]]\n"
     ]
    },
    {
     "data": {
      "image/png": "[encoded data removed]",
      "text/plain": [
       "<Figure size 640x480 with 2 Axes>"
      ]
     },
     "metadata": {},
     "output_type": "display_data"
    }
   ],
   "source": [
    "import numpy as np\n",
    "import seaborn as sns\n",
    "import matplotlib.pyplot as plt\n",
    "from sklearn.metrics import confusion_matrix\n",
    "\n",
    "cm = confusion_matrix(y_test, binary_y_pred)\n",
    "\n",
    "print(cm)\n",
    "\n",
    "# Create a heatmap\n",
    "sns.heatmap(cm, annot=True, fmt=\"d\", cmap=\"Blues\")\n",
    "\n",
    "# Add labels, title, and ticks\n",
    "plt.xlabel(\"Predicted Labels\")\n",
    "plt.ylabel(\"True Labels\")\n",
    "plt.title(\"Confusion Matrix\")\n",
    "\n",
    "# Show the plot\n",
    "plt.show()"
   ]
  },
  {
   "cell_type": "markdown",
   "id": "4c77478b",
   "metadata": {},
   "source": [
    "## Stand SVM rbf Fine Tunning - "
   ]
  },
  {
   "cell_type": "code",
   "execution_count": 44,
   "id": "26c24ac1",
   "metadata": {},
   "outputs": [
    {
     "name": "stdout",
     "output_type": "stream",
     "text": [
      "                                              review sentiment\n",
      "0  One of the other reviewers has mentioned that ...  positive\n",
      "1  A wonderful little production. <br /><br />The...  positive\n",
      "2  I thought this was a wonderful way to spend ti...  positive\n",
      "3  Basically there's a family where a little boy ...  negative\n",
      "4  Petter Mattei's \"Love in the Time of Money\" is...  positive\n",
      "Accuracy: 0.8581\n",
      "              precision    recall  f1-score   support\n",
      "\n",
      "    negative       0.86      0.85      0.86      4961\n",
      "    positive       0.86      0.86      0.86      5039\n",
      "\n",
      "    accuracy                           0.86     10000\n",
      "   macro avg       0.86      0.86      0.86     10000\n",
      "weighted avg       0.86      0.86      0.86     10000\n",
      "\n"
     ]
    }
   ],
   "source": [
    "import pandas as pd\n",
    "\n",
    "# Read the CSV file into a DataFrame object\n",
    "df = pd.read_csv('/Users/ALI/Desktop/IMDB Dataset.csv')\n",
    "\n",
    "# Print the first 5 rows of the DataFrame\n",
    "print(df.head(5))\n",
    "reviews_all_en_emb = compute_sentence_embeddings(df['review'], en_embeddings, \"en\")\n",
    "# Apply sentence embeddings to first column of dataframe\n",
    "reviews = df.iloc[:, 0].tolist()\n",
    "reviews_embeddings = compute_sentence_embeddings(reviews, en_embeddings, \"en\")\n",
    "\n",
    "# Add new column with embeddings to dataframe\n",
    "df['English_Embeddings'] = reviews_embeddings\n",
    "\n",
    "import pandas as pd\n",
    "import numpy as np\n",
    "from sklearn.model_selection import train_test_split\n",
    "from sklearn.svm import SVC\n",
    "from sklearn.metrics import accuracy_score\n",
    "from sklearn.preprocessing import StandardScaler\n",
    "\n",
    "# Separate the input features (sentence embeddings) and output labels (sentiment)\n",
    "X = np.vstack(df[\"English_Embeddings\"])  # input features (sentence embeddings)\n",
    "y = df[\"sentiment\"]  # output labels (sentiment)\n",
    "\n",
    "# Split the data into training and testing sets\n",
    "X_train, X_test, y_train, y_test = train_test_split(X, y, test_size=0.2, random_state=42)\n",
    "\n",
    "# Standardize the input features using a scaler\n",
    "scaler = StandardScaler()\n",
    "X_train = scaler.fit_transform(X_train)\n",
    "X_test = scaler.transform(X_test)\n",
    "\n",
    "# Train an SVM with RBF kernel on the standardized training set\n",
    "svm = SVC(kernel='rbf')\n",
    "svm.fit(X_train, y_train)\n",
    "\n",
    "# Evaluate the performance of the SVM on the standardized testing set\n",
    "y_pred = svm.predict(X_test)\n",
    "\n",
    "\n",
    "accuracy = accuracy_score(y_test, y_pred)\n",
    "report = classification_report(y_test, y_pred)\n",
    "print(\"Accuracy:\", accuracy)\n",
    "print(report)"
   ]
  },
  {
   "cell_type": "code",
   "execution_count": 45,
   "id": "10e62d5f",
   "metadata": {},
   "outputs": [
    {
     "name": "stdout",
     "output_type": "stream",
     "text": [
      "[[4234  727]\n",
      " [ 692 4347]]\n"
     ]
    },
    {
     "data": {
      "image/png": "[encoded data removed]",
      "text/plain": [
       "<Figure size 640x480 with 2 Axes>"
      ]
     },
     "metadata": {},
     "output_type": "display_data"
    }
   ],
   "source": [
    "import numpy as np\n",
    "import seaborn as sns\n",
    "import matplotlib.pyplot as plt\n",
    "from sklearn.metrics import confusion_matrix\n",
    "\n",
    "cm = confusion_matrix(y_test, y_pred)\n",
    "\n",
    "print(cm)\n",
    "\n",
    "# Create a heatmap\n",
    "sns.heatmap(cm, annot=True, fmt=\"d\", cmap=\"Blues\")\n",
    "\n",
    "# Add labels, title, and ticks\n",
    "plt.xlabel(\"Predicted Labels\")\n",
    "plt.ylabel(\"True Labels\")\n",
    "plt.title(\"Confusion Matrix\")\n",
    "\n",
    "# Show the plot\n",
    "plt.show()"
   ]
  },
  {
   "cell_type": "code",
   "execution_count": 46,
   "id": "e532cfdd",
   "metadata": {},
   "outputs": [
    {
     "data": {
      "text/plain": [
       "['SVM_rbf_Stand_beforeFineTuning_Multilingual_Report.pkl']"
      ]
     },
     "execution_count": 46,
     "metadata": {},
     "output_type": "execute_result"
    }
   ],
   "source": [
    "import joblib\n",
    "joblib.dump(svm, 'SVM_rbf_Stand_beforeFineTuning_Multilingual_Report.pkl')"
   ]
  },
  {
   "cell_type": "code",
   "execution_count": 47,
   "id": "db4393c5",
   "metadata": {},
   "outputs": [
    {
     "name": "stdout",
     "output_type": "stream",
     "text": [
      "(105698, 7)\n",
      "(50000, 7)\n",
      "Accuracy: 0.8685\n",
      "              precision    recall  f1-score   support\n",
      "\n",
      "    negative       0.85      0.90      0.87      1012\n",
      "    positive       0.89      0.83      0.86       988\n",
      "\n",
      "    accuracy                           0.87      2000\n",
      "   macro avg       0.87      0.87      0.87      2000\n",
      "weighted avg       0.87      0.87      0.87      2000\n",
      "\n"
     ]
    }
   ],
   "source": [
    "svm = joblib.load('SVM_rbf_Stand_beforeFineTuning_Multilingual_Report.pkl')\n",
    "df_ = pd.read_excel('../../base-line/balanced-reviews.xlsx')\n",
    "print(df_.shape)\n",
    "# df = df.head(500)\n",
    "# Select the first 500 rows of the dataset\n",
    "df = df_.iloc[:50000]\n",
    "\n",
    "# Select the next 500 rows of the dataset\n",
    "df2 = df_.iloc[50000:100000]\n",
    "# print(df1.shape)\n",
    "print(df2.shape)\n",
    "# df.head()\n",
    "\n",
    "# determine the minimum number of rows for each rating value\n",
    "min_count = df[\"rating\"].value_counts().min()\n",
    "min_count = 2500\n",
    "# subset the original dataset for each rating value\n",
    "df_1 = df[df[\"rating\"] == 1]\n",
    "df_2 = df[df[\"rating\"] == 2]\n",
    "df_4 = df[df[\"rating\"] == 4]\n",
    "df_5 = df[df[\"rating\"] == 5]\n",
    "\n",
    "# randomly sample the minimum number of rows for each rating value\n",
    "df_1_sampled = df_1.sample(n=min_count, random_state=42)\n",
    "df_2_sampled = df_2.sample(n=min_count, random_state=42)\n",
    "df_4_sampled = df_4.sample(n=min_count, random_state=42)\n",
    "df_5_sampled = df_5.sample(n=min_count, random_state=42)\n",
    "\n",
    "# combine the sampled rows for each rating value into a new dataset\n",
    "df_balanced = pd.concat([df_1_sampled, df_2_sampled, df_4_sampled, df_5_sampled])\n",
    "\n",
    "# save the balanced dataset to a new file\n",
    "df_balanced.to_csv(\"balanced_dataset.csv\", index=False)\n",
    "\n",
    "df = pd.read_csv('balanced_dataset.csv')\n",
    "# Define a function to map the rating to sentiment\n",
    "def map_sentiment(rating):\n",
    "    if rating in [1, 2]:\n",
    "        return \"negative\"\n",
    "    elif rating in [4, 5]:\n",
    "        return \"positive\"\n",
    "    else:\n",
    "        raise ValueError(\"Invalid rating value: {}\".format(rating))\n",
    "\n",
    "# Apply the function to the 'rating' column and create a new 'sentiment' column\n",
    "df['sentiment'] = df['rating'].apply(map_sentiment)\n",
    "\n",
    "# Apply sentence embeddings to first column of dataframe\n",
    "reviews = df['review'].tolist()\n",
    "reviews_embeddings = compute_sentence_embeddings(reviews, ar_embeddings, \"ar\")\n",
    "\n",
    "# Add new column with embeddings to dataframe\n",
    "df['arabic_Embeddings'] = reviews_embeddings\n",
    "\n",
    "import pandas as pd\n",
    "from sklearn.model_selection import train_test_split\n",
    "\n",
    "\n",
    "\n",
    "X = np.vstack(df['arabic_Embeddings']) \n",
    "y = df['sentiment']\n",
    "\n",
    "X_train, X_test, y_train, y_test = train_test_split(X, y, test_size=0.2, random_state=42)\n",
    "\n",
    "\n",
    "svm.fit(X_train, y_train)\n",
    "\n",
    "# Evaluate the performance of the SVM on the testing set\n",
    "y_pred = svm.predict(X_test)\n",
    "\n",
    "\n",
    "accuracy = accuracy_score(y_test, y_pred)\n",
    "report = classification_report(y_test, y_pred)\n",
    "print(\"Accuracy:\", accuracy)\n",
    "print(report)"
   ]
  },
  {
   "cell_type": "code",
   "execution_count": 48,
   "id": "6ef3353a",
   "metadata": {},
   "outputs": [
    {
     "name": "stdout",
     "output_type": "stream",
     "text": [
      "[[914  98]\n",
      " [165 823]]\n"
     ]
    },
    {
     "data": {
      "image/png": "[encoded data removed]",
      "text/plain": [
       "<Figure size 640x480 with 2 Axes>"
      ]
     },
     "metadata": {},
     "output_type": "display_data"
    }
   ],
   "source": [
    "import numpy as np\n",
    "import seaborn as sns\n",
    "import matplotlib.pyplot as plt\n",
    "from sklearn.metrics import confusion_matrix\n",
    "\n",
    "cm = confusion_matrix(y_test, y_pred)\n",
    "\n",
    "print(cm)\n",
    "\n",
    "# Create a heatmap\n",
    "sns.heatmap(cm, annot=True, fmt=\"d\", cmap=\"Blues\")\n",
    "\n",
    "# Add labels, title, and ticks\n",
    "plt.xlabel(\"Predicted Labels\")\n",
    "plt.ylabel(\"True Labels\")\n",
    "plt.title(\"Confusion Matrix\")\n",
    "\n",
    "# Show the plot\n",
    "plt.show()"
   ]
  },
  {
   "cell_type": "code",
   "execution_count": 49,
   "id": "bff4b7b7",
   "metadata": {},
   "outputs": [],
   "source": [
    "import joblib\n",
    "joblib.dump(svm, 'SVM_S_rbf_En_Ar_MModel.pkl')\n",
    "\n",
    "import pickle\n",
    "filename = 'SVM_S_rbf_En_Ar_MModel.sav'\n",
    "pickle.dump(svm, open(filename, 'wb'))\n",
    "\n",
    "svm = joblib.load('SVM_S_rbf_En_Ar_MModel.pkl')\n",
    "svm = pickle.load(open(filename, 'rb'))\n",
    "# load the model from disk\n",
    "# loaded_model = pickle.load(open(filename, 'rb'))"
   ]
  },
  {
   "cell_type": "code",
   "execution_count": 50,
   "id": "cd62923b",
   "metadata": {},
   "outputs": [],
   "source": [
    "\n",
    "svm = joblib.load('SVM_S_rbf_En_Ar_MModel.pkl')"
   ]
  },
  {
   "cell_type": "code",
   "execution_count": 51,
   "id": "fad788aa",
   "metadata": {},
   "outputs": [
    {
     "name": "stdout",
     "output_type": "stream",
     "text": [
      "Accuracy: 0.8736\n",
      "              precision    recall  f1-score   support\n",
      "\n",
      "    negative       0.86      0.90      0.88      5000\n",
      "    positive       0.89      0.85      0.87      5000\n",
      "\n",
      "    accuracy                           0.87     10000\n",
      "   macro avg       0.87      0.87      0.87     10000\n",
      "weighted avg       0.87      0.87      0.87     10000\n",
      "\n"
     ]
    }
   ],
   "source": [
    "\n",
    "# determine the minimum number of rows for each rating value\n",
    "min_count = df2[\"rating\"].value_counts().min()\n",
    "min_count = 2500\n",
    "# subset the original dataset for each rating value\n",
    "df_1 = df2[df2[\"rating\"] == 1]\n",
    "df_2 = df2[df2[\"rating\"] == 2]\n",
    "df_4 = df2[df2[\"rating\"] == 4]\n",
    "df_5 = df2[df2[\"rating\"] == 5]\n",
    "\n",
    "# randomly sample the minimum number of rows for each rating value\n",
    "df_1_sampled = df_1.sample(n=min_count, random_state=42)\n",
    "df_2_sampled = df_2.sample(n=min_count, random_state=42)\n",
    "df_4_sampled = df_4.sample(n=min_count, random_state=42)\n",
    "df_5_sampled = df_5.sample(n=min_count, random_state=42)\n",
    "\n",
    "# combine the sampled rows for each rating value into a new dataset\n",
    "df_balanced = pd.concat([df_1_sampled, df_2_sampled, df_4_sampled, df_5_sampled])\n",
    "\n",
    "# save the balanced dataset to a new file\n",
    "df_balanced.to_csv(\"balanced_dataset.csv\", index=False)\n",
    "\n",
    "df = pd.read_csv('balanced_dataset.csv')\n",
    "# Define a function to map the rating to sentiment\n",
    "def map_sentiment(rating):\n",
    "    if rating in [1, 2]:\n",
    "        return \"negative\"\n",
    "    elif rating in [4, 5]:\n",
    "        return \"positive\"\n",
    "    else:\n",
    "        raise ValueError(\"Invalid rating value: {}\".format(rating))\n",
    "\n",
    "# Apply the function to the 'rating' column and create a new 'sentiment' column\n",
    "df['sentiment'] = df['rating'].apply(map_sentiment)\n",
    "\n",
    "# Apply sentence embeddings to first column of dataframe\n",
    "reviews = df['review'].tolist()\n",
    "reviews_embeddings = compute_sentence_embeddings(reviews, ar_embeddings, \"ar\")\n",
    "\n",
    "# Add new column with embeddings to dataframe\n",
    "df['arabic_Embeddings'] = reviews_embeddings\n",
    "\n",
    "X_test = np.vstack(df['arabic_Embeddings']) \n",
    "y_test = df['sentiment']\n",
    "y_pred = svm.predict(X_test)\n",
    "\n",
    "\n",
    "accuracy = accuracy_score(y_test, y_pred)\n",
    "report = classification_report(y_test, y_pred)\n",
    "print(\"Accuracy:\", accuracy)\n",
    "print(report)"
   ]
  },
  {
   "cell_type": "code",
   "execution_count": 52,
   "id": "01b5c4cc",
   "metadata": {},
   "outputs": [
    {
     "name": "stdout",
     "output_type": "stream",
     "text": [
      "[[4480  520]\n",
      " [ 744 4256]]\n"
     ]
    },
    {
     "data": {
      "image/png": "[encoded data removed]",
      "text/plain": [
       "<Figure size 640x480 with 2 Axes>"
      ]
     },
     "metadata": {},
     "output_type": "display_data"
    }
   ],
   "source": [
    "import numpy as np\n",
    "import seaborn as sns\n",
    "import matplotlib.pyplot as plt\n",
    "from sklearn.metrics import confusion_matrix\n",
    "\n",
    "cm = confusion_matrix(y_test, y_pred)\n",
    "\n",
    "print(cm)\n",
    "\n",
    "# Create a heatmap\n",
    "sns.heatmap(cm, annot=True, fmt=\"d\", cmap=\"Blues\")\n",
    "\n",
    "# Add labels, title, and ticks\n",
    "plt.xlabel(\"Predicted Labels\")\n",
    "plt.ylabel(\"True Labels\")\n",
    "plt.title(\"Confusion Matrix\")\n",
    "\n",
    "# Show the plot\n",
    "plt.show()"
   ]
  },
  {
   "cell_type": "markdown",
   "id": "c281f756",
   "metadata": {},
   "source": [
    "# French - FineTune - Test"
   ]
  },
  {
   "cell_type": "code",
   "execution_count": 53,
   "id": "7bd93b29",
   "metadata": {},
   "outputs": [
    {
     "name": "stderr",
     "output_type": "stream",
     "text": [
      "C:\\Users\\ALI\\AppData\\Local\\Temp\\ipykernel_5976\\866459638.py:30: SettingWithCopyWarning: \n",
      "A value is trying to be set on a copy of a slice from a DataFrame.\n",
      "Try using .loc[row_indexer,col_indexer] = value instead\n",
      "\n",
      "See the caveats in the documentation: https://pandas.pydata.org/pandas-docs/stable/user_guide/indexing.html#returning-a-view-versus-a-copy\n",
      "  final_sample['french_Embeddings'] = reviews_embeddings\n"
     ]
    },
    {
     "name": "stdout",
     "output_type": "stream",
     "text": [
      "Accuracy: 0.58\n",
      "              precision    recall  f1-score   support\n",
      "\n",
      "           0       0.56      0.79      0.65       250\n",
      "           1       0.64      0.37      0.47       250\n",
      "\n",
      "    accuracy                           0.58       500\n",
      "   macro avg       0.60      0.58      0.56       500\n",
      "weighted avg       0.60      0.58      0.56       500\n",
      "\n"
     ]
    }
   ],
   "source": [
    "svm = joblib.load('SVM_S_rbf_En_Ar_MModel.pkl')\n",
    "import pandas as pd\n",
    "\n",
    "# Load the entire dataset into a DataFrame\n",
    "df = pd.read_csv('C:/Users/ALI/Desktop/French Dataset/french_tweets.csv')\n",
    "\n",
    "# Split the dataset into two separate DataFrames by class\n",
    "class_0 = df[df['label'] == 0]\n",
    "class_1 = df[df['label'] == 1]\n",
    "\n",
    "# Sample 250 rows from each class\n",
    "sample_0 = class_0.sample(n=250, random_state=42)\n",
    "sample_1 = class_1.sample(n=250, random_state=42)\n",
    "\n",
    "# Combine the two samples into a single DataFrame\n",
    "sample = pd.concat([sample_0, sample_1])\n",
    "\n",
    "\n",
    "# Shuffle the rows of the combined sample\n",
    "sample = sample.sample(frac=1, random_state=42)\n",
    "\n",
    "# Take the first 500 rows of the shuffled sample\n",
    "final_sample = sample.head(500)\n",
    "\n",
    "# Apply sentence embeddings to first column of dataframe\n",
    "reviews = final_sample['text'].tolist()\n",
    "reviews_embeddings = compute_sentence_embeddings(reviews, fr_embeddings, \"fr\")\n",
    "\n",
    "# Add new column with embeddings to dataframe\n",
    "final_sample['french_Embeddings'] = reviews_embeddings\n",
    "\n",
    "X_test = np.vstack(final_sample['french_Embeddings']) \n",
    "y_test = final_sample['label']\n",
    "y_pred = svm.predict(X_test)\n",
    "from sklearn.preprocessing import LabelEncoder\n",
    "# create a LabelEncoder object\n",
    "le = LabelEncoder()\n",
    "\n",
    "# fit the encoder to the values and transform the values to binary values\n",
    "binary_y_pred = le.fit_transform(y_pred)\n",
    "\n",
    "\n",
    "accuracy = accuracy_score(y_test, binary_y_pred)\n",
    "report = classification_report(y_test, binary_y_pred)\n",
    "print(\"Accuracy:\", accuracy)\n",
    "print(report)"
   ]
  },
  {
   "cell_type": "code",
   "execution_count": 55,
   "id": "858f274a",
   "metadata": {},
   "outputs": [
    {
     "name": "stdout",
     "output_type": "stream",
     "text": [
      "[[198  52]\n",
      " [158  92]]\n"
     ]
    },
    {
     "data": {
      "image/png": "[encoded data removed]",
      "text/plain": [
       "<Figure size 640x480 with 2 Axes>"
      ]
     },
     "metadata": {},
     "output_type": "display_data"
    }
   ],
   "source": [
    "import numpy as np\n",
    "import seaborn as sns\n",
    "import matplotlib.pyplot as plt\n",
    "from sklearn.metrics import confusion_matrix\n",
    "\n",
    "cm = confusion_matrix(y_test, binary_y_pred)\n",
    "\n",
    "print(cm)\n",
    "\n",
    "# Create a heatmap\n",
    "sns.heatmap(cm, annot=True, fmt=\"d\", cmap=\"Blues\")\n",
    "\n",
    "# Add labels, title, and ticks\n",
    "plt.xlabel(\"Predicted Labels\")\n",
    "plt.ylabel(\"True Labels\")\n",
    "plt.title(\"Confusion Matrix\")\n",
    "\n",
    "# Show the plot\n",
    "plt.show()"
   ]
  },
  {
   "cell_type": "code",
   "execution_count": 56,
   "id": "b3a97125",
   "metadata": {},
   "outputs": [
    {
     "name": "stdout",
     "output_type": "stream",
     "text": [
      "Accuracy: 0.7\n",
      "              precision    recall  f1-score   support\n",
      "\n",
      "           0       0.63      0.74      0.68        43\n",
      "           1       0.78      0.67      0.72        57\n",
      "\n",
      "    accuracy                           0.70       100\n",
      "   macro avg       0.70      0.71      0.70       100\n",
      "weighted avg       0.71      0.70      0.70       100\n",
      "\n"
     ]
    },
    {
     "name": "stderr",
     "output_type": "stream",
     "text": [
      "C:\\Users\\ALI\\AppData\\Local\\Temp\\ipykernel_5976\\2146145837.py:50: SettingWithCopyWarning: \n",
      "A value is trying to be set on a copy of a slice from a DataFrame.\n",
      "Try using .loc[row_indexer,col_indexer] = value instead\n",
      "\n",
      "See the caveats in the documentation: https://pandas.pydata.org/pandas-docs/stable/user_guide/indexing.html#returning-a-view-versus-a-copy\n",
      "  final_sample_2['french_Embeddings'] = reviews_embeddings\n"
     ]
    }
   ],
   "source": [
    "import pandas as pd\n",
    "\n",
    "# Load the entire dataset into a DataFrame\n",
    "df = pd.read_csv('C:/Users/ALI/Desktop/French Dataset/french_tweets.csv')\n",
    "\n",
    "# Split the dataset into two separate DataFrames by class\n",
    "class_0 = df[df['label'] == 0]\n",
    "class_1 = df[df['label'] == 1]\n",
    "\n",
    "# Sample 250 rows from each class\n",
    "sample_0 = class_0.sample(n=250, random_state=42)\n",
    "sample_1 = class_1.sample(n=250, random_state=42)\n",
    "\n",
    "# Combine the two samples into a single DataFrame\n",
    "sample = pd.concat([sample_0, sample_1])\n",
    "\n",
    "\n",
    "# Shuffle the rows of the combined sample\n",
    "sample = sample.sample(frac=1, random_state=42)\n",
    "\n",
    "# Take the first 500 rows of the shuffled sample\n",
    "final_sample_1 = sample.head(500)\n",
    "\n",
    "\n",
    "# Sample 250 rows from each class\n",
    "sample_0 = class_0.sample(n=250, random_state=42)\n",
    "sample_1 = class_1.sample(n=250, random_state=42)\n",
    "\n",
    "# Combine the two samples into a single DataFrame\n",
    "sample = pd.concat([sample_0, sample_1])\n",
    "\n",
    "\n",
    "# Shuffle the rows of the combined sample\n",
    "sample = sample.sample(frac=1, random_state=42)\n",
    "\n",
    "# Take the first 500 rows of the shuffled sample\n",
    "final_sample_2 = sample.head(500)\n",
    "# Apply sentence embeddings to first column of dataframe\n",
    "reviews = final_sample_1['text'].tolist()\n",
    "reviews_embeddings = compute_sentence_embeddings(reviews, fr_embeddings, \"fr\")\n",
    "\n",
    "# Add new column with embeddings to dataframe\n",
    "final_sample_1['french_Embeddings'] = reviews_embeddings\n",
    "\n",
    "# Apply sentence embeddings to first column of dataframe\n",
    "reviews = final_sample_2['text'].tolist()\n",
    "reviews_embeddings = compute_sentence_embeddings(reviews, fr_embeddings, \"fr\")\n",
    "\n",
    "# Add new column with embeddings to dataframe\n",
    "final_sample_2['french_Embeddings'] = reviews_embeddings\n",
    "import pandas as pd\n",
    "from sklearn.model_selection import train_test_split\n",
    "\n",
    "\n",
    "\n",
    "X = np.vstack(final_sample_1['french_Embeddings']) \n",
    "y = final_sample_1['label']\n",
    "\n",
    "X_train, X_test, y_train, y_test = train_test_split(X, y, test_size=0.2, random_state=42)\n",
    "\n",
    "\n",
    "svm.fit(X_train, y_train)\n",
    "\n",
    "# Evaluate the performance of the SVM on the testing set\n",
    "y_pred = svm.predict(X_test)\n",
    "# from sklearn.preprocessing import LabelEncoder\n",
    "# # create a LabelEncoder object\n",
    "# le = LabelEncoder()\n",
    "\n",
    "# # fit the encoder to the values and transform the values to binary values\n",
    "# binary_y_pred = le.fit_transform(y_pred)\n",
    "\n",
    "accuracy = accuracy_score(y_test, y_pred)\n",
    "report = classification_report(y_test, y_pred)\n",
    "print(\"Accuracy:\", accuracy)\n",
    "print(report)"
   ]
  },
  {
   "cell_type": "code",
   "execution_count": 57,
   "id": "e540a80c",
   "metadata": {},
   "outputs": [
    {
     "name": "stdout",
     "output_type": "stream",
     "text": [
      "[[32 11]\n",
      " [19 38]]\n"
     ]
    },
    {
     "data": {
      "image/png": "[encoded data removed]",
      "text/plain": [
       "<Figure size 640x480 with 2 Axes>"
      ]
     },
     "metadata": {},
     "output_type": "display_data"
    }
   ],
   "source": [
    "import numpy as np\n",
    "import seaborn as sns\n",
    "import matplotlib.pyplot as plt\n",
    "from sklearn.metrics import confusion_matrix\n",
    "\n",
    "cm = confusion_matrix(y_test, y_pred)\n",
    "\n",
    "print(cm)\n",
    "\n",
    "# Create a heatmap\n",
    "sns.heatmap(cm, annot=True, fmt=\"d\", cmap=\"Blues\")\n",
    "\n",
    "# Add labels, title, and ticks\n",
    "plt.xlabel(\"Predicted Labels\")\n",
    "plt.ylabel(\"True Labels\")\n",
    "plt.title(\"Confusion Matrix\")\n",
    "\n",
    "# Show the plot\n",
    "plt.show()"
   ]
  },
  {
   "cell_type": "code",
   "execution_count": 58,
   "id": "65149a13",
   "metadata": {},
   "outputs": [],
   "source": [
    "import joblib\n",
    "joblib.dump(svm, 'SVM_S_rbf_En_Ar_Fr_MModel.pkl')\n",
    "\n",
    "import pickle\n",
    "filename = 'SVM_S_rbf_En_Ar_Fr_MModel.sav'\n",
    "pickle.dump(svm, open(filename, 'wb'))\n",
    "\n",
    "svm = joblib.load('SVM_linear_En_Ar_MModel.pkl')\n",
    "svm = pickle.load(open(filename, 'rb'))\n",
    "# load the model from disk\n",
    "# loaded_model = pickle.load(open(filename, 'rb'))"
   ]
  },
  {
   "cell_type": "code",
   "execution_count": 59,
   "id": "9b48297f",
   "metadata": {},
   "outputs": [],
   "source": [
    "svm = joblib.load('SVM_S_rbf_En_Ar_Fr_MModel.pkl')"
   ]
  },
  {
   "cell_type": "code",
   "execution_count": 60,
   "id": "8ed2ca05",
   "metadata": {},
   "outputs": [
    {
     "name": "stdout",
     "output_type": "stream",
     "text": [
      "Accuracy: 0.812\n",
      "              precision    recall  f1-score   support\n",
      "\n",
      "           0       0.79      0.84      0.82       250\n",
      "           1       0.83      0.78      0.81       250\n",
      "\n",
      "    accuracy                           0.81       500\n",
      "   macro avg       0.81      0.81      0.81       500\n",
      "weighted avg       0.81      0.81      0.81       500\n",
      "\n"
     ]
    }
   ],
   "source": [
    "X_test = np.vstack(final_sample_2['french_Embeddings']) \n",
    "y_test = final_sample_2['label']\n",
    "y_pred = svm.predict(X_test)\n",
    "from sklearn.preprocessing import LabelEncoder\n",
    "# create a LabelEncoder object\n",
    "le = LabelEncoder()\n",
    "\n",
    "# fit the encoder to the values and transform the values to binary values\n",
    "binary_y_pred = le.fit_transform(y_pred)\n",
    "\n",
    "\n",
    "accuracy = accuracy_score(y_test, binary_y_pred)\n",
    "report = classification_report(y_test, binary_y_pred)\n",
    "print(\"Accuracy:\", accuracy)\n",
    "print(report)"
   ]
  },
  {
   "cell_type": "code",
   "execution_count": 61,
   "id": "1e7498d4",
   "metadata": {},
   "outputs": [
    {
     "name": "stdout",
     "output_type": "stream",
     "text": [
      "[[211  39]\n",
      " [ 55 195]]\n"
     ]
    },
    {
     "data": {
      "image/png": "[encoded data removed]",
      "text/plain": [
       "<Figure size 640x480 with 2 Axes>"
      ]
     },
     "metadata": {},
     "output_type": "display_data"
    }
   ],
   "source": [
    "import numpy as np\n",
    "import seaborn as sns\n",
    "import matplotlib.pyplot as plt\n",
    "from sklearn.metrics import confusion_matrix\n",
    "\n",
    "cm = confusion_matrix(y_test, binary_y_pred)\n",
    "\n",
    "print(cm)\n",
    "\n",
    "# Create a heatmap\n",
    "sns.heatmap(cm, annot=True, fmt=\"d\", cmap=\"Blues\")\n",
    "\n",
    "# Add labels, title, and ticks\n",
    "plt.xlabel(\"Predicted Labels\")\n",
    "plt.ylabel(\"True Labels\")\n",
    "plt.title(\"Confusion Matrix\")\n",
    "\n",
    "# Show the plot\n",
    "plt.show()"
   ]
  },
  {
   "cell_type": "markdown",
   "id": "23637a25",
   "metadata": {},
   "source": [
    "## Stand SVM linear - Fine Tunning before Testing on Arabic"
   ]
  },
  {
   "cell_type": "code",
   "execution_count": 62,
   "id": "c033c49f",
   "metadata": {},
   "outputs": [
    {
     "name": "stdout",
     "output_type": "stream",
     "text": [
      "                                              review sentiment\n",
      "0  One of the other reviewers has mentioned that ...  positive\n",
      "1  A wonderful little production. <br /><br />The...  positive\n",
      "2  I thought this was a wonderful way to spend ti...  positive\n",
      "3  Basically there's a family where a little boy ...  negative\n",
      "4  Petter Mattei's \"Love in the Time of Money\" is...  positive\n",
      "Accuracy: 0.8442\n",
      "              precision    recall  f1-score   support\n",
      "\n",
      "    negative       0.84      0.84      0.84      4961\n",
      "    positive       0.85      0.84      0.85      5039\n",
      "\n",
      "    accuracy                           0.84     10000\n",
      "   macro avg       0.84      0.84      0.84     10000\n",
      "weighted avg       0.84      0.84      0.84     10000\n",
      "\n"
     ]
    }
   ],
   "source": [
    "import pandas as pd\n",
    "\n",
    "# Read the CSV file into a DataFrame object\n",
    "df = pd.read_csv('/Users/ALI/Desktop/IMDB Dataset.csv')\n",
    "\n",
    "# Print the first 5 rows of the DataFrame\n",
    "print(df.head(5))\n",
    "reviews_all_en_emb = compute_sentence_embeddings(df['review'], en_embeddings, \"en\")\n",
    "# Apply sentence embeddings to first column of dataframe\n",
    "reviews = df.iloc[:, 0].tolist()\n",
    "reviews_embeddings = compute_sentence_embeddings(reviews, en_embeddings, \"en\")\n",
    "\n",
    "# Add new column with embeddings to dataframe\n",
    "df['English_Embeddings'] = reviews_embeddings\n",
    "\n",
    "import pandas as pd\n",
    "import numpy as np\n",
    "from sklearn.model_selection import train_test_split\n",
    "from sklearn.svm import SVC\n",
    "from sklearn.metrics import accuracy_score\n",
    "from sklearn.preprocessing import StandardScaler\n",
    "\n",
    "# Separate the input features (sentence embeddings) and output labels (sentiment)\n",
    "X = np.vstack(df[\"English_Embeddings\"])  # input features (sentence embeddings)\n",
    "y = df[\"sentiment\"]  # output labels (sentiment)\n",
    "\n",
    "# Split the data into training and testing sets\n",
    "X_train, X_test, y_train, y_test = train_test_split(X, y, test_size=0.2, random_state=42)\n",
    "\n",
    "# Standardize the input features using a scaler\n",
    "scaler = StandardScaler()\n",
    "X_train = scaler.fit_transform(X_train)\n",
    "X_test = scaler.transform(X_test)\n",
    "\n",
    "# Train an SVM with linear kernel on the standardized training set\n",
    "svm = SVC(kernel='linear')\n",
    "svm.fit(X_train, y_train)\n",
    "\n",
    "# Evaluate the performance of the SVM on the standardized testing set\n",
    "y_pred = svm.predict(X_test)\n",
    "\n",
    "\n",
    "accuracy = accuracy_score(y_test, y_pred)\n",
    "report = classification_report(y_test, y_pred)\n",
    "print(\"Accuracy:\", accuracy)\n",
    "print(report)\n"
   ]
  },
  {
   "cell_type": "code",
   "execution_count": 63,
   "id": "e649bd4e",
   "metadata": {},
   "outputs": [
    {
     "name": "stdout",
     "output_type": "stream",
     "text": [
      "[[4187  774]\n",
      " [ 784 4255]]\n"
     ]
    },
    {
     "data": {
      "image/png": "[encoded data removed]",
      "text/plain": [
       "<Figure size 640x480 with 2 Axes>"
      ]
     },
     "metadata": {},
     "output_type": "display_data"
    }
   ],
   "source": [
    "import numpy as np\n",
    "import seaborn as sns\n",
    "import matplotlib.pyplot as plt\n",
    "from sklearn.metrics import confusion_matrix\n",
    "\n",
    "cm = confusion_matrix(y_test, y_pred)\n",
    "\n",
    "print(cm)\n",
    "\n",
    "# Create a heatmap\n",
    "sns.heatmap(cm, annot=True, fmt=\"d\", cmap=\"Blues\")\n",
    "\n",
    "# Add labels, title, and ticks\n",
    "plt.xlabel(\"Predicted Labels\")\n",
    "plt.ylabel(\"True Labels\")\n",
    "plt.title(\"Confusion Matrix\")\n",
    "\n",
    "# Show the plot\n",
    "plt.show()"
   ]
  },
  {
   "cell_type": "code",
   "execution_count": 64,
   "id": "94aa290f",
   "metadata": {},
   "outputs": [
    {
     "data": {
      "text/plain": [
       "['SVM_Stand_linear_beforeFineTuning_Multilingual.pkl']"
      ]
     },
     "execution_count": 64,
     "metadata": {},
     "output_type": "execute_result"
    }
   ],
   "source": [
    "import joblib\n",
    "joblib.dump(svm, 'SVM_Stand_linear_beforeFineTuning_Multilingual.pkl')"
   ]
  },
  {
   "cell_type": "code",
   "execution_count": 65,
   "id": "93aded7b",
   "metadata": {},
   "outputs": [
    {
     "name": "stdout",
     "output_type": "stream",
     "text": [
      "(105698, 7)\n",
      "(50000, 7)\n",
      "Accuracy: 0.8575\n",
      "              precision    recall  f1-score   support\n",
      "\n",
      "    negative       0.83      0.91      0.87      1012\n",
      "    positive       0.90      0.81      0.85       988\n",
      "\n",
      "    accuracy                           0.86      2000\n",
      "   macro avg       0.86      0.86      0.86      2000\n",
      "weighted avg       0.86      0.86      0.86      2000\n",
      "\n"
     ]
    }
   ],
   "source": [
    "svm = joblib.load('SVM_Stand_linear_beforeFineTuning_Multilingual.pkl')\n",
    "df_ = pd.read_excel('../../base-line/balanced-reviews.xlsx')\n",
    "print(df_.shape)\n",
    "# df = df.head(500)\n",
    "# Select the first 500 rows of the dataset\n",
    "df = df_.iloc[:50000]\n",
    "\n",
    "# Select the next 500 rows of the dataset\n",
    "df2 = df_.iloc[50000:100000]\n",
    "# print(df1.shape)\n",
    "print(df2.shape)\n",
    "# df.head()\n",
    "\n",
    "# determine the minimum number of rows for each rating value\n",
    "min_count = df[\"rating\"].value_counts().min()\n",
    "min_count = 2500\n",
    "# subset the original dataset for each rating value\n",
    "df_1 = df[df[\"rating\"] == 1]\n",
    "df_2 = df[df[\"rating\"] == 2]\n",
    "df_4 = df[df[\"rating\"] == 4]\n",
    "df_5 = df[df[\"rating\"] == 5]\n",
    "\n",
    "# randomly sample the minimum number of rows for each rating value\n",
    "df_1_sampled = df_1.sample(n=min_count, random_state=42)\n",
    "df_2_sampled = df_2.sample(n=min_count, random_state=42)\n",
    "df_4_sampled = df_4.sample(n=min_count, random_state=42)\n",
    "df_5_sampled = df_5.sample(n=min_count, random_state=42)\n",
    "\n",
    "# combine the sampled rows for each rating value into a new dataset\n",
    "df_balanced = pd.concat([df_1_sampled, df_2_sampled, df_4_sampled, df_5_sampled])\n",
    "\n",
    "# save the balanced dataset to a new file\n",
    "df_balanced.to_csv(\"balanced_dataset.csv\", index=False)\n",
    "\n",
    "df = pd.read_csv('balanced_dataset.csv')\n",
    "# Define a function to map the rating to sentiment\n",
    "def map_sentiment(rating):\n",
    "    if rating in [1, 2]:\n",
    "        return \"negative\"\n",
    "    elif rating in [4, 5]:\n",
    "        return \"positive\"\n",
    "    else:\n",
    "        raise ValueError(\"Invalid rating value: {}\".format(rating))\n",
    "\n",
    "# Apply the function to the 'rating' column and create a new 'sentiment' column\n",
    "df['sentiment'] = df['rating'].apply(map_sentiment)\n",
    "\n",
    "# Apply sentence embeddings to first column of dataframe\n",
    "reviews = df['review'].tolist()\n",
    "reviews_embeddings = compute_sentence_embeddings(reviews, ar_embeddings, \"ar\")\n",
    "\n",
    "# Add new column with embeddings to dataframe\n",
    "df['arabic_Embeddings'] = reviews_embeddings\n",
    "\n",
    "import pandas as pd\n",
    "from sklearn.model_selection import train_test_split\n",
    "\n",
    "\n",
    "\n",
    "X = np.vstack(df['arabic_Embeddings']) \n",
    "y = df['sentiment']\n",
    "\n",
    "X_train, X_test, y_train, y_test = train_test_split(X, y, test_size=0.2, random_state=42)\n",
    "\n",
    "\n",
    "svm.fit(X_train, y_train)\n",
    "\n",
    "# Evaluate the performance of the SVM on the testing set\n",
    "y_pred = svm.predict(X_test)\n",
    "\n",
    "\n",
    "accuracy = accuracy_score(y_test, y_pred)\n",
    "report = classification_report(y_test, y_pred)\n",
    "print(\"Accuracy:\", accuracy)\n",
    "print(report)"
   ]
  },
  {
   "cell_type": "code",
   "execution_count": 66,
   "id": "497b0ff1",
   "metadata": {},
   "outputs": [
    {
     "name": "stdout",
     "output_type": "stream",
     "text": [
      "[[919  93]\n",
      " [192 796]]\n"
     ]
    },
    {
     "data": {
      "image/png": "[encoded data removed]",
      "text/plain": [
       "<Figure size 640x480 with 2 Axes>"
      ]
     },
     "metadata": {},
     "output_type": "display_data"
    }
   ],
   "source": [
    "import numpy as np\n",
    "import seaborn as sns\n",
    "import matplotlib.pyplot as plt\n",
    "from sklearn.metrics import confusion_matrix\n",
    "\n",
    "cm = confusion_matrix(y_test, y_pred)\n",
    "\n",
    "print(cm)\n",
    "\n",
    "# Create a heatmap\n",
    "sns.heatmap(cm, annot=True, fmt=\"d\", cmap=\"Blues\")\n",
    "\n",
    "# Add labels, title, and ticks\n",
    "plt.xlabel(\"Predicted Labels\")\n",
    "plt.ylabel(\"True Labels\")\n",
    "plt.title(\"Confusion Matrix\")\n",
    "\n",
    "# Show the plot\n",
    "plt.show()"
   ]
  },
  {
   "cell_type": "code",
   "execution_count": 67,
   "id": "a3f74be3",
   "metadata": {},
   "outputs": [],
   "source": [
    "import joblib\n",
    "joblib.dump(svm, 'SVM_S_Linear_En_Ar_MModel.pkl')\n",
    "\n",
    "import pickle\n",
    "filename = 'SVM_S_Linear_En_Ar_MModel.sav'\n",
    "pickle.dump(svm, open(filename, 'wb'))\n",
    "\n",
    "svm = joblib.load('SVM_S_Linear_En_Ar_MModel.pkl')\n",
    "svm = pickle.load(open(filename, 'rb'))\n",
    "# load the model from disk\n",
    "# loaded_model = pickle.load(open(filename, 'rb'))"
   ]
  },
  {
   "cell_type": "code",
   "execution_count": 68,
   "id": "9d7d547a",
   "metadata": {},
   "outputs": [],
   "source": [
    "\n",
    "svm = joblib.load('SVM_S_Linear_En_Ar_MModel.pkl')"
   ]
  },
  {
   "cell_type": "code",
   "execution_count": 69,
   "id": "a7e30d81",
   "metadata": {},
   "outputs": [
    {
     "name": "stdout",
     "output_type": "stream",
     "text": [
      "Accuracy: 0.8649\n",
      "              precision    recall  f1-score   support\n",
      "\n",
      "    negative       0.84      0.91      0.87      5000\n",
      "    positive       0.90      0.82      0.86      5000\n",
      "\n",
      "    accuracy                           0.86     10000\n",
      "   macro avg       0.87      0.86      0.86     10000\n",
      "weighted avg       0.87      0.86      0.86     10000\n",
      "\n"
     ]
    }
   ],
   "source": [
    "\n",
    "# determine the minimum number of rows for each rating value\n",
    "min_count = df2[\"rating\"].value_counts().min()\n",
    "min_count = 2500\n",
    "# subset the original dataset for each rating value\n",
    "df_1 = df2[df2[\"rating\"] == 1]\n",
    "df_2 = df2[df2[\"rating\"] == 2]\n",
    "df_4 = df2[df2[\"rating\"] == 4]\n",
    "df_5 = df2[df2[\"rating\"] == 5]\n",
    "\n",
    "# randomly sample the minimum number of rows for each rating value\n",
    "df_1_sampled = df_1.sample(n=min_count, random_state=42)\n",
    "df_2_sampled = df_2.sample(n=min_count, random_state=42)\n",
    "df_4_sampled = df_4.sample(n=min_count, random_state=42)\n",
    "df_5_sampled = df_5.sample(n=min_count, random_state=42)\n",
    "\n",
    "# combine the sampled rows for each rating value into a new dataset\n",
    "df_balanced = pd.concat([df_1_sampled, df_2_sampled, df_4_sampled, df_5_sampled])\n",
    "\n",
    "# save the balanced dataset to a new file\n",
    "df_balanced.to_csv(\"balanced_dataset.csv\", index=False)\n",
    "\n",
    "df = pd.read_csv('balanced_dataset.csv')\n",
    "# Define a function to map the rating to sentiment\n",
    "def map_sentiment(rating):\n",
    "    if rating in [1, 2]:\n",
    "        return \"negative\"\n",
    "    elif rating in [4, 5]:\n",
    "        return \"positive\"\n",
    "    else:\n",
    "        raise ValueError(\"Invalid rating value: {}\".format(rating))\n",
    "\n",
    "# Apply the function to the 'rating' column and create a new 'sentiment' column\n",
    "df['sentiment'] = df['rating'].apply(map_sentiment)\n",
    "\n",
    "# Apply sentence embeddings to first column of dataframe\n",
    "reviews = df['review'].tolist()\n",
    "reviews_embeddings = compute_sentence_embeddings(reviews, ar_embeddings, \"ar\")\n",
    "\n",
    "# Add new column with embeddings to dataframe\n",
    "df['arabic_Embeddings'] = reviews_embeddings\n",
    "\n",
    "X_test = np.vstack(df['arabic_Embeddings']) \n",
    "y_test = df['sentiment']\n",
    "y_pred = svm.predict(X_test)\n",
    "\n",
    "\n",
    "accuracy = accuracy_score(y_test, y_pred)\n",
    "report = classification_report(y_test, y_pred)\n",
    "print(\"Accuracy:\", accuracy)\n",
    "print(report)"
   ]
  },
  {
   "cell_type": "code",
   "execution_count": 70,
   "id": "07cb796c",
   "metadata": {},
   "outputs": [
    {
     "name": "stdout",
     "output_type": "stream",
     "text": [
      "[[4532  468]\n",
      " [ 883 4117]]\n"
     ]
    },
    {
     "data": {
      "image/png": "[encoded data removed]",
      "text/plain": [
       "<Figure size 640x480 with 2 Axes>"
      ]
     },
     "metadata": {},
     "output_type": "display_data"
    }
   ],
   "source": [
    "import numpy as np\n",
    "import seaborn as sns\n",
    "import matplotlib.pyplot as plt\n",
    "from sklearn.metrics import confusion_matrix\n",
    "\n",
    "cm = confusion_matrix(y_test, y_pred)\n",
    "\n",
    "print(cm)\n",
    "\n",
    "# Create a heatmap\n",
    "sns.heatmap(cm, annot=True, fmt=\"d\", cmap=\"Blues\")\n",
    "\n",
    "# Add labels, title, and ticks\n",
    "plt.xlabel(\"Predicted Labels\")\n",
    "plt.ylabel(\"True Labels\")\n",
    "plt.title(\"Confusion Matrix\")\n",
    "\n",
    "# Show the plot\n",
    "plt.show()"
   ]
  },
  {
   "cell_type": "markdown",
   "id": "901a4680",
   "metadata": {},
   "source": [
    "# French - FineTune - Test"
   ]
  },
  {
   "cell_type": "code",
   "execution_count": 71,
   "id": "0f1832c6",
   "metadata": {},
   "outputs": [
    {
     "name": "stderr",
     "output_type": "stream",
     "text": [
      "C:\\Users\\ALI\\AppData\\Local\\Temp\\ipykernel_5976\\3020337611.py:30: SettingWithCopyWarning: \n",
      "A value is trying to be set on a copy of a slice from a DataFrame.\n",
      "Try using .loc[row_indexer,col_indexer] = value instead\n",
      "\n",
      "See the caveats in the documentation: https://pandas.pydata.org/pandas-docs/stable/user_guide/indexing.html#returning-a-view-versus-a-copy\n",
      "  final_sample['french_Embeddings'] = reviews_embeddings\n"
     ]
    },
    {
     "name": "stdout",
     "output_type": "stream",
     "text": [
      "Accuracy: 0.566\n",
      "              precision    recall  f1-score   support\n",
      "\n",
      "           0       0.55      0.79      0.64       250\n",
      "           1       0.62      0.34      0.44       250\n",
      "\n",
      "    accuracy                           0.57       500\n",
      "   macro avg       0.58      0.57      0.54       500\n",
      "weighted avg       0.58      0.57      0.54       500\n",
      "\n"
     ]
    }
   ],
   "source": [
    "svm = joblib.load('SVM_S_Linear_En_Ar_MModel.pkl')\n",
    "import pandas as pd\n",
    "\n",
    "# Load the entire dataset into a DataFrame\n",
    "df = pd.read_csv('C:/Users/ALI/Desktop/French Dataset/french_tweets.csv')\n",
    "\n",
    "# Split the dataset into two separate DataFrames by class\n",
    "class_0 = df[df['label'] == 0]\n",
    "class_1 = df[df['label'] == 1]\n",
    "\n",
    "# Sample 250 rows from each class\n",
    "sample_0 = class_0.sample(n=250, random_state=42)\n",
    "sample_1 = class_1.sample(n=250, random_state=42)\n",
    "\n",
    "# Combine the two samples into a single DataFrame\n",
    "sample = pd.concat([sample_0, sample_1])\n",
    "\n",
    "\n",
    "# Shuffle the rows of the combined sample\n",
    "sample = sample.sample(frac=1, random_state=42)\n",
    "\n",
    "# Take the first 500 rows of the shuffled sample\n",
    "final_sample = sample.head(500)\n",
    "\n",
    "# Apply sentence embeddings to first column of dataframe\n",
    "reviews = final_sample['text'].tolist()\n",
    "reviews_embeddings = compute_sentence_embeddings(reviews, fr_embeddings, \"fr\")\n",
    "\n",
    "# Add new column with embeddings to dataframe\n",
    "final_sample['french_Embeddings'] = reviews_embeddings\n",
    "\n",
    "X_test = np.vstack(final_sample['french_Embeddings']) \n",
    "y_test = final_sample['label']\n",
    "y_pred = svm.predict(X_test)\n",
    "from sklearn.preprocessing import LabelEncoder\n",
    "# create a LabelEncoder object\n",
    "le = LabelEncoder()\n",
    "\n",
    "# fit the encoder to the values and transform the values to binary values\n",
    "binary_y_pred = le.fit_transform(y_pred)\n",
    "\n",
    "\n",
    "accuracy = accuracy_score(y_test, binary_y_pred)\n",
    "report = classification_report(y_test, binary_y_pred)\n",
    "print(\"Accuracy:\", accuracy)\n",
    "print(report)"
   ]
  },
  {
   "cell_type": "code",
   "execution_count": 72,
   "id": "eebb9bab",
   "metadata": {},
   "outputs": [
    {
     "name": "stdout",
     "output_type": "stream",
     "text": [
      "[[197  53]\n",
      " [164  86]]\n"
     ]
    },
    {
     "data": {
      "image/png": "[encoded data removed]",
      "text/plain": [
       "<Figure size 640x480 with 2 Axes>"
      ]
     },
     "metadata": {},
     "output_type": "display_data"
    }
   ],
   "source": [
    "import numpy as np\n",
    "import seaborn as sns\n",
    "import matplotlib.pyplot as plt\n",
    "from sklearn.metrics import confusion_matrix\n",
    "\n",
    "cm = confusion_matrix(y_test, binary_y_pred)\n",
    "\n",
    "print(cm)\n",
    "\n",
    "# Create a heatmap\n",
    "sns.heatmap(cm, annot=True, fmt=\"d\", cmap=\"Blues\")\n",
    "\n",
    "# Add labels, title, and ticks\n",
    "plt.xlabel(\"Predicted Labels\")\n",
    "plt.ylabel(\"True Labels\")\n",
    "plt.title(\"Confusion Matrix\")\n",
    "\n",
    "# Show the plot\n",
    "plt.show()"
   ]
  },
  {
   "cell_type": "code",
   "execution_count": 73,
   "id": "826c5abb",
   "metadata": {},
   "outputs": [
    {
     "name": "stdout",
     "output_type": "stream",
     "text": [
      "Accuracy: 0.66\n",
      "              precision    recall  f1-score   support\n",
      "\n",
      "           0       0.56      0.93      0.70        43\n",
      "           1       0.90      0.46      0.60        57\n",
      "\n",
      "    accuracy                           0.66       100\n",
      "   macro avg       0.73      0.69      0.65       100\n",
      "weighted avg       0.75      0.66      0.65       100\n",
      "\n"
     ]
    },
    {
     "name": "stderr",
     "output_type": "stream",
     "text": [
      "C:\\Users\\ALI\\AppData\\Local\\Temp\\ipykernel_5976\\2146145837.py:50: SettingWithCopyWarning: \n",
      "A value is trying to be set on a copy of a slice from a DataFrame.\n",
      "Try using .loc[row_indexer,col_indexer] = value instead\n",
      "\n",
      "See the caveats in the documentation: https://pandas.pydata.org/pandas-docs/stable/user_guide/indexing.html#returning-a-view-versus-a-copy\n",
      "  final_sample_2['french_Embeddings'] = reviews_embeddings\n"
     ]
    }
   ],
   "source": [
    "import pandas as pd\n",
    "\n",
    "# Load the entire dataset into a DataFrame\n",
    "df = pd.read_csv('C:/Users/ALI/Desktop/French Dataset/french_tweets.csv')\n",
    "\n",
    "# Split the dataset into two separate DataFrames by class\n",
    "class_0 = df[df['label'] == 0]\n",
    "class_1 = df[df['label'] == 1]\n",
    "\n",
    "# Sample 250 rows from each class\n",
    "sample_0 = class_0.sample(n=250, random_state=42)\n",
    "sample_1 = class_1.sample(n=250, random_state=42)\n",
    "\n",
    "# Combine the two samples into a single DataFrame\n",
    "sample = pd.concat([sample_0, sample_1])\n",
    "\n",
    "\n",
    "# Shuffle the rows of the combined sample\n",
    "sample = sample.sample(frac=1, random_state=42)\n",
    "\n",
    "# Take the first 500 rows of the shuffled sample\n",
    "final_sample_1 = sample.head(500)\n",
    "\n",
    "\n",
    "# Sample 250 rows from each class\n",
    "sample_0 = class_0.sample(n=250, random_state=42)\n",
    "sample_1 = class_1.sample(n=250, random_state=42)\n",
    "\n",
    "# Combine the two samples into a single DataFrame\n",
    "sample = pd.concat([sample_0, sample_1])\n",
    "\n",
    "\n",
    "# Shuffle the rows of the combined sample\n",
    "sample = sample.sample(frac=1, random_state=42)\n",
    "\n",
    "# Take the first 500 rows of the shuffled sample\n",
    "final_sample_2 = sample.head(500)\n",
    "# Apply sentence embeddings to first column of dataframe\n",
    "reviews = final_sample_1['text'].tolist()\n",
    "reviews_embeddings = compute_sentence_embeddings(reviews, fr_embeddings, \"fr\")\n",
    "\n",
    "# Add new column with embeddings to dataframe\n",
    "final_sample_1['french_Embeddings'] = reviews_embeddings\n",
    "\n",
    "# Apply sentence embeddings to first column of dataframe\n",
    "reviews = final_sample_2['text'].tolist()\n",
    "reviews_embeddings = compute_sentence_embeddings(reviews, fr_embeddings, \"fr\")\n",
    "\n",
    "# Add new column with embeddings to dataframe\n",
    "final_sample_2['french_Embeddings'] = reviews_embeddings\n",
    "import pandas as pd\n",
    "from sklearn.model_selection import train_test_split\n",
    "\n",
    "\n",
    "\n",
    "X = np.vstack(final_sample_1['french_Embeddings']) \n",
    "y = final_sample_1['label']\n",
    "\n",
    "X_train, X_test, y_train, y_test = train_test_split(X, y, test_size=0.2, random_state=42)\n",
    "\n",
    "\n",
    "svm.fit(X_train, y_train)\n",
    "\n",
    "# Evaluate the performance of the SVM on the testing set\n",
    "y_pred = svm.predict(X_test)\n",
    "# from sklearn.preprocessing import LabelEncoder\n",
    "# # create a LabelEncoder object\n",
    "# le = LabelEncoder()\n",
    "\n",
    "# # fit the encoder to the values and transform the values to binary values\n",
    "# binary_y_pred = le.fit_transform(y_pred)\n",
    "\n",
    "accuracy = accuracy_score(y_test, y_pred)\n",
    "report = classification_report(y_test, y_pred)\n",
    "print(\"Accuracy:\", accuracy)\n",
    "print(report)"
   ]
  },
  {
   "cell_type": "code",
   "execution_count": 74,
   "id": "ca99dc2a",
   "metadata": {},
   "outputs": [
    {
     "name": "stdout",
     "output_type": "stream",
     "text": [
      "[[40  3]\n",
      " [31 26]]\n"
     ]
    },
    {
     "data": {
      "image/png": "[encoded data removed]",
      "text/plain": [
       "<Figure size 640x480 with 2 Axes>"
      ]
     },
     "metadata": {},
     "output_type": "display_data"
    }
   ],
   "source": [
    "import numpy as np\n",
    "import seaborn as sns\n",
    "import matplotlib.pyplot as plt\n",
    "from sklearn.metrics import confusion_matrix\n",
    "\n",
    "cm = confusion_matrix(y_test, y_pred)\n",
    "\n",
    "print(cm)\n",
    "\n",
    "# Create a heatmap\n",
    "sns.heatmap(cm, annot=True, fmt=\"d\", cmap=\"Blues\")\n",
    "\n",
    "# Add labels, title, and ticks\n",
    "plt.xlabel(\"Predicted Labels\")\n",
    "plt.ylabel(\"True Labels\")\n",
    "plt.title(\"Confusion Matrix\")\n",
    "\n",
    "# Show the plot\n",
    "plt.show()"
   ]
  },
  {
   "cell_type": "code",
   "execution_count": 75,
   "id": "e14ad6c8",
   "metadata": {},
   "outputs": [],
   "source": [
    "import joblib\n",
    "joblib.dump(svm, 'SVM_S_Linear_En_Ar_Fr_MModel.pkl')\n",
    "\n",
    "import pickle\n",
    "filename = 'SVM_S_Linear_En_Ar_Fr_MModel.sav'\n",
    "pickle.dump(svm, open(filename, 'wb'))\n",
    "\n",
    "svm = joblib.load('SVM_S_Linear_En_Ar_Fr_MModel.pkl')\n",
    "svm = pickle.load(open(filename, 'rb'))\n",
    "# load the model from disk\n",
    "# loaded_model = pickle.load(open(filename, 'rb'))"
   ]
  },
  {
   "cell_type": "code",
   "execution_count": 76,
   "id": "9c660dbd",
   "metadata": {},
   "outputs": [],
   "source": [
    "\n",
    "svm = joblib.load('SVM_S_Linear_En_Ar_Fr_MModel.pkl')"
   ]
  },
  {
   "cell_type": "code",
   "execution_count": 77,
   "id": "da898bf6",
   "metadata": {},
   "outputs": [
    {
     "name": "stdout",
     "output_type": "stream",
     "text": [
      "Accuracy: 0.678\n",
      "              precision    recall  f1-score   support\n",
      "\n",
      "           0       0.63      0.87      0.73       250\n",
      "           1       0.79      0.48      0.60       250\n",
      "\n",
      "    accuracy                           0.68       500\n",
      "   macro avg       0.71      0.68      0.67       500\n",
      "weighted avg       0.71      0.68      0.67       500\n",
      "\n"
     ]
    }
   ],
   "source": [
    "X_test = np.vstack(final_sample_2['french_Embeddings']) \n",
    "y_test = final_sample_2['label']\n",
    "y_pred = svm.predict(X_test)\n",
    "from sklearn.preprocessing import LabelEncoder\n",
    "# create a LabelEncoder object\n",
    "le = LabelEncoder()\n",
    "\n",
    "# fit the encoder to the values and transform the values to binary values\n",
    "binary_y_pred = le.fit_transform(y_pred)\n",
    "\n",
    "\n",
    "accuracy = accuracy_score(y_test, y_pred)\n",
    "report = classification_report(y_test, y_pred)\n",
    "print(\"Accuracy:\", accuracy)\n",
    "print(report)"
   ]
  },
  {
   "cell_type": "code",
   "execution_count": 78,
   "id": "a2bf97ef",
   "metadata": {},
   "outputs": [
    {
     "name": "stdout",
     "output_type": "stream",
     "text": [
      "[[218  32]\n",
      " [129 121]]\n"
     ]
    },
    {
     "data": {
      "image/png": "[encoded data removed]",
      "text/plain": [
       "<Figure size 640x480 with 2 Axes>"
      ]
     },
     "metadata": {},
     "output_type": "display_data"
    }
   ],
   "source": [
    "import numpy as np\n",
    "import seaborn as sns\n",
    "import matplotlib.pyplot as plt\n",
    "from sklearn.metrics import confusion_matrix\n",
    "\n",
    "cm = confusion_matrix(y_test, y_pred)\n",
    "\n",
    "print(cm)\n",
    "\n",
    "# Create a heatmap\n",
    "sns.heatmap(cm, annot=True, fmt=\"d\", cmap=\"Blues\")\n",
    "\n",
    "# Add labels, title, and ticks\n",
    "plt.xlabel(\"Predicted Labels\")\n",
    "plt.ylabel(\"True Labels\")\n",
    "plt.title(\"Confusion Matrix\")\n",
    "\n",
    "# Show the plot\n",
    "plt.show()"
   ]
  },
  {
   "cell_type": "code",
   "execution_count": null,
   "id": "34c2ab9a",
   "metadata": {},
   "outputs": [],
   "source": []
  },
  {
   "cell_type": "code",
   "execution_count": null,
   "id": "b7491fc4",
   "metadata": {},
   "outputs": [],
   "source": []
  },
  {
   "cell_type": "code",
   "execution_count": null,
   "id": "2d61e10f",
   "metadata": {},
   "outputs": [],
   "source": []
  },
  {
   "cell_type": "code",
   "execution_count": null,
   "id": "081c94e2",
   "metadata": {},
   "outputs": [],
   "source": []
  }
 ],
 "metadata": {
  "kernelspec": {
   "display_name": "Python 3 (ipykernel)",
   "language": "python",
   "name": "python3"
  },
  "language_info": {
   "codemirror_mode": {
    "name": "ipython",
    "version": 3
   },
   "file_extension": ".py",
   "mimetype": "text/x-python",
   "name": "python",
   "nbconvert_exporter": "python",
   "pygments_lexer": "ipython3",
   "version": "3.9.7"
  }
 },
 "nbformat": 4,
 "nbformat_minor": 5
}
