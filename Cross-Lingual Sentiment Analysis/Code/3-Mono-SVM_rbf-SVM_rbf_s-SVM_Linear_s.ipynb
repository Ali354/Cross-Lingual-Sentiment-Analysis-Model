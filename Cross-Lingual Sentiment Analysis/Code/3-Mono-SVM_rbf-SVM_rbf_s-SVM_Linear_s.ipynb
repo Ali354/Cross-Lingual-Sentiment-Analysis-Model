{
 "cells": [
  {
   "cell_type": "markdown",
   "id": "8cbb9a5d",
   "metadata": {},
   "source": [
    "# Mono , SVM (rbf, rbf_Stand, Linear_Stand) - Arabic without Fine Tune"
   ]
  },
  {
   "cell_type": "code",
   "execution_count": 1,
   "id": "aacb021f",
   "metadata": {},
   "outputs": [
    {
     "name": "stdout",
     "output_type": "stream",
     "text": [
      "                                              review sentiment\n",
      "0  One of the other reviewers has mentioned that ...  positive\n",
      "1  A wonderful little production. <br /><br />The...  positive\n",
      "2  I thought this was a wonderful way to spend ti...  positive\n",
      "3  Basically there's a family where a little boy ...  negative\n",
      "4  Petter Mattei's \"Love in the Time of Money\" is...  positive\n"
     ]
    }
   ],
   "source": [
    "import os\n",
    "from gensim.models import KeyedVectors\n",
    "import nltk\n",
    "import numpy as np\n",
    "from wordfreq import word_frequency\n",
    "from sklearn.decomposition import TruncatedSVD\n",
    "\n",
    "english_embedding_path = \"C:/Users/ALI/Desktop/wikis/wiki.en.vec\"\n",
    "arabic_embedding_path = \"C:/Users/ALI/Desktop/wikis/Arabic fastText/wiki.ar.vec\"\n",
    "\n",
    "en_embeddings = KeyedVectors.load_word2vec_format(english_embedding_path)\n",
    "ar_embeddings = KeyedVectors.load_word2vec_format(arabic_embedding_path)\n",
    "\n",
    "def compute_sentence_embeddings(questions, word_embeddings, language, a=0.001): \n",
    "    \n",
    "    question_embeddings = []\n",
    "    for question in questions: \n",
    "        tokens = [t.lower() for t in nltk.word_tokenize(question)]\n",
    "        tokens = [token for token in tokens if token in word_embeddings]\n",
    "\n",
    "        weights = [a/(a+word_frequency(token, language)) for token in tokens]\n",
    "        embedding = np.average([word_embeddings[token] for token in tokens], axis=0, weights=weights)\n",
    "        question_embeddings.append(embedding)\n",
    "        \n",
    "    return question_embeddings\n",
    "\n",
    "import pandas as pd\n",
    "\n",
    "# Read the CSV file into a DataFrame object\n",
    "df = pd.read_csv('/Users/ALI/Desktop/IMDB Dataset.csv')\n",
    "\n",
    "# Print the first 5 rows of the DataFrame\n",
    "print(df.head(5))\n",
    "reviews_all_en_emb = compute_sentence_embeddings(df['review'], en_embeddings, \"en\")\n",
    "# Apply sentence embeddings to first column of dataframe\n",
    "reviews = df.iloc[:, 0].tolist()\n",
    "reviews_embeddings = compute_sentence_embeddings(reviews, en_embeddings, \"en\")\n",
    "\n",
    "# Add new column with embeddings to dataframe\n",
    "df['English_Embeddings'] = reviews_embeddings\n"
   ]
  },
  {
   "cell_type": "markdown",
   "id": "ff1e6773",
   "metadata": {},
   "source": [
    "# SVM rbf"
   ]
  },
  {
   "cell_type": "code",
   "execution_count": 2,
   "id": "0784f9dc",
   "metadata": {},
   "outputs": [
    {
     "name": "stdout",
     "output_type": "stream",
     "text": [
      "Accuracy: 0.8398\n",
      "              precision    recall  f1-score   support\n",
      "\n",
      "    negative       0.84      0.84      0.84      4961\n",
      "    positive       0.84      0.84      0.84      5039\n",
      "\n",
      "    accuracy                           0.84     10000\n",
      "   macro avg       0.84      0.84      0.84     10000\n",
      "weighted avg       0.84      0.84      0.84     10000\n",
      "\n"
     ]
    }
   ],
   "source": [
    "import pandas as pd\n",
    "import numpy as np\n",
    "from sklearn.model_selection import train_test_split\n",
    "from sklearn.svm import SVC\n",
    "from sklearn.metrics import accuracy_score, classification_report\n",
    "\n",
    "# Separate the input features (sentence embeddings) and output labels (sentiment)\n",
    "X = np.vstack(df[\"English_Embeddings\"])  # input features (sentence embeddings)\n",
    "y = df[\"sentiment\"]  # output labels (sentiment)\n",
    "\n",
    "# Split the data into training and testing sets\n",
    "X_train, X_test, y_train, y_test = train_test_split(X, y, test_size=0.2, random_state=42)\n",
    "\n",
    "# Train an SVM with RBF kernel on the training set\n",
    "svm = SVC(kernel='rbf')\n",
    "history = svm.fit(X_train, y_train)\n",
    "\n",
    "# Evaluate the performance of the SVM on the testing set\n",
    "y_pred = svm.predict(X_test)\n",
    "\n",
    "\n",
    "accuracy = accuracy_score(y_test, y_pred)\n",
    "report = classification_report(y_test, y_pred)\n",
    "print(\"Accuracy:\", accuracy)\n",
    "print(report)"
   ]
  },
  {
   "cell_type": "code",
   "execution_count": 3,
   "id": "4ed5380f",
   "metadata": {},
   "outputs": [
    {
     "name": "stdout",
     "output_type": "stream",
     "text": [
      "[[4164  797]\n",
      " [ 805 4234]]\n"
     ]
    },
    {
     "data": {
      "image/png": "[encoded data removed]",
      "text/plain": [
       "<Figure size 640x480 with 2 Axes>"
      ]
     },
     "metadata": {},
     "output_type": "display_data"
    }
   ],
   "source": [
    "import numpy as np\n",
    "import seaborn as sns\n",
    "import matplotlib.pyplot as plt\n",
    "from sklearn.metrics import confusion_matrix\n",
    "\n",
    "cm = confusion_matrix(y_test, y_pred)\n",
    "\n",
    "print(cm)\n",
    "\n",
    "# Create a heatmap\n",
    "sns.heatmap(cm, annot=True, fmt=\"d\", cmap=\"Blues\")\n",
    "\n",
    "# Add labels, title, and ticks\n",
    "plt.xlabel(\"Predicted Labels\")\n",
    "plt.ylabel(\"True Labels\")\n",
    "plt.title(\"Confusion Matrix\")\n",
    "\n",
    "# Show the plot\n",
    "plt.show()"
   ]
  },
  {
   "cell_type": "markdown",
   "id": "6e530d7a",
   "metadata": {},
   "source": [
    "# Arabic"
   ]
  },
  {
   "cell_type": "code",
   "execution_count": 4,
   "id": "c040a928",
   "metadata": {},
   "outputs": [
    {
     "name": "stdout",
     "output_type": "stream",
     "text": [
      "(105698, 7)\n",
      "(500, 7)\n",
      "Accuracy: 0.5\n",
      "              precision    recall  f1-score   support\n",
      "\n",
      "    negative       0.00      0.00      0.00        80\n",
      "    positive       0.50      1.00      0.67        80\n",
      "\n",
      "    accuracy                           0.50       160\n",
      "   macro avg       0.25      0.50      0.33       160\n",
      "weighted avg       0.25      0.50      0.33       160\n",
      "\n"
     ]
    },
    {
     "name": "stderr",
     "output_type": "stream",
     "text": [
      "C:\\Users\\ALI\\anaconda3\\lib\\site-packages\\sklearn\\metrics\\_classification.py:1469: UndefinedMetricWarning: Precision and F-score are ill-defined and being set to 0.0 in labels with no predicted samples. Use `zero_division` parameter to control this behavior.\n",
      "  _warn_prf(average, modifier, msg_start, len(result))\n",
      "C:\\Users\\ALI\\anaconda3\\lib\\site-packages\\sklearn\\metrics\\_classification.py:1469: UndefinedMetricWarning: Precision and F-score are ill-defined and being set to 0.0 in labels with no predicted samples. Use `zero_division` parameter to control this behavior.\n",
      "  _warn_prf(average, modifier, msg_start, len(result))\n",
      "C:\\Users\\ALI\\anaconda3\\lib\\site-packages\\sklearn\\metrics\\_classification.py:1469: UndefinedMetricWarning: Precision and F-score are ill-defined and being set to 0.0 in labels with no predicted samples. Use `zero_division` parameter to control this behavior.\n",
      "  _warn_prf(average, modifier, msg_start, len(result))\n"
     ]
    }
   ],
   "source": [
    "df = pd.read_excel('../../base-line/balanced-reviews.xlsx')\n",
    "print(df.shape)\n",
    "df = df.head(500)\n",
    "print(df.shape)\n",
    "df.head()\n",
    "\n",
    "\n",
    "# determine the minimum number of rows for each rating value\n",
    "min_count = df[\"rating\"].value_counts().min()\n",
    "min_count = 40\n",
    "# subset the original dataset for each rating value\n",
    "df_1 = df[df[\"rating\"] == 1]\n",
    "df_2 = df[df[\"rating\"] == 2]\n",
    "df_4 = df[df[\"rating\"] == 4]\n",
    "df_5 = df[df[\"rating\"] == 5]\n",
    "\n",
    "# randomly sample the minimum number of rows for each rating value\n",
    "df_1_sampled = df_1.sample(n=min_count, random_state=42)\n",
    "df_2_sampled = df_2.sample(n=min_count, random_state=42)\n",
    "df_4_sampled = df_4.sample(n=min_count, random_state=42)\n",
    "df_5_sampled = df_5.sample(n=min_count, random_state=42)\n",
    "\n",
    "# combine the sampled rows for each rating value into a new dataset\n",
    "df_balanced = pd.concat([df_1_sampled, df_2_sampled, df_4_sampled, df_5_sampled])\n",
    "\n",
    "# save the balanced dataset to a new file\n",
    "df_balanced.to_csv(\"balanced_dataset.csv\", index=False)\n",
    "\n",
    "df = pd.read_csv('balanced_dataset.csv')\n",
    "# Define a function to map the rating to sentiment\n",
    "def map_sentiment(rating):\n",
    "    if rating in [1, 2]:\n",
    "        return \"negative\"\n",
    "    elif rating in [4, 5]:\n",
    "        return \"positive\"\n",
    "    else:\n",
    "        raise ValueError(\"Invalid rating value: {}\".format(rating))\n",
    "\n",
    "# Apply the function to the 'rating' column and create a new 'sentiment' column\n",
    "df['sentiment'] = df['rating'].apply(map_sentiment)\n",
    "\n",
    "# Apply sentence embeddings to first column of dataframe\n",
    "reviews = df['review'].tolist()\n",
    "reviews_embeddings = compute_sentence_embeddings(reviews, ar_embeddings, \"ar\")\n",
    "\n",
    "# Add new column with embeddings to dataframe\n",
    "df['arabic_Embeddings'] = reviews_embeddings\n",
    "\n",
    "X_test = np.vstack(df['arabic_Embeddings']) \n",
    "y_test = df['sentiment']\n",
    "y_pred = svm.predict(X_test)\n",
    "\n",
    "\n",
    "accuracy = accuracy_score(y_test, y_pred)\n",
    "report = classification_report(y_test, y_pred)\n",
    "print(\"Accuracy:\", accuracy)\n",
    "print(report)"
   ]
  },
  {
   "cell_type": "code",
   "execution_count": 5,
   "id": "9652ec9f",
   "metadata": {},
   "outputs": [
    {
     "name": "stdout",
     "output_type": "stream",
     "text": [
      "[[ 0 80]\n",
      " [ 0 80]]\n"
     ]
    },
    {
     "data": {
      "image/png": "[encoded data removed]",
      "text/plain": [
       "<Figure size 640x480 with 2 Axes>"
      ]
     },
     "metadata": {},
     "output_type": "display_data"
    }
   ],
   "source": [
    "import numpy as np\n",
    "import seaborn as sns\n",
    "import matplotlib.pyplot as plt\n",
    "from sklearn.metrics import confusion_matrix\n",
    "\n",
    "cm = confusion_matrix(y_test, y_pred)\n",
    "\n",
    "print(cm)\n",
    "\n",
    "# Create a heatmap\n",
    "sns.heatmap(cm, annot=True, fmt=\"d\", cmap=\"Blues\")\n",
    "\n",
    "# Add labels, title, and ticks\n",
    "plt.xlabel(\"Predicted Labels\")\n",
    "plt.ylabel(\"True Labels\")\n",
    "plt.title(\"Confusion Matrix\")\n",
    "\n",
    "# Show the plot\n",
    "plt.show()"
   ]
  },
  {
   "cell_type": "markdown",
   "id": "d375ad9d",
   "metadata": {},
   "source": [
    "# SVM rbf Stand"
   ]
  },
  {
   "cell_type": "code",
   "execution_count": 6,
   "id": "3480a43a",
   "metadata": {},
   "outputs": [
    {
     "name": "stdout",
     "output_type": "stream",
     "text": [
      "                                              review sentiment\n",
      "0  One of the other reviewers has mentioned that ...  positive\n",
      "1  A wonderful little production. <br /><br />The...  positive\n",
      "2  I thought this was a wonderful way to spend ti...  positive\n",
      "3  Basically there's a family where a little boy ...  negative\n",
      "4  Petter Mattei's \"Love in the Time of Money\" is...  positive\n",
      "Accuracy: 0.8549\n",
      "              precision    recall  f1-score   support\n",
      "\n",
      "    negative       0.86      0.85      0.85      4961\n",
      "    positive       0.85      0.86      0.86      5039\n",
      "\n",
      "    accuracy                           0.85     10000\n",
      "   macro avg       0.85      0.85      0.85     10000\n",
      "weighted avg       0.85      0.85      0.85     10000\n",
      "\n"
     ]
    }
   ],
   "source": [
    "import pandas as pd\n",
    "\n",
    "# Read the CSV file into a DataFrame object\n",
    "df = pd.read_csv('/Users/ALI/Desktop/IMDB Dataset.csv')\n",
    "\n",
    "# Print the first 5 rows of the DataFrame\n",
    "print(df.head(5))\n",
    "reviews_all_en_emb = compute_sentence_embeddings(df['review'], en_embeddings, \"en\")\n",
    "# Apply sentence embeddings to first column of dataframe\n",
    "reviews = df.iloc[:, 0].tolist()\n",
    "reviews_embeddings = compute_sentence_embeddings(reviews, en_embeddings, \"en\")\n",
    "\n",
    "# Add new column with embeddings to dataframe\n",
    "df['English_Embeddings'] = reviews_embeddings\n",
    "\n",
    "import pandas as pd\n",
    "import numpy as np\n",
    "from sklearn.model_selection import train_test_split\n",
    "from sklearn.svm import SVC\n",
    "from sklearn.metrics import accuracy_score\n",
    "from sklearn.preprocessing import StandardScaler\n",
    "\n",
    "# Separate the input features (sentence embeddings) and output labels (sentiment)\n",
    "X = np.vstack(df[\"English_Embeddings\"])  # input features (sentence embeddings)\n",
    "y = df[\"sentiment\"]  # output labels (sentiment)\n",
    "\n",
    "# Split the data into training and testing sets\n",
    "X_train, X_test, y_train, y_test = train_test_split(X, y, test_size=0.2, random_state=42)\n",
    "\n",
    "# Standardize the input features using a scaler\n",
    "scaler = StandardScaler()\n",
    "X_train = scaler.fit_transform(X_train)\n",
    "X_test = scaler.transform(X_test)\n",
    "\n",
    "# Train an SVM with RBF kernel on the standardized training set\n",
    "svm = SVC(kernel='rbf')\n",
    "history = svm.fit(X_train, y_train)\n",
    "\n",
    "# Evaluate the performance of the SVM on the standardized testing set\n",
    "y_pred = svm.predict(X_test)\n",
    "\n",
    "\n",
    "accuracy = accuracy_score(y_test, y_pred)\n",
    "report = classification_report(y_test, y_pred)\n",
    "print(\"Accuracy:\", accuracy)\n",
    "print(report)"
   ]
  },
  {
   "cell_type": "code",
   "execution_count": 7,
   "id": "00b6d47e",
   "metadata": {},
   "outputs": [
    {
     "name": "stdout",
     "output_type": "stream",
     "text": [
      "[[4217  744]\n",
      " [ 707 4332]]\n"
     ]
    },
    {
     "data": {
      "image/png": "[encoded data removed]",
      "text/plain": [
       "<Figure size 640x480 with 2 Axes>"
      ]
     },
     "metadata": {},
     "output_type": "display_data"
    }
   ],
   "source": [
    "import numpy as np\n",
    "import seaborn as sns\n",
    "import matplotlib.pyplot as plt\n",
    "from sklearn.metrics import confusion_matrix\n",
    "\n",
    "cm = confusion_matrix(y_test, y_pred)\n",
    "\n",
    "print(cm)\n",
    "\n",
    "# Create a heatmap\n",
    "sns.heatmap(cm, annot=True, fmt=\"d\", cmap=\"Blues\")\n",
    "\n",
    "# Add labels, title, and ticks\n",
    "plt.xlabel(\"Predicted Labels\")\n",
    "plt.ylabel(\"True Labels\")\n",
    "plt.title(\"Confusion Matrix\")\n",
    "\n",
    "# Show the plot\n",
    "plt.show()"
   ]
  },
  {
   "cell_type": "markdown",
   "id": "1d294287",
   "metadata": {},
   "source": [
    "# Arabic"
   ]
  },
  {
   "cell_type": "code",
   "execution_count": 8,
   "id": "2ef184a1",
   "metadata": {},
   "outputs": [
    {
     "name": "stdout",
     "output_type": "stream",
     "text": [
      "(105698, 7)\n",
      "(500, 7)\n",
      "Accuracy: 0.49375\n",
      "              precision    recall  f1-score   support\n",
      "\n",
      "    negative       0.50      0.97      0.66        80\n",
      "    positive       0.33      0.01      0.02        80\n",
      "\n",
      "    accuracy                           0.49       160\n",
      "   macro avg       0.42      0.49      0.34       160\n",
      "weighted avg       0.42      0.49      0.34       160\n",
      "\n"
     ]
    }
   ],
   "source": [
    "df = pd.read_excel('../../base-line/balanced-reviews.xlsx')\n",
    "print(df.shape)\n",
    "df = df.head(500)\n",
    "print(df.shape)\n",
    "# df.head()\n",
    "\n",
    "\n",
    "# determine the minimum number of rows for each rating value\n",
    "min_count = df[\"rating\"].value_counts().min()\n",
    "min_count = 40\n",
    "# subset the original dataset for each rating value\n",
    "df_1 = df[df[\"rating\"] == 1]\n",
    "df_2 = df[df[\"rating\"] == 2]\n",
    "df_4 = df[df[\"rating\"] == 4]\n",
    "df_5 = df[df[\"rating\"] == 5]\n",
    "\n",
    "# randomly sample the minimum number of rows for each rating value\n",
    "df_1_sampled = df_1.sample(n=min_count, random_state=42)\n",
    "df_2_sampled = df_2.sample(n=min_count, random_state=42)\n",
    "df_4_sampled = df_4.sample(n=min_count, random_state=42)\n",
    "df_5_sampled = df_5.sample(n=min_count, random_state=42)\n",
    "\n",
    "# combine the sampled rows for each rating value into a new dataset\n",
    "df_balanced = pd.concat([df_1_sampled, df_2_sampled, df_4_sampled, df_5_sampled])\n",
    "\n",
    "# save the balanced dataset to a new file\n",
    "df_balanced.to_csv(\"balanced_dataset.csv\", index=False)\n",
    "\n",
    "df = pd.read_csv('balanced_dataset.csv')\n",
    "# Define a function to map the rating to sentiment\n",
    "def map_sentiment(rating):\n",
    "    if rating in [1, 2]:\n",
    "        return \"negative\"\n",
    "    elif rating in [4, 5]:\n",
    "        return \"positive\"\n",
    "    else:\n",
    "        raise ValueError(\"Invalid rating value: {}\".format(rating))\n",
    "\n",
    "# Apply the function to the 'rating' column and create a new 'sentiment' column\n",
    "df['sentiment'] = df['rating'].apply(map_sentiment)\n",
    "\n",
    "# Apply sentence embeddings to first column of dataframe\n",
    "reviews = df['review'].tolist()\n",
    "reviews_embeddings = compute_sentence_embeddings(reviews, ar_embeddings, \"ar\")\n",
    "\n",
    "# Add new column with embeddings to dataframe\n",
    "df['arabic_Embeddings'] = reviews_embeddings\n",
    "\n",
    "X_test = np.vstack(df['arabic_Embeddings']) \n",
    "y_test = df['sentiment']\n",
    "y_pred = svm.predict(X_test)\n",
    "\n",
    "\n",
    "accuracy = accuracy_score(y_test, y_pred)\n",
    "report = classification_report(y_test, y_pred)\n",
    "print(\"Accuracy:\", accuracy)\n",
    "print(report)"
   ]
  },
  {
   "cell_type": "code",
   "execution_count": 9,
   "id": "bf63b48a",
   "metadata": {},
   "outputs": [
    {
     "name": "stdout",
     "output_type": "stream",
     "text": [
      "[[78  2]\n",
      " [79  1]]\n"
     ]
    },
    {
     "data": {
      "image/png": "[encoded data removed]",
      "text/plain": [
       "<Figure size 640x480 with 2 Axes>"
      ]
     },
     "metadata": {},
     "output_type": "display_data"
    }
   ],
   "source": [
    "import numpy as np\n",
    "import seaborn as sns\n",
    "import matplotlib.pyplot as plt\n",
    "from sklearn.metrics import confusion_matrix\n",
    "\n",
    "cm = confusion_matrix(y_test, y_pred)\n",
    "\n",
    "print(cm)\n",
    "\n",
    "# Create a heatmap\n",
    "sns.heatmap(cm, annot=True, fmt=\"d\", cmap=\"Blues\")\n",
    "\n",
    "# Add labels, title, and ticks\n",
    "plt.xlabel(\"Predicted Labels\")\n",
    "plt.ylabel(\"True Labels\")\n",
    "plt.title(\"Confusion Matrix\")\n",
    "\n",
    "# Show the plot\n",
    "plt.show()"
   ]
  },
  {
   "cell_type": "markdown",
   "id": "5e20b3e2",
   "metadata": {},
   "source": [
    "# SVM Linear Stand"
   ]
  },
  {
   "cell_type": "code",
   "execution_count": 10,
   "id": "4df1b988",
   "metadata": {},
   "outputs": [
    {
     "name": "stdout",
     "output_type": "stream",
     "text": [
      "                                              review sentiment\n",
      "0  One of the other reviewers has mentioned that ...  positive\n",
      "1  A wonderful little production. <br /><br />The...  positive\n",
      "2  I thought this was a wonderful way to spend ti...  positive\n",
      "3  Basically there's a family where a little boy ...  negative\n",
      "4  Petter Mattei's \"Love in the Time of Money\" is...  positive\n",
      "Accuracy: 0.8388\n",
      "              precision    recall  f1-score   support\n",
      "\n",
      "    negative       0.84      0.84      0.84      4961\n",
      "    positive       0.84      0.84      0.84      5039\n",
      "\n",
      "    accuracy                           0.84     10000\n",
      "   macro avg       0.84      0.84      0.84     10000\n",
      "weighted avg       0.84      0.84      0.84     10000\n",
      "\n"
     ]
    }
   ],
   "source": [
    "import pandas as pd\n",
    "\n",
    "# Read the CSV file into a DataFrame object\n",
    "df = pd.read_csv('/Users/ALI/Desktop/IMDB Dataset.csv')\n",
    "\n",
    "# Print the first 5 rows of the DataFrame\n",
    "print(df.head(5))\n",
    "reviews_all_en_emb = compute_sentence_embeddings(df['review'], en_embeddings, \"en\")\n",
    "# Apply sentence embeddings to first column of dataframe\n",
    "reviews = df.iloc[:, 0].tolist()\n",
    "reviews_embeddings = compute_sentence_embeddings(reviews, en_embeddings, \"en\")\n",
    "\n",
    "# Add new column with embeddings to dataframe\n",
    "df['English_Embeddings'] = reviews_embeddings\n",
    "\n",
    "import pandas as pd\n",
    "import numpy as np\n",
    "from sklearn.model_selection import train_test_split\n",
    "from sklearn.svm import SVC\n",
    "from sklearn.metrics import accuracy_score\n",
    "from sklearn.preprocessing import StandardScaler\n",
    "\n",
    "# Separate the input features (sentence embeddings) and output labels (sentiment)\n",
    "X = np.vstack(df[\"English_Embeddings\"])  # input features (sentence embeddings)\n",
    "y = df[\"sentiment\"]  # output labels (sentiment)\n",
    "\n",
    "# Split the data into training and testing sets\n",
    "X_train, X_test, y_train, y_test = train_test_split(X, y, test_size=0.2, random_state=42)\n",
    "\n",
    "# Standardize the input features using a scaler\n",
    "scaler = StandardScaler()\n",
    "X_train = scaler.fit_transform(X_train)\n",
    "X_test = scaler.transform(X_test)\n",
    "\n",
    "# Train an SVM with linear kernel on the standardized training set\n",
    "svm = SVC(kernel='linear')\n",
    "history = svm.fit(X_train, y_train)\n",
    "\n",
    "# Evaluate the performance of the SVM on the standardized testing set\n",
    "y_pred = svm.predict(X_test)\n",
    "\n",
    "\n",
    "accuracy = accuracy_score(y_test, y_pred)\n",
    "report = classification_report(y_test, y_pred)\n",
    "print(\"Accuracy:\", accuracy)\n",
    "print(report)"
   ]
  },
  {
   "cell_type": "code",
   "execution_count": 11,
   "id": "2e6b3468",
   "metadata": {},
   "outputs": [
    {
     "name": "stdout",
     "output_type": "stream",
     "text": [
      "[[4168  793]\n",
      " [ 819 4220]]\n"
     ]
    },
    {
     "data": {
      "image/png": "[encoded data removed]",
      "text/plain": [
       "<Figure size 640x480 with 2 Axes>"
      ]
     },
     "metadata": {},
     "output_type": "display_data"
    }
   ],
   "source": [
    "import numpy as np\n",
    "import seaborn as sns\n",
    "import matplotlib.pyplot as plt\n",
    "from sklearn.metrics import confusion_matrix\n",
    "\n",
    "cm = confusion_matrix(y_test, y_pred)\n",
    "\n",
    "print(cm)\n",
    "\n",
    "# Create a heatmap\n",
    "sns.heatmap(cm, annot=True, fmt=\"d\", cmap=\"Blues\")\n",
    "\n",
    "# Add labels, title, and ticks\n",
    "plt.xlabel(\"Predicted Labels\")\n",
    "plt.ylabel(\"True Labels\")\n",
    "plt.title(\"Confusion Matrix\")\n",
    "\n",
    "# Show the plot\n",
    "plt.show()"
   ]
  },
  {
   "cell_type": "markdown",
   "id": "be52562e",
   "metadata": {},
   "source": [
    "# Arabic|"
   ]
  },
  {
   "cell_type": "code",
   "execution_count": 12,
   "id": "28a11ab8",
   "metadata": {},
   "outputs": [
    {
     "name": "stdout",
     "output_type": "stream",
     "text": [
      "(105698, 7)\n",
      "(500, 7)\n",
      "Accuracy: 0.48125\n",
      "              precision    recall  f1-score   support\n",
      "\n",
      "    negative       0.47      0.29      0.36        80\n",
      "    positive       0.49      0.68      0.57        80\n",
      "\n",
      "    accuracy                           0.48       160\n",
      "   macro avg       0.48      0.48      0.46       160\n",
      "weighted avg       0.48      0.48      0.46       160\n",
      "\n"
     ]
    }
   ],
   "source": [
    "df = pd.read_excel('../../base-line/balanced-reviews.xlsx')\n",
    "print(df.shape)\n",
    "df = df.head(500)\n",
    "print(df.shape)\n",
    "# df.head()\n",
    "\n",
    "\n",
    "# determine the minimum number of rows for each rating value\n",
    "min_count = df[\"rating\"].value_counts().min()\n",
    "min_count = 40\n",
    "# subset the original dataset for each rating value\n",
    "df_1 = df[df[\"rating\"] == 1]\n",
    "df_2 = df[df[\"rating\"] == 2]\n",
    "df_4 = df[df[\"rating\"] == 4]\n",
    "df_5 = df[df[\"rating\"] == 5]\n",
    "\n",
    "# randomly sample the minimum number of rows for each rating value\n",
    "df_1_sampled = df_1.sample(n=min_count, random_state=42)\n",
    "df_2_sampled = df_2.sample(n=min_count, random_state=42)\n",
    "df_4_sampled = df_4.sample(n=min_count, random_state=42)\n",
    "df_5_sampled = df_5.sample(n=min_count, random_state=42)\n",
    "\n",
    "# combine the sampled rows for each rating value into a new dataset\n",
    "df_balanced = pd.concat([df_1_sampled, df_2_sampled, df_4_sampled, df_5_sampled])\n",
    "\n",
    "# save the balanced dataset to a new file\n",
    "df_balanced.to_csv(\"balanced_dataset.csv\", index=False)\n",
    "\n",
    "df = pd.read_csv('balanced_dataset.csv')\n",
    "# Define a function to map the rating to sentiment\n",
    "def map_sentiment(rating):\n",
    "    if rating in [1, 2]:\n",
    "        return \"negative\"\n",
    "    elif rating in [4, 5]:\n",
    "        return \"positive\"\n",
    "    else:\n",
    "        raise ValueError(\"Invalid rating value: {}\".format(rating))\n",
    "\n",
    "# Apply the function to the 'rating' column and create a new 'sentiment' column\n",
    "df['sentiment'] = df['rating'].apply(map_sentiment)\n",
    "\n",
    "# Apply sentence embeddings to first column of dataframe\n",
    "reviews = df['review'].tolist()\n",
    "reviews_embeddings = compute_sentence_embeddings(reviews, ar_embeddings, \"ar\")\n",
    "\n",
    "# Add new column with embeddings to dataframe\n",
    "df['arabic_Embeddings'] = reviews_embeddings\n",
    "\n",
    "X_test = np.vstack(df['arabic_Embeddings']) \n",
    "y_test = df['sentiment']\n",
    "y_pred = svm.predict(X_test)\n",
    "\n",
    "\n",
    "accuracy = accuracy_score(y_test, y_pred)\n",
    "report = classification_report(y_test, y_pred)\n",
    "print(\"Accuracy:\", accuracy)\n",
    "print(report)"
   ]
  },
  {
   "cell_type": "code",
   "execution_count": 13,
   "id": "ccf0dbe2",
   "metadata": {},
   "outputs": [
    {
     "name": "stdout",
     "output_type": "stream",
     "text": [
      "[[23 57]\n",
      " [26 54]]\n"
     ]
    },
    {
     "data": {
      "image/png": "[encoded data removed]",
      "text/plain": [
       "<Figure size 640x480 with 2 Axes>"
      ]
     },
     "metadata": {},
     "output_type": "display_data"
    }
   ],
   "source": [
    "import numpy as np\n",
    "import seaborn as sns\n",
    "import matplotlib.pyplot as plt\n",
    "from sklearn.metrics import confusion_matrix\n",
    "\n",
    "cm = confusion_matrix(y_test, y_pred)\n",
    "\n",
    "print(cm)\n",
    "\n",
    "# Create a heatmap\n",
    "sns.heatmap(cm, annot=True, fmt=\"d\", cmap=\"Blues\")\n",
    "\n",
    "# Add labels, title, and ticks\n",
    "plt.xlabel(\"Predicted Labels\")\n",
    "plt.ylabel(\"True Labels\")\n",
    "plt.title(\"Confusion Matrix\")\n",
    "\n",
    "# Show the plot\n",
    "plt.show()"
   ]
  },
  {
   "cell_type": "code",
   "execution_count": null,
   "id": "14620eb7",
   "metadata": {},
   "outputs": [],
   "source": []
  },
  {
   "cell_type": "code",
   "execution_count": null,
   "id": "d749f9f7",
   "metadata": {},
   "outputs": [],
   "source": []
  }
 ],
 "metadata": {
  "kernelspec": {
   "display_name": "Python 3 (ipykernel)",
   "language": "python",
   "name": "python3"
  },
  "language_info": {
   "codemirror_mode": {
    "name": "ipython",
    "version": 3
   },
   "file_extension": ".py",
   "mimetype": "text/x-python",
   "name": "python",
   "nbconvert_exporter": "python",
   "pygments_lexer": "ipython3",
   "version": "3.9.7"
  }
 },
 "nbformat": 4,
 "nbformat_minor": 5
}
