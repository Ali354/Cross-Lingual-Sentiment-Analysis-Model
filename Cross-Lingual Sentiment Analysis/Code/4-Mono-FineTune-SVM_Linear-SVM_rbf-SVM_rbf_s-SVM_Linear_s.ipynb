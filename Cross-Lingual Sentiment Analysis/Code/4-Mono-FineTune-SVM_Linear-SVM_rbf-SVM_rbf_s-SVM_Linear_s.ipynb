{
 "cells": [
  {
   "cell_type": "code",
   "execution_count": 1,
   "id": "25b35f23",
   "metadata": {},
   "outputs": [
    {
     "name": "stdout",
     "output_type": "stream",
     "text": [
      "                                              review sentiment\n",
      "0  One of the other reviewers has mentioned that ...  positive\n",
      "1  A wonderful little production. <br /><br />The...  positive\n",
      "2  I thought this was a wonderful way to spend ti...  positive\n",
      "3  Basically there's a family where a little boy ...  negative\n",
      "4  Petter Mattei's \"Love in the Time of Money\" is...  positive\n"
     ]
    }
   ],
   "source": [
    "import os\n",
    "from gensim.models import KeyedVectors\n",
    "import nltk\n",
    "import numpy as np\n",
    "from wordfreq import word_frequency\n",
    "from sklearn.decomposition import TruncatedSVD\n",
    "import pandas as pd\n",
    "\n",
    "english_embedding_path = \"C:/Users/ALI/Desktop/wikis/wiki.en.vec\"\n",
    "arabic_embedding_path = \"C:/Users/ALI/Desktop/wikis/Arabic fastText/wiki.ar.vec\"\n",
    "\n",
    "en_embeddings = KeyedVectors.load_word2vec_format(english_embedding_path)\n",
    "ar_embeddings = KeyedVectors.load_word2vec_format(arabic_embedding_path)\n",
    "\n",
    "def compute_sentence_embeddings(questions, word_embeddings, language, a=0.001): \n",
    "    \n",
    "    question_embeddings = []\n",
    "    for question in questions: \n",
    "        tokens = [t.lower() for t in nltk.word_tokenize(question)]\n",
    "        tokens = [token for token in tokens if token in word_embeddings]\n",
    "\n",
    "        weights = [a/(a+word_frequency(token, language)) for token in tokens]\n",
    "        embedding = np.average([word_embeddings[token] for token in tokens], axis=0, weights=weights)\n",
    "        question_embeddings.append(embedding)\n",
    "        \n",
    "    return question_embeddings\n",
    "\n",
    "\n",
    "# Read the CSV file into a DataFrame object\n",
    "df = pd.read_csv('/Users/ALI/Desktop/IMDB Dataset.csv')\n",
    "\n",
    "# Print the first 5 rows of the DataFrame\n",
    "print(df.head(5))\n",
    "reviews_all_en_emb = compute_sentence_embeddings(df['review'], en_embeddings, \"en\")\n",
    "# Apply sentence embeddings to first column of dataframe\n",
    "reviews = df.iloc[:, 0].tolist()\n",
    "reviews_embeddings = compute_sentence_embeddings(reviews, en_embeddings, \"en\")\n",
    "\n",
    "# Add new column with embeddings to dataframe\n",
    "df['English_Embeddings'] = reviews_embeddings\n",
    "\n"
   ]
  },
  {
   "cell_type": "markdown",
   "id": "ccf32005",
   "metadata": {},
   "source": [
    "## SVM Linear - Fine Tuning on Arabic before testing"
   ]
  },
  {
   "cell_type": "code",
   "execution_count": 2,
   "id": "631c91cb",
   "metadata": {},
   "outputs": [
    {
     "name": "stdout",
     "output_type": "stream",
     "text": [
      "Accuracy: 0.8385\n",
      "              precision    recall  f1-score   support\n",
      "\n",
      "    negative       0.84      0.84      0.84      4961\n",
      "    positive       0.84      0.84      0.84      5039\n",
      "\n",
      "    accuracy                           0.84     10000\n",
      "   macro avg       0.84      0.84      0.84     10000\n",
      "weighted avg       0.84      0.84      0.84     10000\n",
      "\n"
     ]
    }
   ],
   "source": [
    "import pandas as pd\n",
    "import numpy as np\n",
    "from sklearn.model_selection import train_test_split\n",
    "from sklearn.svm import SVC\n",
    "from sklearn.metrics import accuracy_score, classification_report\n",
    "\n",
    "# Separate the input features (sentence embeddings) and output labels (sentiment)\n",
    "X = np.vstack(df[\"English_Embeddings\"])  # input features (sentence embeddings)\n",
    "y = df[\"sentiment\"]  # output labels (sentiment)\n",
    "\n",
    "# Split the data into training and testing sets\n",
    "X_train, X_test, y_train, y_test = train_test_split(X, y, test_size=0.2, random_state=42)\n",
    "\n",
    "# Train an SVM with RBF kernel on the training set\n",
    "svm = SVC(kernel='linear')\n",
    "history = svm.fit(X_train, y_train)\n",
    "\n",
    "# Evaluate the performance of the SVM on the testing set\n",
    "y_pred = svm.predict(X_test)\n",
    "\n",
    "\n",
    "accuracy = accuracy_score(y_test, y_pred)\n",
    "report = classification_report(y_test, y_pred)\n",
    "print(\"Accuracy:\", accuracy)\n",
    "print(report)"
   ]
  },
  {
   "cell_type": "code",
   "execution_count": 3,
   "id": "6463b1a3",
   "metadata": {},
   "outputs": [
    {
     "name": "stdout",
     "output_type": "stream",
     "text": [
      "[[4163  798]\n",
      " [ 817 4222]]\n"
     ]
    },
    {
     "data": {
      "image/png": "[encoded data removed]",
      "text/plain": [
       "<Figure size 640x480 with 2 Axes>"
      ]
     },
     "metadata": {},
     "output_type": "display_data"
    }
   ],
   "source": [
    "import numpy as np\n",
    "import seaborn as sns\n",
    "import matplotlib.pyplot as plt\n",
    "from sklearn.metrics import confusion_matrix\n",
    "\n",
    "cm = confusion_matrix(y_test, y_pred)\n",
    "\n",
    "print(cm)\n",
    "\n",
    "# Create a heatmap\n",
    "sns.heatmap(cm, annot=True, fmt=\"d\", cmap=\"Blues\")\n",
    "\n",
    "# Add labels, title, and ticks\n",
    "plt.xlabel(\"Predicted Labels\")\n",
    "plt.ylabel(\"True Labels\")\n",
    "plt.title(\"Confusion Matrix\")\n",
    "\n",
    "# Show the plot\n",
    "plt.show()"
   ]
  },
  {
   "cell_type": "markdown",
   "id": "6c4b3248",
   "metadata": {},
   "source": [
    "# Arabic"
   ]
  },
  {
   "cell_type": "code",
   "execution_count": 4,
   "id": "e8d5436e",
   "metadata": {},
   "outputs": [
    {
     "name": "stdout",
     "output_type": "stream",
     "text": [
      "(105698, 7)\n",
      "(500, 7)\n",
      "Accuracy: 0.78125\n",
      "              precision    recall  f1-score   support\n",
      "\n",
      "    negative       0.76      0.81      0.79        16\n",
      "    positive       0.80      0.75      0.77        16\n",
      "\n",
      "    accuracy                           0.78        32\n",
      "   macro avg       0.78      0.78      0.78        32\n",
      "weighted avg       0.78      0.78      0.78        32\n",
      "\n"
     ]
    }
   ],
   "source": [
    "df_ = pd.read_excel('../../base-line/balanced-reviews.xlsx')\n",
    "print(df_.shape)\n",
    "# df = df.head(500)\n",
    "# Select the first 500 rows of the dataset\n",
    "df = df_.iloc[:500]\n",
    "\n",
    "# Select the next 500 rows of the dataset\n",
    "df2 = df_.iloc[500:1000]\n",
    "# print(df1.shape)\n",
    "print(df2.shape)\n",
    "# df.head()\n",
    "\n",
    "\n",
    "# determine the minimum number of rows for each rating value\n",
    "min_count = df[\"rating\"].value_counts().min()\n",
    "min_count = 40\n",
    "# subset the original dataset for each rating value\n",
    "df_1 = df[df[\"rating\"] == 1]\n",
    "df_2 = df[df[\"rating\"] == 2]\n",
    "df_4 = df[df[\"rating\"] == 4]\n",
    "df_5 = df[df[\"rating\"] == 5]\n",
    "\n",
    "# randomly sample the minimum number of rows for each rating value\n",
    "df_1_sampled = df_1.sample(n=min_count, random_state=42)\n",
    "df_2_sampled = df_2.sample(n=min_count, random_state=42)\n",
    "df_4_sampled = df_4.sample(n=min_count, random_state=42)\n",
    "df_5_sampled = df_5.sample(n=min_count, random_state=42)\n",
    "\n",
    "# combine the sampled rows for each rating value into a new dataset\n",
    "df_balanced = pd.concat([df_1_sampled, df_2_sampled, df_4_sampled, df_5_sampled])\n",
    "\n",
    "# save the balanced dataset to a new file\n",
    "df_balanced.to_csv(\"balanced_dataset.csv\", index=False)\n",
    "\n",
    "df = pd.read_csv('balanced_dataset.csv')\n",
    "# Define a function to map the rating to sentiment\n",
    "def map_sentiment(rating):\n",
    "    if rating in [1, 2]:\n",
    "        return \"negative\"\n",
    "    elif rating in [4, 5]:\n",
    "        return \"positive\"\n",
    "    else:\n",
    "        raise ValueError(\"Invalid rating value: {}\".format(rating))\n",
    "\n",
    "# Apply the function to the 'rating' column and create a new 'sentiment' column\n",
    "df['sentiment'] = df['rating'].apply(map_sentiment)\n",
    "\n",
    "# Apply sentence embeddings to first column of dataframe\n",
    "reviews = df['review'].tolist()\n",
    "reviews_embeddings = compute_sentence_embeddings(reviews, ar_embeddings, \"ar\")\n",
    "\n",
    "# Add new column with embeddings to dataframe\n",
    "df['arabic_Embeddings'] = reviews_embeddings\n",
    "\n",
    "import pandas as pd\n",
    "from sklearn.model_selection import train_test_split\n",
    "\n",
    "\n",
    "\n",
    "X = np.vstack(df['arabic_Embeddings']) \n",
    "y = df['sentiment']\n",
    "\n",
    "X_train, X_test, y_train, y_test = train_test_split(X, y, test_size=0.2, random_state=42)\n",
    "\n",
    "\n",
    "history = svm.fit(X_train, y_train)\n",
    "\n",
    "# Evaluate the performance of the SVM on the testing set\n",
    "y_pred = svm.predict(X_test)\n",
    "\n",
    "accuracy = accuracy_score(y_test, y_pred)\n",
    "report = classification_report(y_test, y_pred)\n",
    "print(\"Accuracy:\", accuracy)\n",
    "print(report)"
   ]
  },
  {
   "cell_type": "code",
   "execution_count": null,
   "id": "f14dbe0c",
   "metadata": {},
   "outputs": [],
   "source": []
  },
  {
   "cell_type": "markdown",
   "id": "018f3d03",
   "metadata": {},
   "source": [
    "## Test on Arabic after Fine Tunning"
   ]
  },
  {
   "cell_type": "code",
   "execution_count": 6,
   "id": "f3fb3a54",
   "metadata": {},
   "outputs": [
    {
     "name": "stdout",
     "output_type": "stream",
     "text": [
      "Accuracy: 0.80625\n",
      "              precision    recall  f1-score   support\n",
      "\n",
      "    negative       0.80      0.81      0.81        80\n",
      "    positive       0.81      0.80      0.81        80\n",
      "\n",
      "    accuracy                           0.81       160\n",
      "   macro avg       0.81      0.81      0.81       160\n",
      "weighted avg       0.81      0.81      0.81       160\n",
      "\n"
     ]
    }
   ],
   "source": [
    "\n",
    "# determine the minimum number of rows for each rating value\n",
    "min_count = df2[\"rating\"].value_counts().min()\n",
    "min_count = 40\n",
    "# subset the original dataset for each rating value\n",
    "df_1 = df2[df2[\"rating\"] == 1]\n",
    "df_2 = df2[df2[\"rating\"] == 2]\n",
    "df_4 = df2[df2[\"rating\"] == 4]\n",
    "df_5 = df2[df2[\"rating\"] == 5]\n",
    "\n",
    "# randomly sample the minimum number of rows for each rating value\n",
    "df_1_sampled = df_1.sample(n=min_count, random_state=42)\n",
    "df_2_sampled = df_2.sample(n=min_count, random_state=42)\n",
    "df_4_sampled = df_4.sample(n=min_count, random_state=42)\n",
    "df_5_sampled = df_5.sample(n=min_count, random_state=42)\n",
    "\n",
    "# combine the sampled rows for each rating value into a new dataset\n",
    "df_balanced = pd.concat([df_1_sampled, df_2_sampled, df_4_sampled, df_5_sampled])\n",
    "\n",
    "# save the balanced dataset to a new file\n",
    "df_balanced.to_csv(\"balanced_dataset.csv\", index=False)\n",
    "\n",
    "df = pd.read_csv('balanced_dataset.csv')\n",
    "# Define a function to map the rating to sentiment\n",
    "def map_sentiment(rating):\n",
    "    if rating in [1, 2]:\n",
    "        return \"negative\"\n",
    "    elif rating in [4, 5]:\n",
    "        return \"positive\"\n",
    "    else:\n",
    "        raise ValueError(\"Invalid rating value: {}\".format(rating))\n",
    "\n",
    "# Apply the function to the 'rating' column and create a new 'sentiment' column\n",
    "df['sentiment'] = df['rating'].apply(map_sentiment)\n",
    "\n",
    "# Apply sentence embeddings to first column of dataframe\n",
    "reviews = df['review'].tolist()\n",
    "reviews_embeddings = compute_sentence_embeddings(reviews, ar_embeddings, \"ar\")\n",
    "\n",
    "# Add new column with embeddings to dataframe\n",
    "df['arabic_Embeddings'] = reviews_embeddings\n",
    "\n",
    "X_test = np.vstack(df['arabic_Embeddings']) \n",
    "y_test = df['sentiment']\n",
    "y_pred = svm.predict(X_test)\n",
    "\n",
    "\n",
    "accuracy = accuracy_score(y_test, y_pred)\n",
    "report = classification_report(y_test, y_pred)\n",
    "print(\"Accuracy:\", accuracy)\n",
    "print(report)"
   ]
  },
  {
   "cell_type": "code",
   "execution_count": 7,
   "id": "a15fd394",
   "metadata": {},
   "outputs": [
    {
     "name": "stdout",
     "output_type": "stream",
     "text": [
      "[[65 15]\n",
      " [16 64]]\n"
     ]
    },
    {
     "data": {
      "image/png": "[encoded data removed]",
      "text/plain": [
       "<Figure size 640x480 with 2 Axes>"
      ]
     },
     "metadata": {},
     "output_type": "display_data"
    }
   ],
   "source": [
    "import numpy as np\n",
    "import seaborn as sns\n",
    "import matplotlib.pyplot as plt\n",
    "from sklearn.metrics import confusion_matrix\n",
    "\n",
    "cm = confusion_matrix(y_test, y_pred)\n",
    "\n",
    "print(cm)\n",
    "\n",
    "# Create a heatmap\n",
    "sns.heatmap(cm, annot=True, fmt=\"d\", cmap=\"Blues\")\n",
    "\n",
    "# Add labels, title, and ticks\n",
    "plt.xlabel(\"Predicted Labels\")\n",
    "plt.ylabel(\"True Labels\")\n",
    "plt.title(\"Confusion Matrix\")\n",
    "\n",
    "# Show the plot\n",
    "plt.show()"
   ]
  },
  {
   "cell_type": "markdown",
   "id": "6329a830",
   "metadata": {},
   "source": [
    "## SVM rbf Fine Tunning"
   ]
  },
  {
   "cell_type": "code",
   "execution_count": 8,
   "id": "d1072c7f",
   "metadata": {},
   "outputs": [
    {
     "name": "stdout",
     "output_type": "stream",
     "text": [
      "                                              review sentiment\n",
      "0  One of the other reviewers has mentioned that ...  positive\n",
      "1  A wonderful little production. <br /><br />The...  positive\n",
      "2  I thought this was a wonderful way to spend ti...  positive\n",
      "3  Basically there's a family where a little boy ...  negative\n",
      "4  Petter Mattei's \"Love in the Time of Money\" is...  positive\n",
      "Accuracy: 0.8398\n",
      "              precision    recall  f1-score   support\n",
      "\n",
      "    negative       0.84      0.84      0.84      4961\n",
      "    positive       0.84      0.84      0.84      5039\n",
      "\n",
      "    accuracy                           0.84     10000\n",
      "   macro avg       0.84      0.84      0.84     10000\n",
      "weighted avg       0.84      0.84      0.84     10000\n",
      "\n"
     ]
    }
   ],
   "source": [
    "import pandas as pd\n",
    "\n",
    "# Read the CSV file into a DataFrame object\n",
    "df = pd.read_csv('/Users/ALI/Desktop/IMDB Dataset.csv')\n",
    "\n",
    "# Print the first 5 rows of the DataFrame\n",
    "print(df.head(5))\n",
    "reviews_all_en_emb = compute_sentence_embeddings(df['review'], en_embeddings, \"en\")\n",
    "# Apply sentence embeddings to first column of dataframe\n",
    "reviews = df.iloc[:, 0].tolist()\n",
    "reviews_embeddings = compute_sentence_embeddings(reviews, en_embeddings, \"en\")\n",
    "\n",
    "# Add new column with embeddings to dataframe\n",
    "df['English_Embeddings'] = reviews_embeddings\n",
    "import pandas as pd\n",
    "import numpy as np\n",
    "from sklearn.model_selection import train_test_split\n",
    "from sklearn.svm import SVC\n",
    "from sklearn.metrics import accuracy_score\n",
    "\n",
    "# Separate the input features (sentence embeddings) and output labels (sentiment)\n",
    "X = np.vstack(df[\"English_Embeddings\"])  # input features (sentence embeddings)\n",
    "y = df[\"sentiment\"]  # output labels (sentiment)\n",
    "\n",
    "# Split the data into training and testing sets\n",
    "X_train, X_test, y_train, y_test = train_test_split(X, y, test_size=0.2, random_state=42)\n",
    "\n",
    "# Train an SVM with RBF kernel on the training set\n",
    "svm = SVC(kernel='rbf')\n",
    "history = svm.fit(X_train, y_train)\n",
    "\n",
    "# Evaluate the performance of the SVM on the testing set\n",
    "y_pred = svm.predict(X_test)\n",
    "\n",
    "\n",
    "accuracy = accuracy_score(y_test, y_pred)\n",
    "report = classification_report(y_test, y_pred)\n",
    "print(\"Accuracy:\", accuracy)\n",
    "print(report)"
   ]
  },
  {
   "cell_type": "code",
   "execution_count": 9,
   "id": "15aad0ad",
   "metadata": {},
   "outputs": [
    {
     "name": "stdout",
     "output_type": "stream",
     "text": [
      "[[4164  797]\n",
      " [ 805 4234]]\n"
     ]
    },
    {
     "data": {
      "image/png": "[encoded data removed]",
      "text/plain": [
       "<Figure size 640x480 with 2 Axes>"
      ]
     },
     "metadata": {},
     "output_type": "display_data"
    }
   ],
   "source": [
    "import numpy as np\n",
    "import seaborn as sns\n",
    "import matplotlib.pyplot as plt\n",
    "from sklearn.metrics import confusion_matrix\n",
    "\n",
    "cm = confusion_matrix(y_test, y_pred)\n",
    "\n",
    "print(cm)\n",
    "\n",
    "# Create a heatmap\n",
    "sns.heatmap(cm, annot=True, fmt=\"d\", cmap=\"Blues\")\n",
    "\n",
    "# Add labels, title, and ticks\n",
    "plt.xlabel(\"Predicted Labels\")\n",
    "plt.ylabel(\"True Labels\")\n",
    "plt.title(\"Confusion Matrix\")\n",
    "\n",
    "# Show the plot\n",
    "plt.show()"
   ]
  },
  {
   "cell_type": "code",
   "execution_count": null,
   "id": "248afc4e",
   "metadata": {},
   "outputs": [],
   "source": []
  },
  {
   "cell_type": "code",
   "execution_count": 10,
   "id": "ba44cfff",
   "metadata": {},
   "outputs": [
    {
     "name": "stdout",
     "output_type": "stream",
     "text": [
      "(105698, 7)\n",
      "(500, 7)\n",
      "Accuracy: 0.78125\n",
      "              precision    recall  f1-score   support\n",
      "\n",
      "    negative       0.80      0.75      0.77        16\n",
      "    positive       0.76      0.81      0.79        16\n",
      "\n",
      "    accuracy                           0.78        32\n",
      "   macro avg       0.78      0.78      0.78        32\n",
      "weighted avg       0.78      0.78      0.78        32\n",
      "\n"
     ]
    }
   ],
   "source": [
    "df_ = pd.read_excel('../../base-line/balanced-reviews.xlsx')\n",
    "print(df_.shape)\n",
    "# df = df.head(500)\n",
    "# Select the first 500 rows of the dataset\n",
    "df = df_.iloc[:500]\n",
    "\n",
    "# Select the next 500 rows of the dataset\n",
    "df2 = df_.iloc[500:1000]\n",
    "# print(df1.shape)\n",
    "print(df2.shape)\n",
    "# df.head()\n",
    "\n",
    "# determine the minimum number of rows for each rating value\n",
    "min_count = df[\"rating\"].value_counts().min()\n",
    "min_count = 40\n",
    "# subset the original dataset for each rating value\n",
    "df_1 = df[df[\"rating\"] == 1]\n",
    "df_2 = df[df[\"rating\"] == 2]\n",
    "df_4 = df[df[\"rating\"] == 4]\n",
    "df_5 = df[df[\"rating\"] == 5]\n",
    "\n",
    "# randomly sample the minimum number of rows for each rating value\n",
    "df_1_sampled = df_1.sample(n=min_count, random_state=42)\n",
    "df_2_sampled = df_2.sample(n=min_count, random_state=42)\n",
    "df_4_sampled = df_4.sample(n=min_count, random_state=42)\n",
    "df_5_sampled = df_5.sample(n=min_count, random_state=42)\n",
    "\n",
    "# combine the sampled rows for each rating value into a new dataset\n",
    "df_balanced = pd.concat([df_1_sampled, df_2_sampled, df_4_sampled, df_5_sampled])\n",
    "\n",
    "# save the balanced dataset to a new file\n",
    "df_balanced.to_csv(\"balanced_dataset.csv\", index=False)\n",
    "\n",
    "df = pd.read_csv('balanced_dataset.csv')\n",
    "# Define a function to map the rating to sentiment\n",
    "def map_sentiment(rating):\n",
    "    if rating in [1, 2]:\n",
    "        return \"negative\"\n",
    "    elif rating in [4, 5]:\n",
    "        return \"positive\"\n",
    "    else:\n",
    "        raise ValueError(\"Invalid rating value: {}\".format(rating))\n",
    "\n",
    "# Apply the function to the 'rating' column and create a new 'sentiment' column\n",
    "df['sentiment'] = df['rating'].apply(map_sentiment)\n",
    "\n",
    "# Apply sentence embeddings to first column of dataframe\n",
    "reviews = df['review'].tolist()\n",
    "reviews_embeddings = compute_sentence_embeddings(reviews, ar_embeddings, \"ar\")\n",
    "\n",
    "# Add new column with embeddings to dataframe\n",
    "df['arabic_Embeddings'] = reviews_embeddings\n",
    "\n",
    "import pandas as pd\n",
    "from sklearn.model_selection import train_test_split\n",
    "\n",
    "\n",
    "\n",
    "X = np.vstack(df['arabic_Embeddings']) \n",
    "y = df['sentiment']\n",
    "\n",
    "X_train, X_test, y_train, y_test = train_test_split(X, y, test_size=0.2, random_state=42)\n",
    "\n",
    "\n",
    "history = svm.fit(X_train, y_train)\n",
    "\n",
    "# Evaluate the performance of the SVM on the testing set\n",
    "y_pred = svm.predict(X_test)\n",
    "\n",
    "\n",
    "accuracy = accuracy_score(y_test, y_pred)\n",
    "report = classification_report(y_test, y_pred)\n",
    "print(\"Accuracy:\", accuracy)\n",
    "print(report)"
   ]
  },
  {
   "cell_type": "code",
   "execution_count": null,
   "id": "d6f56f5d",
   "metadata": {},
   "outputs": [],
   "source": []
  },
  {
   "cell_type": "code",
   "execution_count": 12,
   "id": "00713a60",
   "metadata": {},
   "outputs": [
    {
     "name": "stdout",
     "output_type": "stream",
     "text": [
      "Accuracy: 0.83125\n",
      "              precision    recall  f1-score   support\n",
      "\n",
      "    negative       0.84      0.82      0.83        80\n",
      "    positive       0.83      0.84      0.83        80\n",
      "\n",
      "    accuracy                           0.83       160\n",
      "   macro avg       0.83      0.83      0.83       160\n",
      "weighted avg       0.83      0.83      0.83       160\n",
      "\n"
     ]
    }
   ],
   "source": [
    "\n",
    "# determine the minimum number of rows for each rating value\n",
    "min_count = df2[\"rating\"].value_counts().min()\n",
    "min_count = 40\n",
    "# subset the original dataset for each rating value\n",
    "df_1 = df2[df2[\"rating\"] == 1]\n",
    "df_2 = df2[df2[\"rating\"] == 2]\n",
    "df_4 = df2[df2[\"rating\"] == 4]\n",
    "df_5 = df2[df2[\"rating\"] == 5]\n",
    "\n",
    "# randomly sample the minimum number of rows for each rating value\n",
    "df_1_sampled = df_1.sample(n=min_count, random_state=42)\n",
    "df_2_sampled = df_2.sample(n=min_count, random_state=42)\n",
    "df_4_sampled = df_4.sample(n=min_count, random_state=42)\n",
    "df_5_sampled = df_5.sample(n=min_count, random_state=42)\n",
    "\n",
    "# combine the sampled rows for each rating value into a new dataset\n",
    "df_balanced = pd.concat([df_1_sampled, df_2_sampled, df_4_sampled, df_5_sampled])\n",
    "\n",
    "# save the balanced dataset to a new file\n",
    "df_balanced.to_csv(\"balanced_dataset.csv\", index=False)\n",
    "\n",
    "df = pd.read_csv('balanced_dataset.csv')\n",
    "# Define a function to map the rating to sentiment\n",
    "def map_sentiment(rating):\n",
    "    if rating in [1, 2]:\n",
    "        return \"negative\"\n",
    "    elif rating in [4, 5]:\n",
    "        return \"positive\"\n",
    "    else:\n",
    "        raise ValueError(\"Invalid rating value: {}\".format(rating))\n",
    "\n",
    "# Apply the function to the 'rating' column and create a new 'sentiment' column\n",
    "df['sentiment'] = df['rating'].apply(map_sentiment)\n",
    "\n",
    "# Apply sentence embeddings to first column of dataframe\n",
    "reviews = df['review'].tolist()\n",
    "reviews_embeddings = compute_sentence_embeddings(reviews, ar_embeddings, \"ar\")\n",
    "\n",
    "# Add new column with embeddings to dataframe\n",
    "df['arabic_Embeddings'] = reviews_embeddings\n",
    "\n",
    "X_test = np.vstack(df['arabic_Embeddings']) \n",
    "y_test = df['sentiment']\n",
    "y_pred = svm.predict(X_test)\n",
    "\n",
    "\n",
    "accuracy = accuracy_score(y_test, y_pred)\n",
    "report = classification_report(y_test, y_pred)\n",
    "print(\"Accuracy:\", accuracy)\n",
    "print(report)"
   ]
  },
  {
   "cell_type": "code",
   "execution_count": 13,
   "id": "676bf867",
   "metadata": {},
   "outputs": [
    {
     "name": "stdout",
     "output_type": "stream",
     "text": [
      "[[66 14]\n",
      " [13 67]]\n"
     ]
    },
    {
     "data": {
      "image/png": "[encoded data removed]",
      "text/plain": [
       "<Figure size 640x480 with 2 Axes>"
      ]
     },
     "metadata": {},
     "output_type": "display_data"
    }
   ],
   "source": [
    "import numpy as np\n",
    "import seaborn as sns\n",
    "import matplotlib.pyplot as plt\n",
    "from sklearn.metrics import confusion_matrix\n",
    "\n",
    "cm = confusion_matrix(y_test, y_pred)\n",
    "\n",
    "print(cm)\n",
    "\n",
    "# Create a heatmap\n",
    "sns.heatmap(cm, annot=True, fmt=\"d\", cmap=\"Blues\")\n",
    "\n",
    "# Add labels, title, and ticks\n",
    "plt.xlabel(\"Predicted Labels\")\n",
    "plt.ylabel(\"True Labels\")\n",
    "plt.title(\"Confusion Matrix\")\n",
    "\n",
    "# Show the plot\n",
    "plt.show()"
   ]
  },
  {
   "cell_type": "markdown",
   "id": "51fa0cb7",
   "metadata": {},
   "source": [
    "## Stand SVM rbf - Fine Tunning before testing on Arabic"
   ]
  },
  {
   "cell_type": "code",
   "execution_count": 14,
   "id": "38e1308c",
   "metadata": {},
   "outputs": [
    {
     "name": "stdout",
     "output_type": "stream",
     "text": [
      "                                              review sentiment\n",
      "0  One of the other reviewers has mentioned that ...  positive\n",
      "1  A wonderful little production. <br /><br />The...  positive\n",
      "2  I thought this was a wonderful way to spend ti...  positive\n",
      "3  Basically there's a family where a little boy ...  negative\n",
      "4  Petter Mattei's \"Love in the Time of Money\" is...  positive\n",
      "Accuracy: 0.8549\n",
      "              precision    recall  f1-score   support\n",
      "\n",
      "    negative       0.86      0.85      0.85      4961\n",
      "    positive       0.85      0.86      0.86      5039\n",
      "\n",
      "    accuracy                           0.85     10000\n",
      "   macro avg       0.85      0.85      0.85     10000\n",
      "weighted avg       0.85      0.85      0.85     10000\n",
      "\n"
     ]
    }
   ],
   "source": [
    "import pandas as pd\n",
    "\n",
    "# Read the CSV file into a DataFrame object\n",
    "df = pd.read_csv('/Users/ALI/Desktop/IMDB Dataset.csv')\n",
    "\n",
    "# Print the first 5 rows of the DataFrame\n",
    "print(df.head(5))\n",
    "reviews_all_en_emb = compute_sentence_embeddings(df['review'], en_embeddings, \"en\")\n",
    "# Apply sentence embeddings to first column of dataframe\n",
    "reviews = df.iloc[:, 0].tolist()\n",
    "reviews_embeddings = compute_sentence_embeddings(reviews, en_embeddings, \"en\")\n",
    "\n",
    "# Add new column with embeddings to dataframe\n",
    "df['English_Embeddings'] = reviews_embeddings\n",
    "\n",
    "import pandas as pd\n",
    "import numpy as np\n",
    "from sklearn.model_selection import train_test_split\n",
    "from sklearn.svm import SVC\n",
    "from sklearn.metrics import accuracy_score\n",
    "from sklearn.preprocessing import StandardScaler\n",
    "\n",
    "# Separate the input features (sentence embeddings) and output labels (sentiment)\n",
    "X = np.vstack(df[\"English_Embeddings\"])  # input features (sentence embeddings)\n",
    "y = df[\"sentiment\"]  # output labels (sentiment)\n",
    "\n",
    "# Split the data into training and testing sets\n",
    "X_train, X_test, y_train, y_test = train_test_split(X, y, test_size=0.2, random_state=42)\n",
    "\n",
    "# Standardize the input features using a scaler\n",
    "scaler = StandardScaler()\n",
    "X_train = scaler.fit_transform(X_train)\n",
    "X_test = scaler.transform(X_test)\n",
    "\n",
    "# Train an SVM with RBF kernel on the standardized training set\n",
    "svm = SVC(kernel='rbf')\n",
    "history = svm.fit(X_train, y_train)\n",
    "\n",
    "# Evaluate the performance of the SVM on the standardized testing set\n",
    "y_pred = svm.predict(X_test)\n",
    "\n",
    "\n",
    "accuracy = accuracy_score(y_test, y_pred)\n",
    "report = classification_report(y_test, y_pred)\n",
    "print(\"Accuracy:\", accuracy)\n",
    "print(report)"
   ]
  },
  {
   "cell_type": "code",
   "execution_count": 15,
   "id": "a938c39e",
   "metadata": {},
   "outputs": [
    {
     "name": "stdout",
     "output_type": "stream",
     "text": [
      "[[4217  744]\n",
      " [ 707 4332]]\n"
     ]
    },
    {
     "data": {
      "image/png": "[encoded data removed]",
      "text/plain": [
       "<Figure size 640x480 with 2 Axes>"
      ]
     },
     "metadata": {},
     "output_type": "display_data"
    }
   ],
   "source": [
    "import numpy as np\n",
    "import seaborn as sns\n",
    "import matplotlib.pyplot as plt\n",
    "from sklearn.metrics import confusion_matrix\n",
    "\n",
    "cm = confusion_matrix(y_test, y_pred)\n",
    "\n",
    "print(cm)\n",
    "\n",
    "# Create a heatmap\n",
    "sns.heatmap(cm, annot=True, fmt=\"d\", cmap=\"Blues\")\n",
    "\n",
    "# Add labels, title, and ticks\n",
    "plt.xlabel(\"Predicted Labels\")\n",
    "plt.ylabel(\"True Labels\")\n",
    "plt.title(\"Confusion Matrix\")\n",
    "\n",
    "# Show the plot\n",
    "plt.show()"
   ]
  },
  {
   "cell_type": "code",
   "execution_count": null,
   "id": "c934b61c",
   "metadata": {},
   "outputs": [],
   "source": []
  },
  {
   "cell_type": "code",
   "execution_count": 16,
   "id": "a9972399",
   "metadata": {},
   "outputs": [
    {
     "name": "stdout",
     "output_type": "stream",
     "text": [
      "(105698, 7)\n",
      "(500, 7)\n",
      "Accuracy: 0.78125\n",
      "              precision    recall  f1-score   support\n",
      "\n",
      "    negative       0.80      0.75      0.77        16\n",
      "    positive       0.76      0.81      0.79        16\n",
      "\n",
      "    accuracy                           0.78        32\n",
      "   macro avg       0.78      0.78      0.78        32\n",
      "weighted avg       0.78      0.78      0.78        32\n",
      "\n"
     ]
    }
   ],
   "source": [
    "# svm = joblib.load('SVM_rbf_Stand_beforeFineTuning.pkl')\n",
    "df_ = pd.read_excel('../../base-line/balanced-reviews.xlsx')\n",
    "print(df_.shape)\n",
    "# df = df.head(500)\n",
    "# Select the first 500 rows of the dataset\n",
    "df = df_.iloc[:500]\n",
    "\n",
    "# Select the next 500 rows of the dataset\n",
    "df2 = df_.iloc[500:1000]\n",
    "# print(df1.shape)\n",
    "print(df2.shape)\n",
    "# df.head()\n",
    "\n",
    "# determine the minimum number of rows for each rating value\n",
    "min_count = df[\"rating\"].value_counts().min()\n",
    "min_count = 40\n",
    "# subset the original dataset for each rating value\n",
    "df_1 = df[df[\"rating\"] == 1]\n",
    "df_2 = df[df[\"rating\"] == 2]\n",
    "df_4 = df[df[\"rating\"] == 4]\n",
    "df_5 = df[df[\"rating\"] == 5]\n",
    "\n",
    "# randomly sample the minimum number of rows for each rating value\n",
    "df_1_sampled = df_1.sample(n=min_count, random_state=42)\n",
    "df_2_sampled = df_2.sample(n=min_count, random_state=42)\n",
    "df_4_sampled = df_4.sample(n=min_count, random_state=42)\n",
    "df_5_sampled = df_5.sample(n=min_count, random_state=42)\n",
    "\n",
    "# combine the sampled rows for each rating value into a new dataset\n",
    "df_balanced = pd.concat([df_1_sampled, df_2_sampled, df_4_sampled, df_5_sampled])\n",
    "\n",
    "# save the balanced dataset to a new file\n",
    "df_balanced.to_csv(\"balanced_dataset.csv\", index=False)\n",
    "\n",
    "df = pd.read_csv('balanced_dataset.csv')\n",
    "# Define a function to map the rating to sentiment\n",
    "def map_sentiment(rating):\n",
    "    if rating in [1, 2]:\n",
    "        return \"negative\"\n",
    "    elif rating in [4, 5]:\n",
    "        return \"positive\"\n",
    "    else:\n",
    "        raise ValueError(\"Invalid rating value: {}\".format(rating))\n",
    "\n",
    "# Apply the function to the 'rating' column and create a new 'sentiment' column\n",
    "df['sentiment'] = df['rating'].apply(map_sentiment)\n",
    "\n",
    "# Apply sentence embeddings to first column of dataframe\n",
    "reviews = df['review'].tolist()\n",
    "reviews_embeddings = compute_sentence_embeddings(reviews, ar_embeddings, \"ar\")\n",
    "\n",
    "# Add new column with embeddings to dataframe\n",
    "df['arabic_Embeddings'] = reviews_embeddings\n",
    "\n",
    "import pandas as pd\n",
    "from sklearn.model_selection import train_test_split\n",
    "\n",
    "\n",
    "\n",
    "X = np.vstack(df['arabic_Embeddings']) \n",
    "y = df['sentiment']\n",
    "\n",
    "X_train, X_test, y_train, y_test = train_test_split(X, y, test_size=0.2, random_state=42)\n",
    "\n",
    "\n",
    "history = svm.fit(X_train, y_train)\n",
    "\n",
    "# Evaluate the performance of the SVM on the testing set\n",
    "y_pred = svm.predict(X_test)\n",
    "\n",
    "\n",
    "accuracy = accuracy_score(y_test, y_pred)\n",
    "report = classification_report(y_test, y_pred)\n",
    "print(\"Accuracy:\", accuracy)\n",
    "print(report)"
   ]
  },
  {
   "cell_type": "code",
   "execution_count": 17,
   "id": "ce63fc89",
   "metadata": {},
   "outputs": [
    {
     "name": "stdout",
     "output_type": "stream",
     "text": [
      "[[12  4]\n",
      " [ 3 13]]\n"
     ]
    },
    {
     "data": {
      "image/png": "[encoded data removed]",
      "text/plain": [
       "<Figure size 640x480 with 2 Axes>"
      ]
     },
     "metadata": {},
     "output_type": "display_data"
    }
   ],
   "source": [
    "import numpy as np\n",
    "import seaborn as sns\n",
    "import matplotlib.pyplot as plt\n",
    "from sklearn.metrics import confusion_matrix\n",
    "\n",
    "cm = confusion_matrix(y_test, y_pred)\n",
    "\n",
    "print(cm)\n",
    "\n",
    "# Create a heatmap\n",
    "sns.heatmap(cm, annot=True, fmt=\"d\", cmap=\"Blues\")\n",
    "\n",
    "# Add labels, title, and ticks\n",
    "plt.xlabel(\"Predicted Labels\")\n",
    "plt.ylabel(\"True Labels\")\n",
    "plt.title(\"Confusion Matrix\")\n",
    "\n",
    "# Show the plot\n",
    "plt.show()"
   ]
  },
  {
   "cell_type": "code",
   "execution_count": null,
   "id": "4ffb836d",
   "metadata": {},
   "outputs": [],
   "source": []
  },
  {
   "cell_type": "code",
   "execution_count": 18,
   "id": "bc19a77a",
   "metadata": {},
   "outputs": [
    {
     "name": "stdout",
     "output_type": "stream",
     "text": [
      "Accuracy: 0.83125\n",
      "              precision    recall  f1-score   support\n",
      "\n",
      "    negative       0.84      0.82      0.83        80\n",
      "    positive       0.83      0.84      0.83        80\n",
      "\n",
      "    accuracy                           0.83       160\n",
      "   macro avg       0.83      0.83      0.83       160\n",
      "weighted avg       0.83      0.83      0.83       160\n",
      "\n"
     ]
    }
   ],
   "source": [
    "\n",
    "# determine the minimum number of rows for each rating value\n",
    "min_count = df2[\"rating\"].value_counts().min()\n",
    "min_count = 40\n",
    "# subset the original dataset for each rating value\n",
    "df_1 = df2[df2[\"rating\"] == 1]\n",
    "df_2 = df2[df2[\"rating\"] == 2]\n",
    "df_4 = df2[df2[\"rating\"] == 4]\n",
    "df_5 = df2[df2[\"rating\"] == 5]\n",
    "\n",
    "# randomly sample the minimum number of rows for each rating value\n",
    "df_1_sampled = df_1.sample(n=min_count, random_state=42)\n",
    "df_2_sampled = df_2.sample(n=min_count, random_state=42)\n",
    "df_4_sampled = df_4.sample(n=min_count, random_state=42)\n",
    "df_5_sampled = df_5.sample(n=min_count, random_state=42)\n",
    "\n",
    "# combine the sampled rows for each rating value into a new dataset\n",
    "df_balanced = pd.concat([df_1_sampled, df_2_sampled, df_4_sampled, df_5_sampled])\n",
    "\n",
    "# save the balanced dataset to a new file\n",
    "df_balanced.to_csv(\"balanced_dataset.csv\", index=False)\n",
    "\n",
    "df = pd.read_csv('balanced_dataset.csv')\n",
    "# Define a function to map the rating to sentiment\n",
    "def map_sentiment(rating):\n",
    "    if rating in [1, 2]:\n",
    "        return \"negative\"\n",
    "    elif rating in [4, 5]:\n",
    "        return \"positive\"\n",
    "    else:\n",
    "        raise ValueError(\"Invalid rating value: {}\".format(rating))\n",
    "\n",
    "# Apply the function to the 'rating' column and create a new 'sentiment' column\n",
    "df['sentiment'] = df['rating'].apply(map_sentiment)\n",
    "\n",
    "# Apply sentence embeddings to first column of dataframe\n",
    "reviews = df['review'].tolist()\n",
    "reviews_embeddings = compute_sentence_embeddings(reviews, ar_embeddings, \"ar\")\n",
    "\n",
    "# Add new column with embeddings to dataframe\n",
    "df['arabic_Embeddings'] = reviews_embeddings\n",
    "\n",
    "X_test = np.vstack(df['arabic_Embeddings']) \n",
    "y_test = df['sentiment']\n",
    "y_pred = svm.predict(X_test)\n",
    "\n",
    "\n",
    "accuracy = accuracy_score(y_test, y_pred)\n",
    "report = classification_report(y_test, y_pred)\n",
    "print(\"Accuracy:\", accuracy)\n",
    "print(report)"
   ]
  },
  {
   "cell_type": "code",
   "execution_count": 19,
   "id": "28c88e8f",
   "metadata": {},
   "outputs": [
    {
     "name": "stdout",
     "output_type": "stream",
     "text": [
      "[[66 14]\n",
      " [13 67]]\n"
     ]
    },
    {
     "data": {
      "image/png": "[encoded data removed]",
      "text/plain": [
       "<Figure size 640x480 with 2 Axes>"
      ]
     },
     "metadata": {},
     "output_type": "display_data"
    }
   ],
   "source": [
    "import numpy as np\n",
    "import seaborn as sns\n",
    "import matplotlib.pyplot as plt\n",
    "from sklearn.metrics import confusion_matrix\n",
    "\n",
    "cm = confusion_matrix(y_test, y_pred)\n",
    "\n",
    "print(cm)\n",
    "\n",
    "# Create a heatmap\n",
    "sns.heatmap(cm, annot=True, fmt=\"d\", cmap=\"Blues\")\n",
    "\n",
    "# Add labels, title, and ticks\n",
    "plt.xlabel(\"Predicted Labels\")\n",
    "plt.ylabel(\"True Labels\")\n",
    "plt.title(\"Confusion Matrix\")\n",
    "\n",
    "# Show the plot\n",
    "plt.show()"
   ]
  },
  {
   "cell_type": "markdown",
   "id": "aa61752b",
   "metadata": {},
   "source": [
    "## Stand SVM linear - Fine Tunning before Testing on Arabic"
   ]
  },
  {
   "cell_type": "code",
   "execution_count": 20,
   "id": "7126aa84",
   "metadata": {},
   "outputs": [
    {
     "name": "stdout",
     "output_type": "stream",
     "text": [
      "                                              review sentiment\n",
      "0  One of the other reviewers has mentioned that ...  positive\n",
      "1  A wonderful little production. <br /><br />The...  positive\n",
      "2  I thought this was a wonderful way to spend ti...  positive\n",
      "3  Basically there's a family where a little boy ...  negative\n",
      "4  Petter Mattei's \"Love in the Time of Money\" is...  positive\n",
      "Accuracy: 0.8388\n",
      "              precision    recall  f1-score   support\n",
      "\n",
      "    negative       0.84      0.84      0.84      4961\n",
      "    positive       0.84      0.84      0.84      5039\n",
      "\n",
      "    accuracy                           0.84     10000\n",
      "   macro avg       0.84      0.84      0.84     10000\n",
      "weighted avg       0.84      0.84      0.84     10000\n",
      "\n"
     ]
    }
   ],
   "source": [
    "import pandas as pd\n",
    "\n",
    "# Read the CSV file into a DataFrame object\n",
    "df = pd.read_csv('/Users/ALI/Desktop/IMDB Dataset.csv')\n",
    "\n",
    "# Print the first 5 rows of the DataFrame\n",
    "print(df.head(5))\n",
    "reviews_all_en_emb = compute_sentence_embeddings(df['review'], en_embeddings, \"en\")\n",
    "# Apply sentence embeddings to first column of dataframe\n",
    "reviews = df.iloc[:, 0].tolist()\n",
    "reviews_embeddings = compute_sentence_embeddings(reviews, en_embeddings, \"en\")\n",
    "\n",
    "# Add new column with embeddings to dataframe\n",
    "df['English_Embeddings'] = reviews_embeddings\n",
    "\n",
    "import pandas as pd\n",
    "import numpy as np\n",
    "from sklearn.model_selection import train_test_split\n",
    "from sklearn.svm import SVC\n",
    "from sklearn.metrics import accuracy_score\n",
    "from sklearn.preprocessing import StandardScaler\n",
    "\n",
    "# Separate the input features (sentence embeddings) and output labels (sentiment)\n",
    "X = np.vstack(df[\"English_Embeddings\"])  # input features (sentence embeddings)\n",
    "y = df[\"sentiment\"]  # output labels (sentiment)\n",
    "\n",
    "# Split the data into training and testing sets\n",
    "X_train, X_test, y_train, y_test = train_test_split(X, y, test_size=0.2, random_state=42)\n",
    "\n",
    "# Standardize the input features using a scaler\n",
    "scaler = StandardScaler()\n",
    "X_train = scaler.fit_transform(X_train)\n",
    "X_test = scaler.transform(X_test)\n",
    "\n",
    "# Train an SVM with linear kernel on the standardized training set\n",
    "svm = SVC(kernel='linear')\n",
    "history = svm.fit(X_train, y_train)\n",
    "\n",
    "# Evaluate the performance of the SVM on the standardized testing set\n",
    "y_pred = svm.predict(X_test)\n",
    "\n",
    "\n",
    "accuracy = accuracy_score(y_test, y_pred)\n",
    "report = classification_report(y_test, y_pred)\n",
    "print(\"Accuracy:\", accuracy)\n",
    "print(report)"
   ]
  },
  {
   "cell_type": "code",
   "execution_count": null,
   "id": "2af3951c",
   "metadata": {},
   "outputs": [],
   "source": []
  },
  {
   "cell_type": "code",
   "execution_count": 21,
   "id": "eed6ac20",
   "metadata": {},
   "outputs": [
    {
     "name": "stdout",
     "output_type": "stream",
     "text": [
      "[[4168  793]\n",
      " [ 819 4220]]\n"
     ]
    },
    {
     "data": {
      "image/png": "[encoded data removed]",
      "text/plain": [
       "<Figure size 640x480 with 2 Axes>"
      ]
     },
     "metadata": {},
     "output_type": "display_data"
    }
   ],
   "source": [
    "import numpy as np\n",
    "import seaborn as sns\n",
    "import matplotlib.pyplot as plt\n",
    "from sklearn.metrics import confusion_matrix\n",
    "\n",
    "cm = confusion_matrix(y_test, y_pred)\n",
    "\n",
    "print(cm)\n",
    "\n",
    "# Create a heatmap\n",
    "sns.heatmap(cm, annot=True, fmt=\"d\", cmap=\"Blues\")\n",
    "\n",
    "# Add labels, title, and ticks\n",
    "plt.xlabel(\"Predicted Labels\")\n",
    "plt.ylabel(\"True Labels\")\n",
    "plt.title(\"Confusion Matrix\")\n",
    "\n",
    "# Show the plot\n",
    "plt.show()"
   ]
  },
  {
   "cell_type": "code",
   "execution_count": null,
   "id": "6ebce466",
   "metadata": {},
   "outputs": [],
   "source": []
  },
  {
   "cell_type": "code",
   "execution_count": 22,
   "id": "f1693baf",
   "metadata": {},
   "outputs": [
    {
     "name": "stdout",
     "output_type": "stream",
     "text": [
      "(105698, 7)\n",
      "(500, 7)\n",
      "Accuracy: 0.78125\n",
      "              precision    recall  f1-score   support\n",
      "\n",
      "    negative       0.76      0.81      0.79        16\n",
      "    positive       0.80      0.75      0.77        16\n",
      "\n",
      "    accuracy                           0.78        32\n",
      "   macro avg       0.78      0.78      0.78        32\n",
      "weighted avg       0.78      0.78      0.78        32\n",
      "\n"
     ]
    }
   ],
   "source": [
    "# svm = joblib.load('SVM_linear_beforeFineTuning.pkl')\n",
    "df_ = pd.read_excel('../../base-line/balanced-reviews.xlsx')\n",
    "print(df_.shape)\n",
    "# df = df.head(500)\n",
    "# Select the first 500 rows of the dataset\n",
    "df = df_.iloc[:500]\n",
    "\n",
    "# Select the next 500 rows of the dataset\n",
    "df2 = df_.iloc[500:1000]\n",
    "# print(df1.shape)\n",
    "print(df2.shape)\n",
    "# df.head()\n",
    "\n",
    "# determine the minimum number of rows for each rating value\n",
    "min_count = df[\"rating\"].value_counts().min()\n",
    "min_count = 40\n",
    "# subset the original dataset for each rating value\n",
    "df_1 = df[df[\"rating\"] == 1]\n",
    "df_2 = df[df[\"rating\"] == 2]\n",
    "df_4 = df[df[\"rating\"] == 4]\n",
    "df_5 = df[df[\"rating\"] == 5]\n",
    "\n",
    "# randomly sample the minimum number of rows for each rating value\n",
    "df_1_sampled = df_1.sample(n=min_count, random_state=42)\n",
    "df_2_sampled = df_2.sample(n=min_count, random_state=42)\n",
    "df_4_sampled = df_4.sample(n=min_count, random_state=42)\n",
    "df_5_sampled = df_5.sample(n=min_count, random_state=42)\n",
    "\n",
    "# combine the sampled rows for each rating value into a new dataset\n",
    "df_balanced = pd.concat([df_1_sampled, df_2_sampled, df_4_sampled, df_5_sampled])\n",
    "\n",
    "# save the balanced dataset to a new file\n",
    "df_balanced.to_csv(\"balanced_dataset.csv\", index=False)\n",
    "\n",
    "df = pd.read_csv('balanced_dataset.csv')\n",
    "# Define a function to map the rating to sentiment\n",
    "def map_sentiment(rating):\n",
    "    if rating in [1, 2]:\n",
    "        return \"negative\"\n",
    "    elif rating in [4, 5]:\n",
    "        return \"positive\"\n",
    "    else:\n",
    "        raise ValueError(\"Invalid rating value: {}\".format(rating))\n",
    "\n",
    "# Apply the function to the 'rating' column and create a new 'sentiment' column\n",
    "df['sentiment'] = df['rating'].apply(map_sentiment)\n",
    "\n",
    "# Apply sentence embeddings to first column of dataframe\n",
    "reviews = df['review'].tolist()\n",
    "reviews_embeddings = compute_sentence_embeddings(reviews, ar_embeddings, \"ar\")\n",
    "\n",
    "# Add new column with embeddings to dataframe\n",
    "df['arabic_Embeddings'] = reviews_embeddings\n",
    "\n",
    "import pandas as pd\n",
    "from sklearn.model_selection import train_test_split\n",
    "\n",
    "\n",
    "\n",
    "X = np.vstack(df['arabic_Embeddings']) \n",
    "y = df['sentiment']\n",
    "\n",
    "X_train, X_test, y_train, y_test = train_test_split(X, y, test_size=0.2, random_state=42)\n",
    "\n",
    "\n",
    "history = svm.fit(X_train, y_train)\n",
    "\n",
    "# Evaluate the performance of the SVM on the testing set\n",
    "y_pred = svm.predict(X_test)\n",
    "\n",
    "\n",
    "accuracy = accuracy_score(y_test, y_pred)\n",
    "report = classification_report(y_test, y_pred)\n",
    "print(\"Accuracy:\", accuracy)\n",
    "print(report)"
   ]
  },
  {
   "cell_type": "code",
   "execution_count": null,
   "id": "8623de8e",
   "metadata": {},
   "outputs": [],
   "source": []
  },
  {
   "cell_type": "code",
   "execution_count": 24,
   "id": "1cd30d97",
   "metadata": {},
   "outputs": [
    {
     "name": "stdout",
     "output_type": "stream",
     "text": [
      "Accuracy: 0.80625\n",
      "              precision    recall  f1-score   support\n",
      "\n",
      "    negative       0.80      0.81      0.81        80\n",
      "    positive       0.81      0.80      0.81        80\n",
      "\n",
      "    accuracy                           0.81       160\n",
      "   macro avg       0.81      0.81      0.81       160\n",
      "weighted avg       0.81      0.81      0.81       160\n",
      "\n"
     ]
    }
   ],
   "source": [
    "\n",
    "# determine the minimum number of rows for each rating value\n",
    "min_count = df2[\"rating\"].value_counts().min()\n",
    "min_count = 40\n",
    "# subset the original dataset for each rating value\n",
    "df_1 = df2[df2[\"rating\"] == 1]\n",
    "df_2 = df2[df2[\"rating\"] == 2]\n",
    "df_4 = df2[df2[\"rating\"] == 4]\n",
    "df_5 = df2[df2[\"rating\"] == 5]\n",
    "\n",
    "# randomly sample the minimum number of rows for each rating value\n",
    "df_1_sampled = df_1.sample(n=min_count, random_state=42)\n",
    "df_2_sampled = df_2.sample(n=min_count, random_state=42)\n",
    "df_4_sampled = df_4.sample(n=min_count, random_state=42)\n",
    "df_5_sampled = df_5.sample(n=min_count, random_state=42)\n",
    "\n",
    "# combine the sampled rows for each rating value into a new dataset\n",
    "df_balanced = pd.concat([df_1_sampled, df_2_sampled, df_4_sampled, df_5_sampled])\n",
    "\n",
    "# save the balanced dataset to a new file\n",
    "df_balanced.to_csv(\"balanced_dataset.csv\", index=False)\n",
    "\n",
    "df = pd.read_csv('balanced_dataset.csv')\n",
    "# Define a function to map the rating to sentiment\n",
    "def map_sentiment(rating):\n",
    "    if rating in [1, 2]:\n",
    "        return \"negative\"\n",
    "    elif rating in [4, 5]:\n",
    "        return \"positive\"\n",
    "    else:\n",
    "        raise ValueError(\"Invalid rating value: {}\".format(rating))\n",
    "\n",
    "# Apply the function to the 'rating' column and create a new 'sentiment' column\n",
    "df['sentiment'] = df['rating'].apply(map_sentiment)\n",
    "\n",
    "# Apply sentence embeddings to first column of dataframe\n",
    "reviews = df['review'].tolist()\n",
    "reviews_embeddings = compute_sentence_embeddings(reviews, ar_embeddings, \"ar\")\n",
    "\n",
    "# Add new column with embeddings to dataframe\n",
    "df['arabic_Embeddings'] = reviews_embeddings\n",
    "\n",
    "X_test = np.vstack(df['arabic_Embeddings']) \n",
    "y_test = df['sentiment']\n",
    "y_pred = svm.predict(X_test)\n",
    "\n",
    "\n",
    "accuracy = accuracy_score(y_test, y_pred)\n",
    "report = classification_report(y_test, y_pred)\n",
    "print(\"Accuracy:\", accuracy)\n",
    "print(report)"
   ]
  },
  {
   "cell_type": "code",
   "execution_count": 25,
   "id": "231108f6",
   "metadata": {},
   "outputs": [
    {
     "name": "stdout",
     "output_type": "stream",
     "text": [
      "[[65 15]\n",
      " [16 64]]\n"
     ]
    },
    {
     "data": {
      "image/png": "[encoded data removed]",
      "text/plain": [
       "<Figure size 640x480 with 2 Axes>"
      ]
     },
     "metadata": {},
     "output_type": "display_data"
    }
   ],
   "source": [
    "import numpy as np\n",
    "import seaborn as sns\n",
    "import matplotlib.pyplot as plt\n",
    "from sklearn.metrics import confusion_matrix\n",
    "\n",
    "cm = confusion_matrix(y_test, y_pred)\n",
    "\n",
    "print(cm)\n",
    "\n",
    "# Create a heatmap\n",
    "sns.heatmap(cm, annot=True, fmt=\"d\", cmap=\"Blues\")\n",
    "\n",
    "# Add labels, title, and ticks\n",
    "plt.xlabel(\"Predicted Labels\")\n",
    "plt.ylabel(\"True Labels\")\n",
    "plt.title(\"Confusion Matrix\")\n",
    "\n",
    "# Show the plot\n",
    "plt.show()"
   ]
  },
  {
   "cell_type": "code",
   "execution_count": null,
   "id": "4600c9d2",
   "metadata": {},
   "outputs": [],
   "source": []
  },
  {
   "cell_type": "code",
   "execution_count": null,
   "id": "0e04e264",
   "metadata": {},
   "outputs": [],
   "source": []
  }
 ],
 "metadata": {
  "kernelspec": {
   "display_name": "Python 3 (ipykernel)",
   "language": "python",
   "name": "python3"
  },
  "language_info": {
   "codemirror_mode": {
    "name": "ipython",
    "version": 3
   },
   "file_extension": ".py",
   "mimetype": "text/x-python",
   "name": "python",
   "nbconvert_exporter": "python",
   "pygments_lexer": "ipython3",
   "version": "3.9.7"
  }
 },
 "nbformat": 4,
 "nbformat_minor": 5
}
